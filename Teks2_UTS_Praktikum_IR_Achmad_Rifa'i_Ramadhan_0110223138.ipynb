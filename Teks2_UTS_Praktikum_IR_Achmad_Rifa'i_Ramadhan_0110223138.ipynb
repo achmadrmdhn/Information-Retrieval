{
  "nbformat": 4,
  "nbformat_minor": 0,
  "metadata": {
    "colab": {
      "provenance": []
    },
    "kernelspec": {
      "name": "python3",
      "display_name": "Python 3"
    },
    "language_info": {
      "name": "python"
    }
  },
  "cells": [
    {
      "cell_type": "markdown",
      "source": [
        "**Nama : Achmad Rifa'i Ramadhan**\n",
        "\n",
        "**NIM : 0110223138**"
      ],
      "metadata": {
        "id": "DypULwQ8k19Q"
      }
    },
    {
      "cell_type": "markdown",
      "source": [
        "Soal:\n",
        "6. Salah satu implementasi dari penerapan IR adalah indexing. Gunakan tentungkan index dari teks1 menggunakan metode term frequency (TF)! (20)\n",
        "7. Selain dari indexing, penerapan yang lain dari IR adalah perangkuman teks. Lakukan perangkuman teks1 menggunakan metode term frequency - invers document frequency (TF-IDF) (20)"
      ],
      "metadata": {
        "id": "eYfH3K7dlN94"
      }
    },
    {
      "cell_type": "markdown",
      "source": [
        "##6. Index menggunakan metode Term Frequency (TF)"
      ],
      "metadata": {
        "id": "Ygj45Amwpvsn"
      }
    },
    {
      "cell_type": "code",
      "execution_count": 204,
      "metadata": {
        "colab": {
          "base_uri": "https://localhost:8080/"
        },
        "id": "J8z0B_pfkuTB",
        "outputId": "c3e6e900-b60d-4205-e3b3-4bd95c08f861"
      },
      "outputs": [
        {
          "output_type": "stream",
          "name": "stdout",
          "text": [
            "Requirement already satisfied: nltk in /usr/local/lib/python3.10/dist-packages (3.9.1)\n",
            "Requirement already satisfied: click in /usr/local/lib/python3.10/dist-packages (from nltk) (8.1.7)\n",
            "Requirement already satisfied: joblib in /usr/local/lib/python3.10/dist-packages (from nltk) (1.4.2)\n",
            "Requirement already satisfied: regex>=2021.8.3 in /usr/local/lib/python3.10/dist-packages (from nltk) (2024.9.11)\n",
            "Requirement already satisfied: tqdm in /usr/local/lib/python3.10/dist-packages (from nltk) (4.66.6)\n"
          ]
        },
        {
          "output_type": "stream",
          "name": "stderr",
          "text": [
            "[nltk_data] Downloading package punkt to /root/nltk_data...\n",
            "[nltk_data]   Package punkt is already up-to-date!\n",
            "[nltk_data] Downloading package punkt_tab to /root/nltk_data...\n",
            "[nltk_data]   Package punkt_tab is already up-to-date!\n",
            "[nltk_data] Downloading package stopwords to /root/nltk_data...\n",
            "[nltk_data]   Package stopwords is already up-to-date!\n"
          ]
        }
      ],
      "source": [
        "# Mengimpor dan menginstal seluruh library\n",
        "!pip install nltk\n",
        "import nltk # Mengimpor pustaka NLTK untuk pemprosesan bahasa alami\n",
        "from nltk.corpus import stopwords # Mengimpor modul stopwords dari pustaka NLTK\n",
        "from nltk.tokenize import sent_tokenize, word_tokenize  # Mengimpor fungsi untuk memecah teks menjadi kalimat dan kata\n",
        "from math import log # Mengimpor fungsi logaritma untuk perhitungan IDF dalam TF-IDF\n",
        "import numpy as np # Mengimpor pustaka numpy untuk perhitungan numerik\n",
        "\n",
        "nltk.download('punkt') # Mengunduh data untuk tokenisasi kalimat dan kata\n",
        "nltk.download('punkt_tab') # Library tambahan\n",
        "nltk.download('stopwords') # Mengunduh daftar stopword untuk bahasa inggris dari NLTK\n",
        "stop_words = set(stopwords.words('english')) # Membuat himpunan stopword bahasa inggris"
      ]
    },
    {
      "cell_type": "code",
      "source": [
        "# Fungsi untuk menghitung frekuensi kata (Term Frequency) dalam teks\n",
        "def compute_word_frequency(text):\n",
        "    words = word_tokenize(text.lower())\n",
        "    frequency_table = {}\n",
        "    for word in words:\n",
        "        if word not in stop_words:\n",
        "            frequency_table[word] = frequency_table.get(word, 0) + 1\n",
        "    return frequency_table"
      ],
      "metadata": {
        "id": "geZVfpX4k2v5"
      },
      "execution_count": 205,
      "outputs": []
    },
    {
      "cell_type": "code",
      "source": [
        "# Paragraf Teks2\n",
        "text2 = (\n",
        "    \"Human body parts and organs \"\n",
        "    \"It goes without saying that humans (mammals identifiable as those that stand upright and are comparatively advanced and capable of detailed thought) have pretty remarkable bodies, given all that they've accomplished. (Furthermore, an especially intelligent human brain produced this text!) To be sure, humans have overcome predators, disease, and all sorts of other obstacles over thousands of years. \"\n",
        "    \"To fully understand and appreciate these accomplishments, let's take at some of the most well-known parts of the human body! \"\n",
        "    \"The head, or the spherical body part that contains the brain and rests at the top of the human body, has quite a few individual organs and body parts on it. (It should quickly be mentioned that hair occupies the space on top of the head, and the ears, the organs responsible for hearing, are located on either side of the head.) From top to bottom, the eyebrows, or horizontal strips of hair that can be found above the eye, are the first components of the head. The eyes are below them, and are round, orb-like organs that allow humans to see. \"\n",
        "    \"The eyes make way for the nose, or an external (sticking-out) organ that plays an important part in the breathing and bacteria-elimination processes. Below that is the mouth, or a wide, cavernous organ that chews food, removes bacteria, helps with breathing, and more. The mouth contains teeth, or small, white-colored, pointed body parts used to chew food, and the tongue, or a red-colored, boneless organ used to chew food and speak. \"\n",
        "    \"The neck is the long body part that connects the head to the chest (the muscular body part that protects the heart and lungs), and the stomach, or the part of the body that contains food and liquid-processing organs, comes below that. \"\n",
        "    \"The legs are the long, muscular body parts that allow humans to move from one spot to another and perform a variety of actions. Each leg contains a thigh (a thick, especially muscular body part used to perform strenuous motions; the upper part of the leg) and a calf (thinner, more flexible body part that absorbs the shock associated with movement; the lower part of the leg). Feet can be found at the bottom of legs, and each foot is comprised of five toes, or small appendages that help balance. \"\n",
        "    \"Arms are long, powerful body parts that are located on either side of chest, below the shoulders;arms are comprised of biceps (the thicker, more powerful upper portion), and forearms (the thinner, more flexible lower portion). Hands, or small, gripping body parts used for a tremendous number of actions, are at the end of arms. Each hand contains five fingers, or small appendages used to grip objects. \"\n",
        "    \"The aforementioned shoulders are rounded body parts that aid arms' flexibility. One's back is found on the opposite side of the stomach, and is a flat section of the body that contains important muscles that're intended to protect the lungs and other internal organs, in addition to helping humans perform certain motions and actions. \"\n",
        ")"
      ],
      "metadata": {
        "id": "AWe8jd0Up9mJ"
      },
      "execution_count": 206,
      "outputs": []
    },
    {
      "cell_type": "code",
      "source": [
        "# Hitung frekuensi kata dalam teks\n",
        "frequency_table = compute_word_frequency(text2)\n",
        "print(\"Hasil Indexing teks1 dengan metode TF adalah:\\n\", frequency_table)"
      ],
      "metadata": {
        "colab": {
          "base_uri": "https://localhost:8080/"
        },
        "id": "WH9fQNQBqixJ",
        "outputId": "f2f4b5a8-c56e-48c2-a043-52aa287e4a70"
      },
      "execution_count": 207,
      "outputs": [
        {
          "output_type": "stream",
          "name": "stdout",
          "text": [
            "Hasil Indexing teks1 dengan metode TF adalah:\n",
            " {'human': 4, 'body': 16, 'parts': 8, 'organs': 6, 'goes': 1, 'without': 1, 'saying': 1, 'humans': 5, '(': 9, 'mammals': 1, 'identifiable': 1, 'stand': 1, 'upright': 1, 'comparatively': 1, 'advanced': 1, 'capable': 1, 'detailed': 1, 'thought': 1, ')': 9, 'pretty': 1, 'remarkable': 1, 'bodies': 1, ',': 47, 'given': 1, \"'ve\": 1, 'accomplished': 1, '.': 18, 'furthermore': 1, 'especially': 2, 'intelligent': 1, 'brain': 2, 'produced': 1, 'text': 1, '!': 2, 'sure': 1, 'overcome': 1, 'predators': 1, 'disease': 1, 'sorts': 1, 'obstacles': 1, 'thousands': 1, 'years': 1, 'fully': 1, 'understand': 1, 'appreciate': 1, 'accomplishments': 1, 'let': 1, \"'s\": 2, 'take': 1, 'well-known': 1, 'head': 5, 'spherical': 1, 'part': 9, 'contains': 6, 'rests': 1, 'top': 3, 'quite': 1, 'individual': 1, 'quickly': 1, 'mentioned': 1, 'hair': 2, 'occupies': 1, 'space': 1, 'ears': 1, 'responsible': 1, 'hearing': 1, 'located': 2, 'either': 2, 'side': 3, 'bottom': 2, 'eyebrows': 1, 'horizontal': 1, 'strips': 1, 'found': 3, 'eye': 1, 'first': 1, 'components': 1, 'eyes': 2, 'round': 1, 'orb-like': 1, 'allow': 2, 'see': 1, 'make': 1, 'way': 1, 'nose': 1, 'external': 1, 'sticking-out': 1, 'organ': 3, 'plays': 1, 'important': 2, 'breathing': 2, 'bacteria-elimination': 1, 'processes': 1, 'mouth': 2, 'wide': 1, 'cavernous': 1, 'chews': 1, 'food': 4, 'removes': 1, 'bacteria': 1, 'helps': 1, 'teeth': 1, 'small': 4, 'white-colored': 1, 'pointed': 1, 'used': 5, 'chew': 2, 'tongue': 1, 'red-colored': 1, 'boneless': 1, 'speak': 1, 'neck': 1, 'long': 3, 'connects': 1, 'chest': 2, 'muscular': 3, 'protects': 1, 'heart': 1, 'lungs': 2, 'stomach': 2, 'liquid-processing': 1, 'comes': 1, 'legs': 2, 'move': 1, 'one': 2, 'spot': 1, 'another': 1, 'perform': 3, 'variety': 1, 'actions': 3, 'leg': 3, 'thigh': 1, 'thick': 1, 'strenuous': 1, 'motions': 2, ';': 3, 'upper': 2, 'calf': 1, 'thinner': 2, 'flexible': 2, 'absorbs': 1, 'shock': 1, 'associated': 1, 'movement': 1, 'lower': 2, 'feet': 1, 'foot': 1, 'comprised': 2, 'five': 2, 'toes': 1, 'appendages': 2, 'help': 1, 'balance': 1, 'arms': 4, 'powerful': 2, 'shoulders': 2, 'biceps': 1, 'thicker': 1, 'portion': 2, 'forearms': 1, 'hands': 1, 'gripping': 1, 'tremendous': 1, 'number': 1, 'end': 1, 'hand': 1, 'fingers': 1, 'grip': 1, 'objects': 1, 'aforementioned': 1, 'rounded': 1, 'aid': 1, \"'\": 1, 'flexibility': 1, 'back': 1, 'opposite': 1, 'flat': 1, 'section': 1, 'muscles': 1, \"'re\": 1, 'intended': 1, 'protect': 1, 'internal': 1, 'addition': 1, 'helping': 1, 'certain': 1}\n"
          ]
        }
      ]
    },
    {
      "cell_type": "markdown",
      "source": [
        "##7. Perangkuman teks menggunakan metode Term Frequency - Inverse Document Frequency (TF-IDF)"
      ],
      "metadata": {
        "id": "GYORLsgRrnJm"
      }
    },
    {
      "cell_type": "code",
      "source": [
        "# Paragraf Teks2\n",
        "text2 = (\n",
        "    \"Human body parts and organs \"\n",
        "    \"It goes without saying that humans (mammals identifiable as those that stand upright and are comparatively advanced and capable of detailed thought) have pretty remarkable bodies, given all that they've accomplished. (Furthermore, an especially intelligent human brain produced this text!) To be sure, humans have overcome predators, disease, and all sorts of other obstacles over thousands of years. \"\n",
        "    \"To fully understand and appreciate these accomplishments, let's take at some of the most well-known parts of the human body! \"\n",
        "    \"The head, or the spherical body part that contains the brain and rests at the top of the human body, has quite a few individual organs and body parts on it. (It should quickly be mentioned that hair occupies the space on top of the head, and the ears, the organs responsible for hearing, are located on either side of the head.) From top to bottom, the eyebrows, or horizontal strips of hair that can be found above the eye, are the first components of the head. The eyes are below them, and are round, orb-like organs that allow humans to see. \"\n",
        "    \"The eyes make way for the nose, or an external (sticking-out) organ that plays an important part in the breathing and bacteria-elimination processes. Below that is the mouth, or a wide, cavernous organ that chews food, removes bacteria, helps with breathing, and more. The mouth contains teeth, or small, white-colored, pointed body parts used to chew food, and the tongue, or a red-colored, boneless organ used to chew food and speak. \"\n",
        "    \"The neck is the long body part that connects the head to the chest (the muscular body part that protects the heart and lungs), and the stomach, or the part of the body that contains food and liquid-processing organs, comes below that. \"\n",
        "    \"The legs are the long, muscular body parts that allow humans to move from one spot to another and perform a variety of actions. Each leg contains a thigh (a thick, especially muscular body part used to perform strenuous motions; the upper part of the leg) and a calf (thinner, more flexible body part that absorbs the shock associated with movement; the lower part of the leg). Feet can be found at the bottom of legs, and each foot is comprised of five toes, or small appendages that help balance. \"\n",
        "    \"Arms are long, powerful body parts that are located on either side of chest, below the shoulders;arms are comprised of biceps (the thicker, more powerful upper portion), and forearms (the thinner, more flexible lower portion). Hands, or small, gripping body parts used for a tremendous number of actions, are at the end of arms. Each hand contains five fingers, or small appendages used to grip objects. \"\n",
        "    \"The aforementioned shoulders are rounded body parts that aid arms' flexibility. One's back is found on the opposite side of the stomach, and is a flat section of the body that contains important muscles that're intended to protect the lungs and other internal organs, in addition to helping humans perform certain motions and actions. \"\n",
        ")"
      ],
      "metadata": {
        "id": "-5uyuOR7sxQX"
      },
      "execution_count": 208,
      "outputs": []
    },
    {
      "cell_type": "code",
      "source": [
        "# Fungsi menghitung frekuensi kata\n",
        "def compute_word_frequency(text):\n",
        "    words = word_tokenize(text.lower())\n",
        "    frequency_table = {}\n",
        "    for word in words:\n",
        "        if word not in stop_words:\n",
        "            if word in frequency_table:\n",
        "                frequency_table[word] += 1\n",
        "            else:\n",
        "                frequency_table[word] = 1\n",
        "    return frequency_table\n",
        "\n",
        "# Hitung frekuensi kata untuk text\n",
        "frequency_table = compute_word_frequency(text2)\n",
        "\n",
        "# Menampilkan hasil\n",
        "print(\"Frekuensi Kata:\\n\", frequency_table)"
      ],
      "metadata": {
        "colab": {
          "base_uri": "https://localhost:8080/"
        },
        "id": "Qam0vTmbqpyA",
        "outputId": "f5e7ff7d-1db1-4f90-c619-5d79775b65ea"
      },
      "execution_count": 209,
      "outputs": [
        {
          "output_type": "stream",
          "name": "stdout",
          "text": [
            "Frekuensi Kata:\n",
            " {'human': 4, 'body': 16, 'parts': 8, 'organs': 6, 'goes': 1, 'without': 1, 'saying': 1, 'humans': 5, '(': 9, 'mammals': 1, 'identifiable': 1, 'stand': 1, 'upright': 1, 'comparatively': 1, 'advanced': 1, 'capable': 1, 'detailed': 1, 'thought': 1, ')': 9, 'pretty': 1, 'remarkable': 1, 'bodies': 1, ',': 47, 'given': 1, \"'ve\": 1, 'accomplished': 1, '.': 18, 'furthermore': 1, 'especially': 2, 'intelligent': 1, 'brain': 2, 'produced': 1, 'text': 1, '!': 2, 'sure': 1, 'overcome': 1, 'predators': 1, 'disease': 1, 'sorts': 1, 'obstacles': 1, 'thousands': 1, 'years': 1, 'fully': 1, 'understand': 1, 'appreciate': 1, 'accomplishments': 1, 'let': 1, \"'s\": 2, 'take': 1, 'well-known': 1, 'head': 5, 'spherical': 1, 'part': 9, 'contains': 6, 'rests': 1, 'top': 3, 'quite': 1, 'individual': 1, 'quickly': 1, 'mentioned': 1, 'hair': 2, 'occupies': 1, 'space': 1, 'ears': 1, 'responsible': 1, 'hearing': 1, 'located': 2, 'either': 2, 'side': 3, 'bottom': 2, 'eyebrows': 1, 'horizontal': 1, 'strips': 1, 'found': 3, 'eye': 1, 'first': 1, 'components': 1, 'eyes': 2, 'round': 1, 'orb-like': 1, 'allow': 2, 'see': 1, 'make': 1, 'way': 1, 'nose': 1, 'external': 1, 'sticking-out': 1, 'organ': 3, 'plays': 1, 'important': 2, 'breathing': 2, 'bacteria-elimination': 1, 'processes': 1, 'mouth': 2, 'wide': 1, 'cavernous': 1, 'chews': 1, 'food': 4, 'removes': 1, 'bacteria': 1, 'helps': 1, 'teeth': 1, 'small': 4, 'white-colored': 1, 'pointed': 1, 'used': 5, 'chew': 2, 'tongue': 1, 'red-colored': 1, 'boneless': 1, 'speak': 1, 'neck': 1, 'long': 3, 'connects': 1, 'chest': 2, 'muscular': 3, 'protects': 1, 'heart': 1, 'lungs': 2, 'stomach': 2, 'liquid-processing': 1, 'comes': 1, 'legs': 2, 'move': 1, 'one': 2, 'spot': 1, 'another': 1, 'perform': 3, 'variety': 1, 'actions': 3, 'leg': 3, 'thigh': 1, 'thick': 1, 'strenuous': 1, 'motions': 2, ';': 3, 'upper': 2, 'calf': 1, 'thinner': 2, 'flexible': 2, 'absorbs': 1, 'shock': 1, 'associated': 1, 'movement': 1, 'lower': 2, 'feet': 1, 'foot': 1, 'comprised': 2, 'five': 2, 'toes': 1, 'appendages': 2, 'help': 1, 'balance': 1, 'arms': 4, 'powerful': 2, 'shoulders': 2, 'biceps': 1, 'thicker': 1, 'portion': 2, 'forearms': 1, 'hands': 1, 'gripping': 1, 'tremendous': 1, 'number': 1, 'end': 1, 'hand': 1, 'fingers': 1, 'grip': 1, 'objects': 1, 'aforementioned': 1, 'rounded': 1, 'aid': 1, \"'\": 1, 'flexibility': 1, 'back': 1, 'opposite': 1, 'flat': 1, 'section': 1, 'muscles': 1, \"'re\": 1, 'intended': 1, 'protect': 1, 'internal': 1, 'addition': 1, 'helping': 1, 'certain': 1}\n"
          ]
        }
      ]
    },
    {
      "cell_type": "code",
      "source": [
        "# Fungsi memecah teks menjadi kalimat\n",
        "def tokenize_sentences(text):\n",
        "    sentences = sent_tokenize(text)\n",
        "    return sentences\n",
        "\n",
        "# Tokenisasi kalimat untuk text\n",
        "sentences = tokenize_sentences(text2)\n",
        "\n",
        "# Menampilkan hasil\n",
        "print(\"Kalimat dalam Teks:\\n\", sentences)"
      ],
      "metadata": {
        "colab": {
          "base_uri": "https://localhost:8080/"
        },
        "id": "k3x-ho4Tr3K-",
        "outputId": "c2154ae2-968b-4e03-84ec-46d6e6fe56be"
      },
      "execution_count": 210,
      "outputs": [
        {
          "output_type": "stream",
          "name": "stdout",
          "text": [
            "Kalimat dalam Teks:\n",
            " [\"Human body parts and organs It goes without saying that humans (mammals identifiable as those that stand upright and are comparatively advanced and capable of detailed thought) have pretty remarkable bodies, given all that they've accomplished.\", '(Furthermore, an especially intelligent human brain produced this text!)', 'To be sure, humans have overcome predators, disease, and all sorts of other obstacles over thousands of years.', \"To fully understand and appreciate these accomplishments, let's take at some of the most well-known parts of the human body!\", 'The head, or the spherical body part that contains the brain and rests at the top of the human body, has quite a few individual organs and body parts on it.', '(It should quickly be mentioned that hair occupies the space on top of the head, and the ears, the organs responsible for hearing, are located on either side of the head.)', 'From top to bottom, the eyebrows, or horizontal strips of hair that can be found above the eye, are the first components of the head.', 'The eyes are below them, and are round, orb-like organs that allow humans to see.', 'The eyes make way for the nose, or an external (sticking-out) organ that plays an important part in the breathing and bacteria-elimination processes.', 'Below that is the mouth, or a wide, cavernous organ that chews food, removes bacteria, helps with breathing, and more.', 'The mouth contains teeth, or small, white-colored, pointed body parts used to chew food, and the tongue, or a red-colored, boneless organ used to chew food and speak.', 'The neck is the long body part that connects the head to the chest (the muscular body part that protects the heart and lungs), and the stomach, or the part of the body that contains food and liquid-processing organs, comes below that.', 'The legs are the long, muscular body parts that allow humans to move from one spot to another and perform a variety of actions.', 'Each leg contains a thigh (a thick, especially muscular body part used to perform strenuous motions; the upper part of the leg) and a calf (thinner, more flexible body part that absorbs the shock associated with movement; the lower part of the leg).', 'Feet can be found at the bottom of legs, and each foot is comprised of five toes, or small appendages that help balance.', 'Arms are long, powerful body parts that are located on either side of chest, below the shoulders;arms are comprised of biceps (the thicker, more powerful upper portion), and forearms (the thinner, more flexible lower portion).', 'Hands, or small, gripping body parts used for a tremendous number of actions, are at the end of arms.', 'Each hand contains five fingers, or small appendages used to grip objects.', \"The aforementioned shoulders are rounded body parts that aid arms' flexibility.\", \"One's back is found on the opposite side of the stomach, and is a flat section of the body that contains important muscles that're intended to protect the lungs and other internal organs, in addition to helping humans perform certain motions and actions.\"]\n"
          ]
        }
      ]
    },
    {
      "cell_type": "code",
      "source": [
        "# Fungsi menghitung frekuensi kata untuk setiap kalimat\n",
        "def compute_word_frequencies(sentences):\n",
        "    frequency_matrix = {}\n",
        "    for sentence in sentences:\n",
        "        frequency_table = compute_word_frequency(sentence)\n",
        "        frequency_matrix[sentence] = frequency_table\n",
        "    return frequency_matrix\n",
        "\n",
        "# Hitung frekuensi kata pada setiap kalimat dalam text\n",
        "frequency_matrix = compute_word_frequencies(sentences)\n",
        "\n",
        "# Menampilkan hasil\n",
        "print(\"Frekuensi Kata per Kalimat:\\n\", frequency_matrix)"
      ],
      "metadata": {
        "colab": {
          "base_uri": "https://localhost:8080/"
        },
        "id": "957-j6TksVcv",
        "outputId": "3832f787-e2d6-4d65-96a6-8e45e33b4558"
      },
      "execution_count": 211,
      "outputs": [
        {
          "output_type": "stream",
          "name": "stdout",
          "text": [
            "Frekuensi Kata per Kalimat:\n",
            " {\"Human body parts and organs It goes without saying that humans (mammals identifiable as those that stand upright and are comparatively advanced and capable of detailed thought) have pretty remarkable bodies, given all that they've accomplished.\": {'human': 1, 'body': 1, 'parts': 1, 'organs': 1, 'goes': 1, 'without': 1, 'saying': 1, 'humans': 1, '(': 1, 'mammals': 1, 'identifiable': 1, 'stand': 1, 'upright': 1, 'comparatively': 1, 'advanced': 1, 'capable': 1, 'detailed': 1, 'thought': 1, ')': 1, 'pretty': 1, 'remarkable': 1, 'bodies': 1, ',': 1, 'given': 1, \"'ve\": 1, 'accomplished': 1, '.': 1}, '(Furthermore, an especially intelligent human brain produced this text!)': {'(': 1, 'furthermore': 1, ',': 1, 'especially': 1, 'intelligent': 1, 'human': 1, 'brain': 1, 'produced': 1, 'text': 1, '!': 1, ')': 1}, 'To be sure, humans have overcome predators, disease, and all sorts of other obstacles over thousands of years.': {'sure': 1, ',': 3, 'humans': 1, 'overcome': 1, 'predators': 1, 'disease': 1, 'sorts': 1, 'obstacles': 1, 'thousands': 1, 'years': 1, '.': 1}, \"To fully understand and appreciate these accomplishments, let's take at some of the most well-known parts of the human body!\": {'fully': 1, 'understand': 1, 'appreciate': 1, 'accomplishments': 1, ',': 1, 'let': 1, \"'s\": 1, 'take': 1, 'well-known': 1, 'parts': 1, 'human': 1, 'body': 1, '!': 1}, 'The head, or the spherical body part that contains the brain and rests at the top of the human body, has quite a few individual organs and body parts on it.': {'head': 1, ',': 2, 'spherical': 1, 'body': 3, 'part': 1, 'contains': 1, 'brain': 1, 'rests': 1, 'top': 1, 'human': 1, 'quite': 1, 'individual': 1, 'organs': 1, 'parts': 1, '.': 1}, '(It should quickly be mentioned that hair occupies the space on top of the head, and the ears, the organs responsible for hearing, are located on either side of the head.)': {'(': 1, 'quickly': 1, 'mentioned': 1, 'hair': 1, 'occupies': 1, 'space': 1, 'top': 1, 'head': 2, ',': 3, 'ears': 1, 'organs': 1, 'responsible': 1, 'hearing': 1, 'located': 1, 'either': 1, 'side': 1, '.': 1, ')': 1}, 'From top to bottom, the eyebrows, or horizontal strips of hair that can be found above the eye, are the first components of the head.': {'top': 1, 'bottom': 1, ',': 3, 'eyebrows': 1, 'horizontal': 1, 'strips': 1, 'hair': 1, 'found': 1, 'eye': 1, 'first': 1, 'components': 1, 'head': 1, '.': 1}, 'The eyes are below them, and are round, orb-like organs that allow humans to see.': {'eyes': 1, ',': 2, 'round': 1, 'orb-like': 1, 'organs': 1, 'allow': 1, 'humans': 1, 'see': 1, '.': 1}, 'The eyes make way for the nose, or an external (sticking-out) organ that plays an important part in the breathing and bacteria-elimination processes.': {'eyes': 1, 'make': 1, 'way': 1, 'nose': 1, ',': 1, 'external': 1, '(': 1, 'sticking-out': 1, ')': 1, 'organ': 1, 'plays': 1, 'important': 1, 'part': 1, 'breathing': 1, 'bacteria-elimination': 1, 'processes': 1, '.': 1}, 'Below that is the mouth, or a wide, cavernous organ that chews food, removes bacteria, helps with breathing, and more.': {'mouth': 1, ',': 5, 'wide': 1, 'cavernous': 1, 'organ': 1, 'chews': 1, 'food': 1, 'removes': 1, 'bacteria': 1, 'helps': 1, 'breathing': 1, '.': 1}, 'The mouth contains teeth, or small, white-colored, pointed body parts used to chew food, and the tongue, or a red-colored, boneless organ used to chew food and speak.': {'mouth': 1, 'contains': 1, 'teeth': 1, ',': 6, 'small': 1, 'white-colored': 1, 'pointed': 1, 'body': 1, 'parts': 1, 'used': 2, 'chew': 2, 'food': 2, 'tongue': 1, 'red-colored': 1, 'boneless': 1, 'organ': 1, 'speak': 1, '.': 1}, 'The neck is the long body part that connects the head to the chest (the muscular body part that protects the heart and lungs), and the stomach, or the part of the body that contains food and liquid-processing organs, comes below that.': {'neck': 1, 'long': 1, 'body': 3, 'part': 3, 'connects': 1, 'head': 1, 'chest': 1, '(': 1, 'muscular': 1, 'protects': 1, 'heart': 1, 'lungs': 1, ')': 1, ',': 3, 'stomach': 1, 'contains': 1, 'food': 1, 'liquid-processing': 1, 'organs': 1, 'comes': 1, '.': 1}, 'The legs are the long, muscular body parts that allow humans to move from one spot to another and perform a variety of actions.': {'legs': 1, 'long': 1, ',': 1, 'muscular': 1, 'body': 1, 'parts': 1, 'allow': 1, 'humans': 1, 'move': 1, 'one': 1, 'spot': 1, 'another': 1, 'perform': 1, 'variety': 1, 'actions': 1, '.': 1}, 'Each leg contains a thigh (a thick, especially muscular body part used to perform strenuous motions; the upper part of the leg) and a calf (thinner, more flexible body part that absorbs the shock associated with movement; the lower part of the leg).': {'leg': 3, 'contains': 1, 'thigh': 1, '(': 2, 'thick': 1, ',': 2, 'especially': 1, 'muscular': 1, 'body': 2, 'part': 4, 'used': 1, 'perform': 1, 'strenuous': 1, 'motions': 1, ';': 2, 'upper': 1, ')': 2, 'calf': 1, 'thinner': 1, 'flexible': 1, 'absorbs': 1, 'shock': 1, 'associated': 1, 'movement': 1, 'lower': 1, '.': 1}, 'Feet can be found at the bottom of legs, and each foot is comprised of five toes, or small appendages that help balance.': {'feet': 1, 'found': 1, 'bottom': 1, 'legs': 1, ',': 2, 'foot': 1, 'comprised': 1, 'five': 1, 'toes': 1, 'small': 1, 'appendages': 1, 'help': 1, 'balance': 1, '.': 1}, 'Arms are long, powerful body parts that are located on either side of chest, below the shoulders;arms are comprised of biceps (the thicker, more powerful upper portion), and forearms (the thinner, more flexible lower portion).': {'arms': 2, 'long': 1, ',': 5, 'powerful': 2, 'body': 1, 'parts': 1, 'located': 1, 'either': 1, 'side': 1, 'chest': 1, 'shoulders': 1, ';': 1, 'comprised': 1, 'biceps': 1, '(': 2, 'thicker': 1, 'upper': 1, 'portion': 2, ')': 2, 'forearms': 1, 'thinner': 1, 'flexible': 1, 'lower': 1, '.': 1}, 'Hands, or small, gripping body parts used for a tremendous number of actions, are at the end of arms.': {'hands': 1, ',': 3, 'small': 1, 'gripping': 1, 'body': 1, 'parts': 1, 'used': 1, 'tremendous': 1, 'number': 1, 'actions': 1, 'end': 1, 'arms': 1, '.': 1}, 'Each hand contains five fingers, or small appendages used to grip objects.': {'hand': 1, 'contains': 1, 'five': 1, 'fingers': 1, ',': 1, 'small': 1, 'appendages': 1, 'used': 1, 'grip': 1, 'objects': 1, '.': 1}, \"The aforementioned shoulders are rounded body parts that aid arms' flexibility.\": {'aforementioned': 1, 'shoulders': 1, 'rounded': 1, 'body': 1, 'parts': 1, 'aid': 1, 'arms': 1, \"'\": 1, 'flexibility': 1, '.': 1}, \"One's back is found on the opposite side of the stomach, and is a flat section of the body that contains important muscles that're intended to protect the lungs and other internal organs, in addition to helping humans perform certain motions and actions.\": {'one': 1, \"'s\": 1, 'back': 1, 'found': 1, 'opposite': 1, 'side': 1, 'stomach': 1, ',': 2, 'flat': 1, 'section': 1, 'body': 1, 'contains': 1, 'important': 1, 'muscles': 1, \"'re\": 1, 'intended': 1, 'protect': 1, 'lungs': 1, 'internal': 1, 'organs': 1, 'addition': 1, 'helping': 1, 'humans': 1, 'perform': 1, 'certain': 1, 'motions': 1, 'actions': 1, '.': 1}}\n"
          ]
        }
      ]
    },
    {
      "cell_type": "code",
      "source": [
        "# Fungsi menghitung Term Frequency (TF)\n",
        "def compute_tf(frequency_matrix):\n",
        "    tf_matrix = {}\n",
        "    for sentence, freq_table in frequency_matrix.items():\n",
        "        tf_table = {}\n",
        "        word_count = sum(freq_table.values())\n",
        "        for word, count in freq_table.items():\n",
        "            tf_table[word] = count / word_count if word_count > 0 else 0\n",
        "        tf_matrix[sentence] = tf_table\n",
        "    return tf_matrix\n",
        "\n",
        "# Hitung TF untuk text\n",
        "tf_matrix = compute_tf(frequency_matrix)\n",
        "\n",
        "# Menampilkan hasil\n",
        "print(\"Term Frequency (TF):\\n\", tf_matrix)"
      ],
      "metadata": {
        "colab": {
          "base_uri": "https://localhost:8080/"
        },
        "id": "Q6tU3-fds_uB",
        "outputId": "fbac436a-6898-46e3-987f-74afd6b0f676"
      },
      "execution_count": 212,
      "outputs": [
        {
          "output_type": "stream",
          "name": "stdout",
          "text": [
            "Term Frequency (TF):\n",
            " {\"Human body parts and organs It goes without saying that humans (mammals identifiable as those that stand upright and are comparatively advanced and capable of detailed thought) have pretty remarkable bodies, given all that they've accomplished.\": {'human': 0.037037037037037035, 'body': 0.037037037037037035, 'parts': 0.037037037037037035, 'organs': 0.037037037037037035, 'goes': 0.037037037037037035, 'without': 0.037037037037037035, 'saying': 0.037037037037037035, 'humans': 0.037037037037037035, '(': 0.037037037037037035, 'mammals': 0.037037037037037035, 'identifiable': 0.037037037037037035, 'stand': 0.037037037037037035, 'upright': 0.037037037037037035, 'comparatively': 0.037037037037037035, 'advanced': 0.037037037037037035, 'capable': 0.037037037037037035, 'detailed': 0.037037037037037035, 'thought': 0.037037037037037035, ')': 0.037037037037037035, 'pretty': 0.037037037037037035, 'remarkable': 0.037037037037037035, 'bodies': 0.037037037037037035, ',': 0.037037037037037035, 'given': 0.037037037037037035, \"'ve\": 0.037037037037037035, 'accomplished': 0.037037037037037035, '.': 0.037037037037037035}, '(Furthermore, an especially intelligent human brain produced this text!)': {'(': 0.09090909090909091, 'furthermore': 0.09090909090909091, ',': 0.09090909090909091, 'especially': 0.09090909090909091, 'intelligent': 0.09090909090909091, 'human': 0.09090909090909091, 'brain': 0.09090909090909091, 'produced': 0.09090909090909091, 'text': 0.09090909090909091, '!': 0.09090909090909091, ')': 0.09090909090909091}, 'To be sure, humans have overcome predators, disease, and all sorts of other obstacles over thousands of years.': {'sure': 0.07692307692307693, ',': 0.23076923076923078, 'humans': 0.07692307692307693, 'overcome': 0.07692307692307693, 'predators': 0.07692307692307693, 'disease': 0.07692307692307693, 'sorts': 0.07692307692307693, 'obstacles': 0.07692307692307693, 'thousands': 0.07692307692307693, 'years': 0.07692307692307693, '.': 0.07692307692307693}, \"To fully understand and appreciate these accomplishments, let's take at some of the most well-known parts of the human body!\": {'fully': 0.07692307692307693, 'understand': 0.07692307692307693, 'appreciate': 0.07692307692307693, 'accomplishments': 0.07692307692307693, ',': 0.07692307692307693, 'let': 0.07692307692307693, \"'s\": 0.07692307692307693, 'take': 0.07692307692307693, 'well-known': 0.07692307692307693, 'parts': 0.07692307692307693, 'human': 0.07692307692307693, 'body': 0.07692307692307693, '!': 0.07692307692307693}, 'The head, or the spherical body part that contains the brain and rests at the top of the human body, has quite a few individual organs and body parts on it.': {'head': 0.05555555555555555, ',': 0.1111111111111111, 'spherical': 0.05555555555555555, 'body': 0.16666666666666666, 'part': 0.05555555555555555, 'contains': 0.05555555555555555, 'brain': 0.05555555555555555, 'rests': 0.05555555555555555, 'top': 0.05555555555555555, 'human': 0.05555555555555555, 'quite': 0.05555555555555555, 'individual': 0.05555555555555555, 'organs': 0.05555555555555555, 'parts': 0.05555555555555555, '.': 0.05555555555555555}, '(It should quickly be mentioned that hair occupies the space on top of the head, and the ears, the organs responsible for hearing, are located on either side of the head.)': {'(': 0.047619047619047616, 'quickly': 0.047619047619047616, 'mentioned': 0.047619047619047616, 'hair': 0.047619047619047616, 'occupies': 0.047619047619047616, 'space': 0.047619047619047616, 'top': 0.047619047619047616, 'head': 0.09523809523809523, ',': 0.14285714285714285, 'ears': 0.047619047619047616, 'organs': 0.047619047619047616, 'responsible': 0.047619047619047616, 'hearing': 0.047619047619047616, 'located': 0.047619047619047616, 'either': 0.047619047619047616, 'side': 0.047619047619047616, '.': 0.047619047619047616, ')': 0.047619047619047616}, 'From top to bottom, the eyebrows, or horizontal strips of hair that can be found above the eye, are the first components of the head.': {'top': 0.06666666666666667, 'bottom': 0.06666666666666667, ',': 0.2, 'eyebrows': 0.06666666666666667, 'horizontal': 0.06666666666666667, 'strips': 0.06666666666666667, 'hair': 0.06666666666666667, 'found': 0.06666666666666667, 'eye': 0.06666666666666667, 'first': 0.06666666666666667, 'components': 0.06666666666666667, 'head': 0.06666666666666667, '.': 0.06666666666666667}, 'The eyes are below them, and are round, orb-like organs that allow humans to see.': {'eyes': 0.1, ',': 0.2, 'round': 0.1, 'orb-like': 0.1, 'organs': 0.1, 'allow': 0.1, 'humans': 0.1, 'see': 0.1, '.': 0.1}, 'The eyes make way for the nose, or an external (sticking-out) organ that plays an important part in the breathing and bacteria-elimination processes.': {'eyes': 0.058823529411764705, 'make': 0.058823529411764705, 'way': 0.058823529411764705, 'nose': 0.058823529411764705, ',': 0.058823529411764705, 'external': 0.058823529411764705, '(': 0.058823529411764705, 'sticking-out': 0.058823529411764705, ')': 0.058823529411764705, 'organ': 0.058823529411764705, 'plays': 0.058823529411764705, 'important': 0.058823529411764705, 'part': 0.058823529411764705, 'breathing': 0.058823529411764705, 'bacteria-elimination': 0.058823529411764705, 'processes': 0.058823529411764705, '.': 0.058823529411764705}, 'Below that is the mouth, or a wide, cavernous organ that chews food, removes bacteria, helps with breathing, and more.': {'mouth': 0.0625, ',': 0.3125, 'wide': 0.0625, 'cavernous': 0.0625, 'organ': 0.0625, 'chews': 0.0625, 'food': 0.0625, 'removes': 0.0625, 'bacteria': 0.0625, 'helps': 0.0625, 'breathing': 0.0625, '.': 0.0625}, 'The mouth contains teeth, or small, white-colored, pointed body parts used to chew food, and the tongue, or a red-colored, boneless organ used to chew food and speak.': {'mouth': 0.038461538461538464, 'contains': 0.038461538461538464, 'teeth': 0.038461538461538464, ',': 0.23076923076923078, 'small': 0.038461538461538464, 'white-colored': 0.038461538461538464, 'pointed': 0.038461538461538464, 'body': 0.038461538461538464, 'parts': 0.038461538461538464, 'used': 0.07692307692307693, 'chew': 0.07692307692307693, 'food': 0.07692307692307693, 'tongue': 0.038461538461538464, 'red-colored': 0.038461538461538464, 'boneless': 0.038461538461538464, 'organ': 0.038461538461538464, 'speak': 0.038461538461538464, '.': 0.038461538461538464}, 'The neck is the long body part that connects the head to the chest (the muscular body part that protects the heart and lungs), and the stomach, or the part of the body that contains food and liquid-processing organs, comes below that.': {'neck': 0.037037037037037035, 'long': 0.037037037037037035, 'body': 0.1111111111111111, 'part': 0.1111111111111111, 'connects': 0.037037037037037035, 'head': 0.037037037037037035, 'chest': 0.037037037037037035, '(': 0.037037037037037035, 'muscular': 0.037037037037037035, 'protects': 0.037037037037037035, 'heart': 0.037037037037037035, 'lungs': 0.037037037037037035, ')': 0.037037037037037035, ',': 0.1111111111111111, 'stomach': 0.037037037037037035, 'contains': 0.037037037037037035, 'food': 0.037037037037037035, 'liquid-processing': 0.037037037037037035, 'organs': 0.037037037037037035, 'comes': 0.037037037037037035, '.': 0.037037037037037035}, 'The legs are the long, muscular body parts that allow humans to move from one spot to another and perform a variety of actions.': {'legs': 0.0625, 'long': 0.0625, ',': 0.0625, 'muscular': 0.0625, 'body': 0.0625, 'parts': 0.0625, 'allow': 0.0625, 'humans': 0.0625, 'move': 0.0625, 'one': 0.0625, 'spot': 0.0625, 'another': 0.0625, 'perform': 0.0625, 'variety': 0.0625, 'actions': 0.0625, '.': 0.0625}, 'Each leg contains a thigh (a thick, especially muscular body part used to perform strenuous motions; the upper part of the leg) and a calf (thinner, more flexible body part that absorbs the shock associated with movement; the lower part of the leg).': {'leg': 0.08333333333333333, 'contains': 0.027777777777777776, 'thigh': 0.027777777777777776, '(': 0.05555555555555555, 'thick': 0.027777777777777776, ',': 0.05555555555555555, 'especially': 0.027777777777777776, 'muscular': 0.027777777777777776, 'body': 0.05555555555555555, 'part': 0.1111111111111111, 'used': 0.027777777777777776, 'perform': 0.027777777777777776, 'strenuous': 0.027777777777777776, 'motions': 0.027777777777777776, ';': 0.05555555555555555, 'upper': 0.027777777777777776, ')': 0.05555555555555555, 'calf': 0.027777777777777776, 'thinner': 0.027777777777777776, 'flexible': 0.027777777777777776, 'absorbs': 0.027777777777777776, 'shock': 0.027777777777777776, 'associated': 0.027777777777777776, 'movement': 0.027777777777777776, 'lower': 0.027777777777777776, '.': 0.027777777777777776}, 'Feet can be found at the bottom of legs, and each foot is comprised of five toes, or small appendages that help balance.': {'feet': 0.06666666666666667, 'found': 0.06666666666666667, 'bottom': 0.06666666666666667, 'legs': 0.06666666666666667, ',': 0.13333333333333333, 'foot': 0.06666666666666667, 'comprised': 0.06666666666666667, 'five': 0.06666666666666667, 'toes': 0.06666666666666667, 'small': 0.06666666666666667, 'appendages': 0.06666666666666667, 'help': 0.06666666666666667, 'balance': 0.06666666666666667, '.': 0.06666666666666667}, 'Arms are long, powerful body parts that are located on either side of chest, below the shoulders;arms are comprised of biceps (the thicker, more powerful upper portion), and forearms (the thinner, more flexible lower portion).': {'arms': 0.06060606060606061, 'long': 0.030303030303030304, ',': 0.15151515151515152, 'powerful': 0.06060606060606061, 'body': 0.030303030303030304, 'parts': 0.030303030303030304, 'located': 0.030303030303030304, 'either': 0.030303030303030304, 'side': 0.030303030303030304, 'chest': 0.030303030303030304, 'shoulders': 0.030303030303030304, ';': 0.030303030303030304, 'comprised': 0.030303030303030304, 'biceps': 0.030303030303030304, '(': 0.06060606060606061, 'thicker': 0.030303030303030304, 'upper': 0.030303030303030304, 'portion': 0.06060606060606061, ')': 0.06060606060606061, 'forearms': 0.030303030303030304, 'thinner': 0.030303030303030304, 'flexible': 0.030303030303030304, 'lower': 0.030303030303030304, '.': 0.030303030303030304}, 'Hands, or small, gripping body parts used for a tremendous number of actions, are at the end of arms.': {'hands': 0.06666666666666667, ',': 0.2, 'small': 0.06666666666666667, 'gripping': 0.06666666666666667, 'body': 0.06666666666666667, 'parts': 0.06666666666666667, 'used': 0.06666666666666667, 'tremendous': 0.06666666666666667, 'number': 0.06666666666666667, 'actions': 0.06666666666666667, 'end': 0.06666666666666667, 'arms': 0.06666666666666667, '.': 0.06666666666666667}, 'Each hand contains five fingers, or small appendages used to grip objects.': {'hand': 0.09090909090909091, 'contains': 0.09090909090909091, 'five': 0.09090909090909091, 'fingers': 0.09090909090909091, ',': 0.09090909090909091, 'small': 0.09090909090909091, 'appendages': 0.09090909090909091, 'used': 0.09090909090909091, 'grip': 0.09090909090909091, 'objects': 0.09090909090909091, '.': 0.09090909090909091}, \"The aforementioned shoulders are rounded body parts that aid arms' flexibility.\": {'aforementioned': 0.1, 'shoulders': 0.1, 'rounded': 0.1, 'body': 0.1, 'parts': 0.1, 'aid': 0.1, 'arms': 0.1, \"'\": 0.1, 'flexibility': 0.1, '.': 0.1}, \"One's back is found on the opposite side of the stomach, and is a flat section of the body that contains important muscles that're intended to protect the lungs and other internal organs, in addition to helping humans perform certain motions and actions.\": {'one': 0.034482758620689655, \"'s\": 0.034482758620689655, 'back': 0.034482758620689655, 'found': 0.034482758620689655, 'opposite': 0.034482758620689655, 'side': 0.034482758620689655, 'stomach': 0.034482758620689655, ',': 0.06896551724137931, 'flat': 0.034482758620689655, 'section': 0.034482758620689655, 'body': 0.034482758620689655, 'contains': 0.034482758620689655, 'important': 0.034482758620689655, 'muscles': 0.034482758620689655, \"'re\": 0.034482758620689655, 'intended': 0.034482758620689655, 'protect': 0.034482758620689655, 'lungs': 0.034482758620689655, 'internal': 0.034482758620689655, 'organs': 0.034482758620689655, 'addition': 0.034482758620689655, 'helping': 0.034482758620689655, 'humans': 0.034482758620689655, 'perform': 0.034482758620689655, 'certain': 0.034482758620689655, 'motions': 0.034482758620689655, 'actions': 0.034482758620689655, '.': 0.034482758620689655}}\n"
          ]
        }
      ]
    },
    {
      "cell_type": "code",
      "source": [
        "# Fungsi menghitung jumlah dokumen per kata\n",
        "def compute_documents_per_word(frequency_matrix):\n",
        "    doc_per_word = {}\n",
        "    for freq_table in frequency_matrix.values():\n",
        "        for word in freq_table:\n",
        "            if word in doc_per_word:\n",
        "                doc_per_word[word] += 1\n",
        "            else:\n",
        "                doc_per_word[word] = 1\n",
        "    return doc_per_word\n",
        "\n",
        "# Hitung jumlah dokumen per kata\n",
        "doc_per_word = compute_documents_per_word(frequency_matrix)\n",
        "\n",
        "# Menampilkan hasil\n",
        "print(\"Jumlah Dokumen per Kata:\\n\", doc_per_word)"
      ],
      "metadata": {
        "colab": {
          "base_uri": "https://localhost:8080/"
        },
        "id": "elovwC5mtCDI",
        "outputId": "4b1fad25-3381-4b06-b8da-10f752422740"
      },
      "execution_count": 213,
      "outputs": [
        {
          "output_type": "stream",
          "name": "stdout",
          "text": [
            "Jumlah Dokumen per Kata:\n",
            " {'human': 4, 'body': 11, 'parts': 8, 'organs': 6, 'goes': 1, 'without': 1, 'saying': 1, 'humans': 5, '(': 7, 'mammals': 1, 'identifiable': 1, 'stand': 1, 'upright': 1, 'comparatively': 1, 'advanced': 1, 'capable': 1, 'detailed': 1, 'thought': 1, ')': 7, 'pretty': 1, 'remarkable': 1, 'bodies': 1, ',': 19, 'given': 1, \"'ve\": 1, 'accomplished': 1, '.': 18, 'furthermore': 1, 'especially': 2, 'intelligent': 1, 'brain': 2, 'produced': 1, 'text': 1, '!': 2, 'sure': 1, 'overcome': 1, 'predators': 1, 'disease': 1, 'sorts': 1, 'obstacles': 1, 'thousands': 1, 'years': 1, 'fully': 1, 'understand': 1, 'appreciate': 1, 'accomplishments': 1, 'let': 1, \"'s\": 2, 'take': 1, 'well-known': 1, 'head': 4, 'spherical': 1, 'part': 4, 'contains': 6, 'rests': 1, 'top': 3, 'quite': 1, 'individual': 1, 'quickly': 1, 'mentioned': 1, 'hair': 2, 'occupies': 1, 'space': 1, 'ears': 1, 'responsible': 1, 'hearing': 1, 'located': 2, 'either': 2, 'side': 3, 'bottom': 2, 'eyebrows': 1, 'horizontal': 1, 'strips': 1, 'found': 3, 'eye': 1, 'first': 1, 'components': 1, 'eyes': 2, 'round': 1, 'orb-like': 1, 'allow': 2, 'see': 1, 'make': 1, 'way': 1, 'nose': 1, 'external': 1, 'sticking-out': 1, 'organ': 3, 'plays': 1, 'important': 2, 'breathing': 2, 'bacteria-elimination': 1, 'processes': 1, 'mouth': 2, 'wide': 1, 'cavernous': 1, 'chews': 1, 'food': 3, 'removes': 1, 'bacteria': 1, 'helps': 1, 'teeth': 1, 'small': 4, 'white-colored': 1, 'pointed': 1, 'used': 4, 'chew': 1, 'tongue': 1, 'red-colored': 1, 'boneless': 1, 'speak': 1, 'neck': 1, 'long': 3, 'connects': 1, 'chest': 2, 'muscular': 3, 'protects': 1, 'heart': 1, 'lungs': 2, 'stomach': 2, 'liquid-processing': 1, 'comes': 1, 'legs': 2, 'move': 1, 'one': 2, 'spot': 1, 'another': 1, 'perform': 3, 'variety': 1, 'actions': 3, 'leg': 1, 'thigh': 1, 'thick': 1, 'strenuous': 1, 'motions': 2, ';': 2, 'upper': 2, 'calf': 1, 'thinner': 2, 'flexible': 2, 'absorbs': 1, 'shock': 1, 'associated': 1, 'movement': 1, 'lower': 2, 'feet': 1, 'foot': 1, 'comprised': 2, 'five': 2, 'toes': 1, 'appendages': 2, 'help': 1, 'balance': 1, 'arms': 3, 'powerful': 1, 'shoulders': 2, 'biceps': 1, 'thicker': 1, 'portion': 1, 'forearms': 1, 'hands': 1, 'gripping': 1, 'tremendous': 1, 'number': 1, 'end': 1, 'hand': 1, 'fingers': 1, 'grip': 1, 'objects': 1, 'aforementioned': 1, 'rounded': 1, 'aid': 1, \"'\": 1, 'flexibility': 1, 'back': 1, 'opposite': 1, 'flat': 1, 'section': 1, 'muscles': 1, \"'re\": 1, 'intended': 1, 'protect': 1, 'internal': 1, 'addition': 1, 'helping': 1, 'certain': 1}\n"
          ]
        }
      ]
    },
    {
      "cell_type": "code",
      "source": [
        "# Fungsi menghitung Inverse Document Frequency (IDF)\n",
        "def compute_idf(frequency_matrix, doc_per_word, total_docs):\n",
        "    idf_matrix = {}\n",
        "    for sentence, freq_table in frequency_matrix.items():\n",
        "        idf_table = {}\n",
        "        for word in freq_table:\n",
        "            idf_table[word] = log(total_docs / (doc_per_word[word] + 1))\n",
        "        idf_matrix[sentence] = idf_table\n",
        "    return idf_matrix\n",
        "\n",
        "# Hitung IDF untuk text\n",
        "total_docs = len(sentences)\n",
        "idf_matrix = compute_idf(frequency_matrix, doc_per_word, total_docs)\n",
        "\n",
        "# Menampilkan hasil\n",
        "print(\"Inverse Document Frequency (IDF):\\n\", idf_matrix)"
      ],
      "metadata": {
        "colab": {
          "base_uri": "https://localhost:8080/"
        },
        "id": "b4FTaP2VtHVI",
        "outputId": "95f032c1-8d78-4c6d-9e90-921b5f02d8e5"
      },
      "execution_count": 214,
      "outputs": [
        {
          "output_type": "stream",
          "name": "stdout",
          "text": [
            "Inverse Document Frequency (IDF):\n",
            " {\"Human body parts and organs It goes without saying that humans (mammals identifiable as those that stand upright and are comparatively advanced and capable of detailed thought) have pretty remarkable bodies, given all that they've accomplished.\": {'human': 1.3862943611198906, 'body': 0.5108256237659907, 'parts': 0.7985076962177716, 'organs': 1.0498221244986776, 'goes': 2.302585092994046, 'without': 2.302585092994046, 'saying': 2.302585092994046, 'humans': 1.2039728043259361, '(': 0.9162907318741551, 'mammals': 2.302585092994046, 'identifiable': 2.302585092994046, 'stand': 2.302585092994046, 'upright': 2.302585092994046, 'comparatively': 2.302585092994046, 'advanced': 2.302585092994046, 'capable': 2.302585092994046, 'detailed': 2.302585092994046, 'thought': 2.302585092994046, ')': 0.9162907318741551, 'pretty': 2.302585092994046, 'remarkable': 2.302585092994046, 'bodies': 2.302585092994046, ',': 0.0, 'given': 2.302585092994046, \"'ve\": 2.302585092994046, 'accomplished': 2.302585092994046, '.': 0.05129329438755048}, '(Furthermore, an especially intelligent human brain produced this text!)': {'(': 0.9162907318741551, 'furthermore': 2.302585092994046, ',': 0.0, 'especially': 1.8971199848858813, 'intelligent': 2.302585092994046, 'human': 1.3862943611198906, 'brain': 1.8971199848858813, 'produced': 2.302585092994046, 'text': 2.302585092994046, '!': 1.8971199848858813, ')': 0.9162907318741551}, 'To be sure, humans have overcome predators, disease, and all sorts of other obstacles over thousands of years.': {'sure': 2.302585092994046, ',': 0.0, 'humans': 1.2039728043259361, 'overcome': 2.302585092994046, 'predators': 2.302585092994046, 'disease': 2.302585092994046, 'sorts': 2.302585092994046, 'obstacles': 2.302585092994046, 'thousands': 2.302585092994046, 'years': 2.302585092994046, '.': 0.05129329438755048}, \"To fully understand and appreciate these accomplishments, let's take at some of the most well-known parts of the human body!\": {'fully': 2.302585092994046, 'understand': 2.302585092994046, 'appreciate': 2.302585092994046, 'accomplishments': 2.302585092994046, ',': 0.0, 'let': 2.302585092994046, \"'s\": 1.8971199848858813, 'take': 2.302585092994046, 'well-known': 2.302585092994046, 'parts': 0.7985076962177716, 'human': 1.3862943611198906, 'body': 0.5108256237659907, '!': 1.8971199848858813}, 'The head, or the spherical body part that contains the brain and rests at the top of the human body, has quite a few individual organs and body parts on it.': {'head': 1.3862943611198906, ',': 0.0, 'spherical': 2.302585092994046, 'body': 0.5108256237659907, 'part': 1.3862943611198906, 'contains': 1.0498221244986776, 'brain': 1.8971199848858813, 'rests': 2.302585092994046, 'top': 1.6094379124341003, 'human': 1.3862943611198906, 'quite': 2.302585092994046, 'individual': 2.302585092994046, 'organs': 1.0498221244986776, 'parts': 0.7985076962177716, '.': 0.05129329438755048}, '(It should quickly be mentioned that hair occupies the space on top of the head, and the ears, the organs responsible for hearing, are located on either side of the head.)': {'(': 0.9162907318741551, 'quickly': 2.302585092994046, 'mentioned': 2.302585092994046, 'hair': 1.8971199848858813, 'occupies': 2.302585092994046, 'space': 2.302585092994046, 'top': 1.6094379124341003, 'head': 1.3862943611198906, ',': 0.0, 'ears': 2.302585092994046, 'organs': 1.0498221244986776, 'responsible': 2.302585092994046, 'hearing': 2.302585092994046, 'located': 1.8971199848858813, 'either': 1.8971199848858813, 'side': 1.6094379124341003, '.': 0.05129329438755048, ')': 0.9162907318741551}, 'From top to bottom, the eyebrows, or horizontal strips of hair that can be found above the eye, are the first components of the head.': {'top': 1.6094379124341003, 'bottom': 1.8971199848858813, ',': 0.0, 'eyebrows': 2.302585092994046, 'horizontal': 2.302585092994046, 'strips': 2.302585092994046, 'hair': 1.8971199848858813, 'found': 1.6094379124341003, 'eye': 2.302585092994046, 'first': 2.302585092994046, 'components': 2.302585092994046, 'head': 1.3862943611198906, '.': 0.05129329438755048}, 'The eyes are below them, and are round, orb-like organs that allow humans to see.': {'eyes': 1.8971199848858813, ',': 0.0, 'round': 2.302585092994046, 'orb-like': 2.302585092994046, 'organs': 1.0498221244986776, 'allow': 1.8971199848858813, 'humans': 1.2039728043259361, 'see': 2.302585092994046, '.': 0.05129329438755048}, 'The eyes make way for the nose, or an external (sticking-out) organ that plays an important part in the breathing and bacteria-elimination processes.': {'eyes': 1.8971199848858813, 'make': 2.302585092994046, 'way': 2.302585092994046, 'nose': 2.302585092994046, ',': 0.0, 'external': 2.302585092994046, '(': 0.9162907318741551, 'sticking-out': 2.302585092994046, ')': 0.9162907318741551, 'organ': 1.6094379124341003, 'plays': 2.302585092994046, 'important': 1.8971199848858813, 'part': 1.3862943611198906, 'breathing': 1.8971199848858813, 'bacteria-elimination': 2.302585092994046, 'processes': 2.302585092994046, '.': 0.05129329438755048}, 'Below that is the mouth, or a wide, cavernous organ that chews food, removes bacteria, helps with breathing, and more.': {'mouth': 1.8971199848858813, ',': 0.0, 'wide': 2.302585092994046, 'cavernous': 2.302585092994046, 'organ': 1.6094379124341003, 'chews': 2.302585092994046, 'food': 1.6094379124341003, 'removes': 2.302585092994046, 'bacteria': 2.302585092994046, 'helps': 2.302585092994046, 'breathing': 1.8971199848858813, '.': 0.05129329438755048}, 'The mouth contains teeth, or small, white-colored, pointed body parts used to chew food, and the tongue, or a red-colored, boneless organ used to chew food and speak.': {'mouth': 1.8971199848858813, 'contains': 1.0498221244986776, 'teeth': 2.302585092994046, ',': 0.0, 'small': 1.3862943611198906, 'white-colored': 2.302585092994046, 'pointed': 2.302585092994046, 'body': 0.5108256237659907, 'parts': 0.7985076962177716, 'used': 1.3862943611198906, 'chew': 2.302585092994046, 'food': 1.6094379124341003, 'tongue': 2.302585092994046, 'red-colored': 2.302585092994046, 'boneless': 2.302585092994046, 'organ': 1.6094379124341003, 'speak': 2.302585092994046, '.': 0.05129329438755048}, 'The neck is the long body part that connects the head to the chest (the muscular body part that protects the heart and lungs), and the stomach, or the part of the body that contains food and liquid-processing organs, comes below that.': {'neck': 2.302585092994046, 'long': 1.6094379124341003, 'body': 0.5108256237659907, 'part': 1.3862943611198906, 'connects': 2.302585092994046, 'head': 1.3862943611198906, 'chest': 1.8971199848858813, '(': 0.9162907318741551, 'muscular': 1.6094379124341003, 'protects': 2.302585092994046, 'heart': 2.302585092994046, 'lungs': 1.8971199848858813, ')': 0.9162907318741551, ',': 0.0, 'stomach': 1.8971199848858813, 'contains': 1.0498221244986776, 'food': 1.6094379124341003, 'liquid-processing': 2.302585092994046, 'organs': 1.0498221244986776, 'comes': 2.302585092994046, '.': 0.05129329438755048}, 'The legs are the long, muscular body parts that allow humans to move from one spot to another and perform a variety of actions.': {'legs': 1.8971199848858813, 'long': 1.6094379124341003, ',': 0.0, 'muscular': 1.6094379124341003, 'body': 0.5108256237659907, 'parts': 0.7985076962177716, 'allow': 1.8971199848858813, 'humans': 1.2039728043259361, 'move': 2.302585092994046, 'one': 1.8971199848858813, 'spot': 2.302585092994046, 'another': 2.302585092994046, 'perform': 1.6094379124341003, 'variety': 2.302585092994046, 'actions': 1.6094379124341003, '.': 0.05129329438755048}, 'Each leg contains a thigh (a thick, especially muscular body part used to perform strenuous motions; the upper part of the leg) and a calf (thinner, more flexible body part that absorbs the shock associated with movement; the lower part of the leg).': {'leg': 2.302585092994046, 'contains': 1.0498221244986776, 'thigh': 2.302585092994046, '(': 0.9162907318741551, 'thick': 2.302585092994046, ',': 0.0, 'especially': 1.8971199848858813, 'muscular': 1.6094379124341003, 'body': 0.5108256237659907, 'part': 1.3862943611198906, 'used': 1.3862943611198906, 'perform': 1.6094379124341003, 'strenuous': 2.302585092994046, 'motions': 1.8971199848858813, ';': 1.8971199848858813, 'upper': 1.8971199848858813, ')': 0.9162907318741551, 'calf': 2.302585092994046, 'thinner': 1.8971199848858813, 'flexible': 1.8971199848858813, 'absorbs': 2.302585092994046, 'shock': 2.302585092994046, 'associated': 2.302585092994046, 'movement': 2.302585092994046, 'lower': 1.8971199848858813, '.': 0.05129329438755048}, 'Feet can be found at the bottom of legs, and each foot is comprised of five toes, or small appendages that help balance.': {'feet': 2.302585092994046, 'found': 1.6094379124341003, 'bottom': 1.8971199848858813, 'legs': 1.8971199848858813, ',': 0.0, 'foot': 2.302585092994046, 'comprised': 1.8971199848858813, 'five': 1.8971199848858813, 'toes': 2.302585092994046, 'small': 1.3862943611198906, 'appendages': 1.8971199848858813, 'help': 2.302585092994046, 'balance': 2.302585092994046, '.': 0.05129329438755048}, 'Arms are long, powerful body parts that are located on either side of chest, below the shoulders;arms are comprised of biceps (the thicker, more powerful upper portion), and forearms (the thinner, more flexible lower portion).': {'arms': 1.6094379124341003, 'long': 1.6094379124341003, ',': 0.0, 'powerful': 2.302585092994046, 'body': 0.5108256237659907, 'parts': 0.7985076962177716, 'located': 1.8971199848858813, 'either': 1.8971199848858813, 'side': 1.6094379124341003, 'chest': 1.8971199848858813, 'shoulders': 1.8971199848858813, ';': 1.8971199848858813, 'comprised': 1.8971199848858813, 'biceps': 2.302585092994046, '(': 0.9162907318741551, 'thicker': 2.302585092994046, 'upper': 1.8971199848858813, 'portion': 2.302585092994046, ')': 0.9162907318741551, 'forearms': 2.302585092994046, 'thinner': 1.8971199848858813, 'flexible': 1.8971199848858813, 'lower': 1.8971199848858813, '.': 0.05129329438755048}, 'Hands, or small, gripping body parts used for a tremendous number of actions, are at the end of arms.': {'hands': 2.302585092994046, ',': 0.0, 'small': 1.3862943611198906, 'gripping': 2.302585092994046, 'body': 0.5108256237659907, 'parts': 0.7985076962177716, 'used': 1.3862943611198906, 'tremendous': 2.302585092994046, 'number': 2.302585092994046, 'actions': 1.6094379124341003, 'end': 2.302585092994046, 'arms': 1.6094379124341003, '.': 0.05129329438755048}, 'Each hand contains five fingers, or small appendages used to grip objects.': {'hand': 2.302585092994046, 'contains': 1.0498221244986776, 'five': 1.8971199848858813, 'fingers': 2.302585092994046, ',': 0.0, 'small': 1.3862943611198906, 'appendages': 1.8971199848858813, 'used': 1.3862943611198906, 'grip': 2.302585092994046, 'objects': 2.302585092994046, '.': 0.05129329438755048}, \"The aforementioned shoulders are rounded body parts that aid arms' flexibility.\": {'aforementioned': 2.302585092994046, 'shoulders': 1.8971199848858813, 'rounded': 2.302585092994046, 'body': 0.5108256237659907, 'parts': 0.7985076962177716, 'aid': 2.302585092994046, 'arms': 1.6094379124341003, \"'\": 2.302585092994046, 'flexibility': 2.302585092994046, '.': 0.05129329438755048}, \"One's back is found on the opposite side of the stomach, and is a flat section of the body that contains important muscles that're intended to protect the lungs and other internal organs, in addition to helping humans perform certain motions and actions.\": {'one': 1.8971199848858813, \"'s\": 1.8971199848858813, 'back': 2.302585092994046, 'found': 1.6094379124341003, 'opposite': 2.302585092994046, 'side': 1.6094379124341003, 'stomach': 1.8971199848858813, ',': 0.0, 'flat': 2.302585092994046, 'section': 2.302585092994046, 'body': 0.5108256237659907, 'contains': 1.0498221244986776, 'important': 1.8971199848858813, 'muscles': 2.302585092994046, \"'re\": 2.302585092994046, 'intended': 2.302585092994046, 'protect': 2.302585092994046, 'lungs': 1.8971199848858813, 'internal': 2.302585092994046, 'organs': 1.0498221244986776, 'addition': 2.302585092994046, 'helping': 2.302585092994046, 'humans': 1.2039728043259361, 'perform': 1.6094379124341003, 'certain': 2.302585092994046, 'motions': 1.8971199848858813, 'actions': 1.6094379124341003, '.': 0.05129329438755048}}\n"
          ]
        }
      ]
    },
    {
      "cell_type": "code",
      "source": [
        "# Fungsi menghitung TF-IDF\n",
        "def compute_tf_idf(tf_matrix, idf_matrix):\n",
        "    tf_idf_matrix = {}\n",
        "    for sentence, tf_table in tf_matrix.items():\n",
        "        tf_idf_table = {}\n",
        "        for word, tf_value in tf_table.items():\n",
        "            tf_idf_table[word] = tf_value * idf_matrix[sentence].get(word, 0)\n",
        "        tf_idf_matrix[sentence] = tf_idf_table\n",
        "    return tf_idf_matrix\n",
        "\n",
        "# Hitung TF-IDF untuk text\n",
        "tf_idf_matrix = compute_tf_idf(tf_matrix, idf_matrix)\n",
        "\n",
        "# Menampilkan hasil\n",
        "print(\"Hasil hitung dengan TF-IDF:\\n\", tf_idf_matrix)"
      ],
      "metadata": {
        "colab": {
          "base_uri": "https://localhost:8080/"
        },
        "id": "FPtRr5eptJ1i",
        "outputId": "3da59bca-ba95-42e6-a98e-d85d76183565"
      },
      "execution_count": 215,
      "outputs": [
        {
          "output_type": "stream",
          "name": "stdout",
          "text": [
            "Hasil hitung dengan TF-IDF:\n",
            " {\"Human body parts and organs It goes without saying that humans (mammals identifiable as those that stand upright and are comparatively advanced and capable of detailed thought) have pretty remarkable bodies, given all that they've accomplished.\": {'human': 0.05134423559703298, 'body': 0.018919467546888544, 'parts': 0.029574359119176725, 'organs': 0.038882300907358426, 'goes': 0.08528092937014985, 'without': 0.08528092937014985, 'saying': 0.08528092937014985, 'humans': 0.04459158534540504, '(': 0.03393669377311685, 'mammals': 0.08528092937014985, 'identifiable': 0.08528092937014985, 'stand': 0.08528092937014985, 'upright': 0.08528092937014985, 'comparatively': 0.08528092937014985, 'advanced': 0.08528092937014985, 'capable': 0.08528092937014985, 'detailed': 0.08528092937014985, 'thought': 0.08528092937014985, ')': 0.03393669377311685, 'pretty': 0.08528092937014985, 'remarkable': 0.08528092937014985, 'bodies': 0.08528092937014985, ',': 0.0, 'given': 0.08528092937014985, \"'ve\": 0.08528092937014985, 'accomplished': 0.08528092937014985, '.': 0.001899751643983351}, '(Furthermore, an especially intelligent human brain produced this text!)': {'(': 0.08329915744310501, 'furthermore': 0.20932591754491328, ',': 0.0, 'especially': 0.17246545317144377, 'intelligent': 0.20932591754491328, 'human': 0.12602676010180824, 'brain': 0.17246545317144377, 'produced': 0.20932591754491328, 'text': 0.20932591754491328, '!': 0.17246545317144377, ')': 0.08329915744310501}, 'To be sure, humans have overcome predators, disease, and all sorts of other obstacles over thousands of years.': {'sure': 0.17712193023031123, ',': 0.0, 'humans': 0.09261329264045663, 'overcome': 0.17712193023031123, 'predators': 0.17712193023031123, 'disease': 0.17712193023031123, 'sorts': 0.17712193023031123, 'obstacles': 0.17712193023031123, 'thousands': 0.17712193023031123, 'years': 0.17712193023031123, '.': 0.0039456380298115755}, \"To fully understand and appreciate these accomplishments, let's take at some of the most well-known parts of the human body!\": {'fully': 0.17712193023031123, 'understand': 0.17712193023031123, 'appreciate': 0.17712193023031123, 'accomplishments': 0.17712193023031123, ',': 0.0, 'let': 0.17712193023031123, \"'s\": 0.1459323065296832, 'take': 0.17712193023031123, 'well-known': 0.17712193023031123, 'parts': 0.06142366893982859, 'human': 0.10663802777845313, 'body': 0.03929427875123006, '!': 0.1459323065296832}, 'The head, or the spherical body part that contains the brain and rests at the top of the human body, has quite a few individual organs and body parts on it.': {'head': 0.07701635339554948, ',': 0.0, 'spherical': 0.12792139405522476, 'body': 0.08513760396099845, 'part': 0.07701635339554948, 'contains': 0.05832345136103764, 'brain': 0.10539555471588229, 'rests': 0.12792139405522476, 'top': 0.08941321735745002, 'human': 0.07701635339554948, 'quite': 0.12792139405522476, 'individual': 0.12792139405522476, 'organs': 0.05832345136103764, 'parts': 0.044361538678765085, '.': 0.0028496274659750268}, '(It should quickly be mentioned that hair occupies the space on top of the head, and the ears, the organs responsible for hearing, are located on either side of the head.)': {'(': 0.04363289199400738, 'quickly': 0.10964690919019265, 'mentioned': 0.10964690919019265, 'hair': 0.09033904689932767, 'occupies': 0.10964690919019265, 'space': 0.10964690919019265, 'top': 0.0766399005921, 'head': 0.1320280343923705, ',': 0.0, 'ears': 0.10964690919019265, 'organs': 0.04999152973803227, 'responsible': 0.10964690919019265, 'hearing': 0.10964690919019265, 'located': 0.09033904689932767, 'either': 0.09033904689932767, 'side': 0.0766399005921, '.': 0.0024425378279785944, ')': 0.04363289199400738}, 'From top to bottom, the eyebrows, or horizontal strips of hair that can be found above the eye, are the first components of the head.': {'top': 0.10729586082894002, 'bottom': 0.12647466565905874, ',': 0.0, 'eyebrows': 0.15350567286626973, 'horizontal': 0.15350567286626973, 'strips': 0.15350567286626973, 'hair': 0.12647466565905874, 'found': 0.10729586082894002, 'eye': 0.15350567286626973, 'first': 0.15350567286626973, 'components': 0.15350567286626973, 'head': 0.09241962407465937, '.': 0.003419552959170032}, 'The eyes are below them, and are round, orb-like organs that allow humans to see.': {'eyes': 0.18971199848858813, ',': 0.0, 'round': 0.2302585092994046, 'orb-like': 0.2302585092994046, 'organs': 0.10498221244986777, 'allow': 0.18971199848858813, 'humans': 0.12039728043259362, 'see': 0.2302585092994046, '.': 0.005129329438755048}, 'The eyes make way for the nose, or an external (sticking-out) organ that plays an important part in the breathing and bacteria-elimination processes.': {'eyes': 0.11159529322858125, 'make': 0.13544618194082622, 'way': 0.13544618194082622, 'nose': 0.13544618194082622, ',': 0.0, 'external': 0.13544618194082622, '(': 0.05389945481612677, 'sticking-out': 0.13544618194082622, ')': 0.05389945481612677, 'organ': 0.09467281837847649, 'plays': 0.13544618194082622, 'important': 0.11159529322858125, 'part': 0.08154672712469944, 'breathing': 0.11159529322858125, 'bacteria-elimination': 0.13544618194082622, 'processes': 0.13544618194082622, '.': 0.003017252611032381}, 'Below that is the mouth, or a wide, cavernous organ that chews food, removes bacteria, helps with breathing, and more.': {'mouth': 0.11856999905536758, ',': 0.0, 'wide': 0.14391156831212787, 'cavernous': 0.14391156831212787, 'organ': 0.10058986952713127, 'chews': 0.14391156831212787, 'food': 0.10058986952713127, 'removes': 0.14391156831212787, 'bacteria': 0.14391156831212787, 'helps': 0.14391156831212787, 'breathing': 0.11856999905536758, '.': 0.003205830899221905}, 'The mouth contains teeth, or small, white-colored, pointed body parts used to chew food, and the tongue, or a red-colored, boneless organ used to chew food and speak.': {'mouth': 0.0729661532648416, 'contains': 0.04037777401917991, 'teeth': 0.08856096511515561, ',': 0.0, 'small': 0.053319013889226566, 'white-colored': 0.08856096511515561, 'pointed': 0.08856096511515561, 'body': 0.01964713937561503, 'parts': 0.030711834469914295, 'used': 0.10663802777845313, 'chew': 0.17712193023031123, 'food': 0.12380291634108465, 'tongue': 0.08856096511515561, 'red-colored': 0.08856096511515561, 'boneless': 0.08856096511515561, 'organ': 0.06190145817054232, 'speak': 0.08856096511515561, '.': 0.0019728190149057878}, 'The neck is the long body part that connects the head to the chest (the muscular body part that protects the heart and lungs), and the stomach, or the part of the body that contains food and liquid-processing organs, comes below that.': {'neck': 0.08528092937014985, 'long': 0.05960881157163334, 'body': 0.05675840264066563, 'part': 0.15403270679109896, 'connects': 0.08528092937014985, 'head': 0.05134423559703298, 'chest': 0.07026370314392152, '(': 0.03393669377311685, 'muscular': 0.05960881157163334, 'protects': 0.08528092937014985, 'heart': 0.08528092937014985, 'lungs': 0.07026370314392152, ')': 0.03393669377311685, ',': 0.0, 'stomach': 0.07026370314392152, 'contains': 0.038882300907358426, 'food': 0.05960881157163334, 'liquid-processing': 0.08528092937014985, 'organs': 0.038882300907358426, 'comes': 0.08528092937014985, '.': 0.001899751643983351}, 'The legs are the long, muscular body parts that allow humans to move from one spot to another and perform a variety of actions.': {'legs': 0.11856999905536758, 'long': 0.10058986952713127, ',': 0.0, 'muscular': 0.10058986952713127, 'body': 0.03192660148537442, 'parts': 0.049906731013610726, 'allow': 0.11856999905536758, 'humans': 0.07524830027037101, 'move': 0.14391156831212787, 'one': 0.11856999905536758, 'spot': 0.14391156831212787, 'another': 0.14391156831212787, 'perform': 0.10058986952713127, 'variety': 0.14391156831212787, 'actions': 0.10058986952713127, '.': 0.003205830899221905}, 'Each leg contains a thigh (a thick, especially muscular body part used to perform strenuous motions; the upper part of the leg) and a calf (thinner, more flexible body part that absorbs the shock associated with movement; the lower part of the leg).': {'leg': 0.19188209108283716, 'contains': 0.02916172568051882, 'thigh': 0.06396069702761238, '(': 0.05090504065967528, 'thick': 0.06396069702761238, ',': 0.0, 'especially': 0.05269777735794114, 'muscular': 0.04470660867872501, 'body': 0.028379201320332816, 'part': 0.15403270679109896, 'used': 0.03850817669777474, 'perform': 0.04470660867872501, 'strenuous': 0.06396069702761238, 'motions': 0.05269777735794114, ';': 0.10539555471588229, 'upper': 0.05269777735794114, ')': 0.05090504065967528, 'calf': 0.06396069702761238, 'thinner': 0.05269777735794114, 'flexible': 0.05269777735794114, 'absorbs': 0.06396069702761238, 'shock': 0.06396069702761238, 'associated': 0.06396069702761238, 'movement': 0.06396069702761238, 'lower': 0.05269777735794114, '.': 0.0014248137329875134}, 'Feet can be found at the bottom of legs, and each foot is comprised of five toes, or small appendages that help balance.': {'feet': 0.15350567286626973, 'found': 0.10729586082894002, 'bottom': 0.12647466565905874, 'legs': 0.12647466565905874, ',': 0.0, 'foot': 0.15350567286626973, 'comprised': 0.12647466565905874, 'five': 0.12647466565905874, 'toes': 0.15350567286626973, 'small': 0.09241962407465937, 'appendages': 0.12647466565905874, 'help': 0.15350567286626973, 'balance': 0.15350567286626973, '.': 0.003419552959170032}, 'Arms are long, powerful body parts that are located on either side of chest, below the shoulders;arms are comprised of biceps (the thicker, more powerful upper portion), and forearms (the thinner, more flexible lower portion).': {'arms': 0.09754169166267275, 'long': 0.048770845831336375, ',': 0.0, 'powerful': 0.13955061169660885, 'body': 0.015479564356545173, 'parts': 0.02419720291569005, 'located': 0.05748848439048125, 'either': 0.05748848439048125, 'side': 0.048770845831336375, 'chest': 0.05748848439048125, 'shoulders': 0.05748848439048125, ';': 0.05748848439048125, 'comprised': 0.05748848439048125, 'biceps': 0.06977530584830442, '(': 0.055532771628736675, 'thicker': 0.06977530584830442, 'upper': 0.05748848439048125, 'portion': 0.13955061169660885, ')': 0.055532771628736675, 'forearms': 0.06977530584830442, 'thinner': 0.05748848439048125, 'flexible': 0.05748848439048125, 'lower': 0.05748848439048125, '.': 0.0015543422541681965}, 'Hands, or small, gripping body parts used for a tremendous number of actions, are at the end of arms.': {'hands': 0.15350567286626973, ',': 0.0, 'small': 0.09241962407465937, 'gripping': 0.15350567286626973, 'body': 0.034055041584399384, 'parts': 0.05323384641451811, 'used': 0.09241962407465937, 'tremendous': 0.15350567286626973, 'number': 0.15350567286626973, 'actions': 0.10729586082894002, 'end': 0.15350567286626973, 'arms': 0.10729586082894002, '.': 0.003419552959170032}, 'Each hand contains five fingers, or small appendages used to grip objects.': {'hand': 0.20932591754491328, 'contains': 0.09543837495442524, 'five': 0.17246545317144377, 'fingers': 0.20932591754491328, ',': 0.0, 'small': 0.12602676010180824, 'appendages': 0.17246545317144377, 'used': 0.12602676010180824, 'grip': 0.20932591754491328, 'objects': 0.20932591754491328, '.': 0.00466302676250459}, \"The aforementioned shoulders are rounded body parts that aid arms' flexibility.\": {'aforementioned': 0.2302585092994046, 'shoulders': 0.18971199848858813, 'rounded': 0.2302585092994046, 'body': 0.051082562376599076, 'parts': 0.07985076962177717, 'aid': 0.2302585092994046, 'arms': 0.16094379124341004, \"'\": 0.2302585092994046, 'flexibility': 0.2302585092994046, '.': 0.005129329438755048}, \"One's back is found on the opposite side of the stomach, and is a flat section of the body that contains important muscles that're intended to protect the lungs and other internal organs, in addition to helping humans perform certain motions and actions.\": {'one': 0.06541793051330624, \"'s\": 0.06541793051330624, 'back': 0.07939948596531193, 'found': 0.05549785904945173, 'opposite': 0.07939948596531193, 'side': 0.05549785904945173, 'stomach': 0.06541793051330624, ',': 0.0, 'flat': 0.07939948596531193, 'section': 0.07939948596531193, 'body': 0.017614676681585888, 'contains': 0.036200762913747506, 'important': 0.06541793051330624, 'muscles': 0.07939948596531193, \"'re\": 0.07939948596531193, 'intended': 0.07939948596531193, 'protect': 0.07939948596531193, 'lungs': 0.06541793051330624, 'internal': 0.07939948596531193, 'organs': 0.036200762913747506, 'addition': 0.07939948596531193, 'helping': 0.07939948596531193, 'humans': 0.04151630359744607, 'perform': 0.05549785904945173, 'certain': 0.07939948596531193, 'motions': 0.06541793051330624, 'actions': 0.05549785904945173, '.': 0.0017687342892258786}}\n"
          ]
        }
      ]
    },
    {
      "cell_type": "code",
      "source": [
        "# Fungsi menghitung skor kalimat berdasarkan TF-IDF\n",
        "def score_sentences_tfidf(tf_idf_matrix):\n",
        "    sentence_scores = {}\n",
        "    for sentence, tf_idf_table in tf_idf_matrix.items():\n",
        "        sentence_scores[sentence] = sum(tf_idf_table.values())\n",
        "    return sentence_scores\n",
        "\n",
        "# Hitung skor kalimat berdasarkan TF-IDF untuk text\n",
        "sentence_scores_tfidf = score_sentences_tfidf(tf_idf_matrix)\n",
        "\n",
        "# Menampilkan hasil\n",
        "print(\"Skor Kalimat dengan TF-IDF adalah:\\n\", sentence_scores_tfidf)"
      ],
      "metadata": {
        "colab": {
          "base_uri": "https://localhost:8080/"
        },
        "id": "WlL1iv5mtMhF",
        "outputId": "ea22f681-6453-4ca3-f2a3-696147537226"
      },
      "execution_count": 216,
      "outputs": [
        {
          "output_type": "stream",
          "name": "stdout",
          "text": [
            "Skor Kalimat dengan TF-IDF adalah:\n",
            " {\"Human body parts and organs It goes without saying that humans (mammals identifiable as those that stand upright and are comparatively advanced and capable of detailed thought) have pretty remarkable bodies, given all that they've accomplished.\": 1.7881418163687754, '(Furthermore, an especially intelligent human brain produced this text!)': 1.6473251046820028, 'To be sure, humans have overcome predators, disease, and all sorts of other obstacles over thousands of years.': 1.5135343725127581, \"To fully understand and appreciate these accomplishments, let's take at some of the most well-known parts of the human body!\": 1.7390741001410568, 'The head, or the spherical body part that contains the brain and rests at the top of the human body, has quite a few individual organs and body parts on it.': 1.1865390813086933, '(It should quickly be mentioned that hair occupies the space on top of the head, and the ears, the organs responsible for hearing, are located on either side of the head.)': 1.4635531921599276, 'From top to bottom, the eyebrows, or horizontal strips of hair that can be found above the eye, are the first components of the head.': 1.4844142672074454, 'The eyes are below them, and are round, orb-like organs that allow humans to see.': 1.3007083471966063, 'The eyes make way for the nose, or an external (sticking-out) organ that plays an important part in the breathing and bacteria-elimination processes.': 1.7053910429588155, 'Below that is the mouth, or a wide, cavernous organ that chews food, removes bacteria, helps with breathing, and more.': 1.304994977936987, 'The mouth contains teeth, or small, white-colored, pointed body parts used to chew food, and the tongue, or a red-colored, boneless organ used to chew food and speak.': 1.3083858223601637, 'The neck is the long body part that connects the head to the chest (the muscular body part that protects the heart and lungs), and the stomach, or the part of the body that contains food and liquid-processing organs, comes below that.': 1.310976206401295, 'The legs are the long, muscular body parts that allow humans to move from one spot to another and perform a variety of actions.': 1.4940032121917175, 'Each leg contains a thigh (a thick, especially muscular body part used to perform strenuous motions; the upper part of the leg) and a calf (thinner, more flexible body part that absorbs the shock associated with movement; the lower part of the leg).': 1.5678798090667785, 'Feet can be found at the bottom of legs, and each foot is comprised of five toes, or small appendages that help balance.': 1.603036730489412, 'Arms are long, powerful body parts that are located on either side of chest, below the shoulders;arms are comprised of biceps (the thicker, more powerful upper portion), and forearms (the thinner, more flexible lower portion).': 1.4106920209521656, 'Hands, or small, gripping body parts used for a tremendous number of actions, are at the end of arms.': 1.257667775096635, 'Each hand contains five fingers, or small appendages used to grip objects.': 1.534389498443087, \"The aforementioned shoulders are rounded body parts that aid arms' flexibility.\": 1.6380109976661523, \"One's back is found on the opposite side of the stomach, and is a flat section of the body that contains important muscles that're intended to protect the lungs and other internal organs, in addition to helping humans perform certain motions and actions.\": 1.7005940912571411}\n"
          ]
        }
      ]
    },
    {
      "cell_type": "code",
      "source": [
        "# Fungsi menghitung ambang batas\n",
        "def calculate_threshold(sentence_scores):\n",
        "    scores = list(sentence_scores.values())\n",
        "    threshold = np.percentile(scores, 50) if scores else 0\n",
        "    return threshold\n",
        "\n",
        "# Hitung ambang batas untuk TF-IDF\n",
        "threshold_tfidf = calculate_threshold(sentence_scores_tfidf)\n",
        "\n",
        "# Menampilkan hasil\n",
        "print(\"Ambang Batas (Threshold) TF-IDF adalah:\\n\", threshold_tfidf)"
      ],
      "metadata": {
        "colab": {
          "base_uri": "https://localhost:8080/"
        },
        "id": "xKpFl8L-tPdU",
        "outputId": "e0996815-7878-47a1-d832-31cc547257d4"
      },
      "execution_count": 217,
      "outputs": [
        {
          "output_type": "stream",
          "name": "stdout",
          "text": [
            "Ambang Batas (Threshold) TF-IDF adalah:\n",
            " 1.5037687923522378\n"
          ]
        }
      ]
    },
    {
      "cell_type": "code",
      "source": [
        "# Fungsi menghasilkan ringkasan\n",
        "def generate_summary(sentence_scores, threshold):\n",
        "    summary = \"\"\n",
        "    for sentence, score in sentence_scores.items():\n",
        "        if score >= threshold:\n",
        "            summary += sentence + \" \"\n",
        "    return summary\n",
        "\n",
        "# Buat ringkasan berdasarkan TF-IDF untuk text1\n",
        "summary_tfidf = generate_summary(sentence_scores_tfidf, threshold_tfidf)\n",
        "\n",
        "# Menampilkan hasil\n",
        "print(\"Hasil Ringkasan dengan TF-IDF adalah:\\n\", summary_tfidf)"
      ],
      "metadata": {
        "colab": {
          "base_uri": "https://localhost:8080/"
        },
        "id": "fxuCeOHntRjt",
        "outputId": "f1289cdb-f188-4f6c-cec3-f013533eab4d"
      },
      "execution_count": 218,
      "outputs": [
        {
          "output_type": "stream",
          "name": "stdout",
          "text": [
            "Hasil Ringkasan dengan TF-IDF adalah:\n",
            " Human body parts and organs It goes without saying that humans (mammals identifiable as those that stand upright and are comparatively advanced and capable of detailed thought) have pretty remarkable bodies, given all that they've accomplished. (Furthermore, an especially intelligent human brain produced this text!) To be sure, humans have overcome predators, disease, and all sorts of other obstacles over thousands of years. To fully understand and appreciate these accomplishments, let's take at some of the most well-known parts of the human body! The eyes make way for the nose, or an external (sticking-out) organ that plays an important part in the breathing and bacteria-elimination processes. Each leg contains a thigh (a thick, especially muscular body part used to perform strenuous motions; the upper part of the leg) and a calf (thinner, more flexible body part that absorbs the shock associated with movement; the lower part of the leg). Feet can be found at the bottom of legs, and each foot is comprised of five toes, or small appendages that help balance. Each hand contains five fingers, or small appendages used to grip objects. The aforementioned shoulders are rounded body parts that aid arms' flexibility. One's back is found on the opposite side of the stomach, and is a flat section of the body that contains important muscles that're intended to protect the lungs and other internal organs, in addition to helping humans perform certain motions and actions. \n"
          ]
        }
      ]
    }
  ]
}