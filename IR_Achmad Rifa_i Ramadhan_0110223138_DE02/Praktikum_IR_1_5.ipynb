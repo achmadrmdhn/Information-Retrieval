{
 "cells": [
  {
   "cell_type": "code",
   "execution_count": 1,
   "metadata": {
    "colab": {
     "base_uri": "https://localhost:8080/"
    },
    "executionInfo": {
     "elapsed": 1336,
     "status": "ok",
     "timestamp": 1734056964888,
     "user": {
      "displayName": "Achmad Rifa'i R.",
      "userId": "02367818246972664028"
     },
     "user_tz": -420
    },
    "id": "OUcWbLAtYKwP",
    "outputId": "f384cc34-8784-4571-8923-8634e10da16f"
   },
   "outputs": [
    {
     "name": "stderr",
     "output_type": "stream",
     "text": [
      "[nltk_data] Downloading package punkt to\n",
      "[nltk_data]     C:\\Users\\achma\\AppData\\Roaming\\nltk_data...\n",
      "[nltk_data]   Package punkt is already up-to-date!\n",
      "[nltk_data] Downloading package stopwords to\n",
      "[nltk_data]     C:\\Users\\achma\\AppData\\Roaming\\nltk_data...\n",
      "[nltk_data]   Package stopwords is already up-to-date!\n",
      "[nltk_data] Downloading package wordnet to\n",
      "[nltk_data]     C:\\Users\\achma\\AppData\\Roaming\\nltk_data...\n",
      "[nltk_data] Downloading package punkt_tab to\n",
      "[nltk_data]     C:\\Users\\achma\\AppData\\Roaming\\nltk_data...\n",
      "[nltk_data]   Unzipping tokenizers\\punkt_tab.zip.\n"
     ]
    },
    {
     "data": {
      "text/plain": [
       "True"
      ]
     },
     "execution_count": 1,
     "metadata": {},
     "output_type": "execute_result"
    }
   ],
   "source": [
    "import nltk\n",
    "nltk.download('punkt') #untuk tokenisasi (Memisahkan teks menjadi kata atau kalimat)\n",
    "nltk.download('stopwords') #untuk stopword (untuk mendownload kata kata yang dianggap sebagai stopwords (kata kata yang umum dan tidak penting untuk dianalisis, seperti \"dan\", \"atau\"). wprdnet itu pustaka untuk lemmatization, yaitu proses mengubah kata kebentuk dasarnya)\n",
    "nltk.download('wordnet') #untuk lemmatization\n",
    "nltk.download('punkt_tab')"
   ]
  },
  {
   "cell_type": "markdown",
   "metadata": {
    "id": "KTVGFvIhYdcS"
   },
   "source": [
    "tokenisasi (Memisahkan teks menjadi kata atau kalimat), lalu stopword (untuk mendownload kata kata yang dianggap sebagai stopwords (kata kata yang umum dan tidak penting untuk dianalisis, seperti \"dan\", \"atau\"). dan wordnet itu pustaka untuk lemmatization, yaitu proses mengubah kata kebentuk dasarnya)"
   ]
  },
  {
   "cell_type": "code",
   "execution_count": 2,
   "metadata": {
    "executionInfo": {
     "elapsed": 45,
     "status": "ok",
     "timestamp": 1734056966267,
     "user": {
      "displayName": "Achmad Rifa'i R.",
      "userId": "02367818246972664028"
     },
     "user_tz": -420
    },
    "id": "msYXt0z0YaXC"
   },
   "outputs": [],
   "source": [
    "from nltk.tokenize import sent_tokenize #Memotong paragraf menjadi kalimat\n",
    "\n",
    "text=\"\"\"\n",
    "Data analyst adalah profesional yang berperan penting dalam mengolah dan menganalisis data untuk menghasilkan wawasan yang dapat membantu pengambilan keputusan bisnis. Dalam menjalankan tugasnya, seorang data analyst menggunakan berbagai alat dan teknik analisis data, seperti Excel, SQL, Python, atau R untuk memproses, menganalisis, dan memvisualisasikan data. Tugas utamanya adalah mengidentifikasi pola, tren, atau anomali dalam data yang kemudian diterjemahkan ke dalam laporan yang dapat dipahami oleh tim manajemen atau pemangku kepentingan lainnya. Peran ini sangat dibutuhkan di berbagai sektor, mulai dari e-commerce, keuangan, hingga kesehatan, di mana pengambilan keputusan yang didasarkan pada data sangat penting untuk keberhasilan organisasi.\n",
    "Selain keterampilan teknis, seorang data analyst juga harus memiliki kemampuan komunikasi yang baik untuk menyampaikan temuan analisis secara efektif kepada audiens yang mungkin tidak memiliki latar belakang teknis. Pemahaman bisnis yang kuat juga menjadi nilai tambah karena analisis yang dilakukan harus relevan dengan kebutuhan organisasi. Data analyst tidak hanya memberikan laporan, tetapi juga memberikan rekomendasi berdasarkan analisis mereka, yang memungkinkan perusahaan untuk mengambil tindakan strategis yang lebih tepat sasaran. Oleh karena itu, profesi ini memegang peranan krusial dalam era yang semakin berpusat pada data, di mana kemampuan untuk memanfaatkan data dengan tepat dapat menjadi pembeda antara keberhasilan dan kegagalan bisnis.\n",
    "\"\"\""
   ]
  },
  {
   "cell_type": "markdown",
   "metadata": {
    "id": "rXyNgDJcZBrK"
   },
   "source": [
    "sent_tokenize(text) memisahkan teks **jadi kalimat**"
   ]
  },
  {
   "cell_type": "code",
   "execution_count": 3,
   "metadata": {
    "colab": {
     "base_uri": "https://localhost:8080/"
    },
    "executionInfo": {
     "elapsed": 44,
     "status": "ok",
     "timestamp": 1734056966268,
     "user": {
      "displayName": "Achmad Rifa'i R.",
      "userId": "02367818246972664028"
     },
     "user_tz": -420
    },
    "id": "TL7VRuBYYj76",
    "outputId": "e6dde0ff-f5a4-4643-f9f3-6dffe3e0188d"
   },
   "outputs": [
    {
     "data": {
      "text/plain": [
       "['\\nData analyst adalah profesional yang berperan penting dalam mengolah dan menganalisis data untuk menghasilkan wawasan yang dapat membantu pengambilan keputusan bisnis.',\n",
       " 'Dalam menjalankan tugasnya, seorang data analyst menggunakan berbagai alat dan teknik analisis data, seperti Excel, SQL, Python, atau R untuk memproses, menganalisis, dan memvisualisasikan data.',\n",
       " 'Tugas utamanya adalah mengidentifikasi pola, tren, atau anomali dalam data yang kemudian diterjemahkan ke dalam laporan yang dapat dipahami oleh tim manajemen atau pemangku kepentingan lainnya.',\n",
       " 'Peran ini sangat dibutuhkan di berbagai sektor, mulai dari e-commerce, keuangan, hingga kesehatan, di mana pengambilan keputusan yang didasarkan pada data sangat penting untuk keberhasilan organisasi.',\n",
       " 'Selain keterampilan teknis, seorang data analyst juga harus memiliki kemampuan komunikasi yang baik untuk menyampaikan temuan analisis secara efektif kepada audiens yang mungkin tidak memiliki latar belakang teknis.',\n",
       " 'Pemahaman bisnis yang kuat juga menjadi nilai tambah karena analisis yang dilakukan harus relevan dengan kebutuhan organisasi.',\n",
       " 'Data analyst tidak hanya memberikan laporan, tetapi juga memberikan rekomendasi berdasarkan analisis mereka, yang memungkinkan perusahaan untuk mengambil tindakan strategis yang lebih tepat sasaran.',\n",
       " 'Oleh karena itu, profesi ini memegang peranan krusial dalam era yang semakin berpusat pada data, di mana kemampuan untuk memanfaatkan data dengan tepat dapat menjadi pembeda antara keberhasilan dan kegagalan bisnis.']"
      ]
     },
     "execution_count": 3,
     "metadata": {},
     "output_type": "execute_result"
    }
   ],
   "source": [
    "senteces = sent_tokenize(text)\n",
    "senteces"
   ]
  },
  {
   "cell_type": "markdown",
   "metadata": {
    "id": "Q-JuNw4zZHFA"
   },
   "source": [
    "sent_tokenize(text) memisahkan teks jadi kalimat, lalu udah ditokenize lanjut pake from nltk.tokenize import word_tokenize ini dipake buat **Ngubah Kalimat jadi kata perkata**"
   ]
  },
  {
   "cell_type": "code",
   "execution_count": 4,
   "metadata": {
    "colab": {
     "base_uri": "https://localhost:8080/"
    },
    "executionInfo": {
     "elapsed": 41,
     "status": "ok",
     "timestamp": 1734056966268,
     "user": {
      "displayName": "Achmad Rifa'i R.",
      "userId": "02367818246972664028"
     },
     "user_tz": -420
    },
    "id": "cv6o31UyZKRg",
    "outputId": "a989b1dd-69b2-4a9f-e0a3-2f8c462f9291"
   },
   "outputs": [
    {
     "name": "stdout",
     "output_type": "stream",
     "text": [
      "['Data', 'analyst', 'adalah', 'profesional', 'yang', 'berperan', 'penting', 'dalam', 'mengolah', 'dan', 'menganalisis', 'data', 'untuk', 'menghasilkan', 'wawasan', 'yang', 'dapat', 'membantu', 'pengambilan', 'keputusan', 'bisnis', '.', 'Dalam', 'menjalankan', 'tugasnya', ',', 'seorang', 'data', 'analyst', 'menggunakan', 'berbagai', 'alat', 'dan', 'teknik', 'analisis', 'data', ',', 'seperti', 'Excel', ',', 'SQL', ',', 'Python', ',', 'atau', 'R', 'untuk', 'memproses', ',', 'menganalisis', ',', 'dan', 'memvisualisasikan', 'data', '.', 'Tugas', 'utamanya', 'adalah', 'mengidentifikasi', 'pola', ',', 'tren', ',', 'atau', 'anomali', 'dalam', 'data', 'yang', 'kemudian', 'diterjemahkan', 'ke', 'dalam', 'laporan', 'yang', 'dapat', 'dipahami', 'oleh', 'tim', 'manajemen', 'atau', 'pemangku', 'kepentingan', 'lainnya', '.', 'Peran', 'ini', 'sangat', 'dibutuhkan', 'di', 'berbagai', 'sektor', ',', 'mulai', 'dari', 'e-commerce', ',', 'keuangan', ',', 'hingga', 'kesehatan', ',', 'di', 'mana', 'pengambilan', 'keputusan', 'yang', 'didasarkan', 'pada', 'data', 'sangat', 'penting', 'untuk', 'keberhasilan', 'organisasi', '.', 'Selain', 'keterampilan', 'teknis', ',', 'seorang', 'data', 'analyst', 'juga', 'harus', 'memiliki', 'kemampuan', 'komunikasi', 'yang', 'baik', 'untuk', 'menyampaikan', 'temuan', 'analisis', 'secara', 'efektif', 'kepada', 'audiens', 'yang', 'mungkin', 'tidak', 'memiliki', 'latar', 'belakang', 'teknis', '.', 'Pemahaman', 'bisnis', 'yang', 'kuat', 'juga', 'menjadi', 'nilai', 'tambah', 'karena', 'analisis', 'yang', 'dilakukan', 'harus', 'relevan', 'dengan', 'kebutuhan', 'organisasi', '.', 'Data', 'analyst', 'tidak', 'hanya', 'memberikan', 'laporan', ',', 'tetapi', 'juga', 'memberikan', 'rekomendasi', 'berdasarkan', 'analisis', 'mereka', ',', 'yang', 'memungkinkan', 'perusahaan', 'untuk', 'mengambil', 'tindakan', 'strategis', 'yang', 'lebih', 'tepat', 'sasaran', '.', 'Oleh', 'karena', 'itu', ',', 'profesi', 'ini', 'memegang', 'peranan', 'krusial', 'dalam', 'era', 'yang', 'semakin', 'berpusat', 'pada', 'data', ',', 'di', 'mana', 'kemampuan', 'untuk', 'memanfaatkan', 'data', 'dengan', 'tepat', 'dapat', 'menjadi', 'pembeda', 'antara', 'keberhasilan', 'dan', 'kegagalan', 'bisnis', '.']\n"
     ]
    }
   ],
   "source": [
    "from nltk.tokenize import word_tokenize\n",
    "words = word_tokenize(text)\n",
    "print(words)"
   ]
  },
  {
   "cell_type": "markdown",
   "metadata": {
    "id": "H0fa2E4waCp4"
   },
   "source": [
    "Lanjut kita bakal pake stopword (untuk mendownload kata kata yang dianggap sebagai stopwords (kata kata yang umum dan tidak penting untuk dianalisis, seperti \"dan\", \"atau\", tanda koma (,)) dll."
   ]
  },
  {
   "cell_type": "code",
   "execution_count": 5,
   "metadata": {
    "colab": {
     "base_uri": "https://localhost:8080/"
    },
    "executionInfo": {
     "elapsed": 38,
     "status": "ok",
     "timestamp": 1734056966268,
     "user": {
      "displayName": "Achmad Rifa'i R.",
      "userId": "02367818246972664028"
     },
     "user_tz": -420
    },
    "id": "Z-d7BNc2aCUj",
    "outputId": "dcbea0dd-b62c-4cb2-cd5e-fdd83f36ba0b"
   },
   "outputs": [
    {
     "name": "stdout",
     "output_type": "stream",
     "text": [
      "['Data', 'analyst', 'adalah', 'profesional', 'yang', 'berperan', 'penting', 'dalam', 'mengolah', 'dan', 'menganalisis', 'data', 'untuk', 'menghasilkan', 'wawasan', 'yang', 'dapat', 'membantu', 'pengambilan', 'keputusan', 'bisnis', '.', 'Dalam', 'menjalankan', 'tugasnya', ',', 'seorang', 'data', 'analyst', 'menggunakan', 'berbagai', 'alat', 'dan', 'teknik', 'analisis', 'data', ',', 'seperti', 'Excel', ',', 'SQL', ',', 'Python', ',', 'atau', 'R', 'untuk', 'memproses', ',', 'menganalisis', ',', 'dan', 'memvisualisasikan', 'data', '.', 'Tugas', 'utamanya', 'adalah', 'mengidentifikasi', 'pola', ',', 'tren', ',', 'atau', 'anomali', 'dalam', 'data', 'yang', 'kemudian', 'diterjemahkan', 'ke', 'dalam', 'laporan', 'yang', 'dapat', 'dipahami', 'oleh', 'tim', 'manajemen', 'atau', 'pemangku', 'kepentingan', 'lainnya', '.', 'Peran', 'ini', 'sangat', 'dibutuhkan', 'di', 'berbagai', 'sektor', ',', 'mulai', 'dari', 'e-commerce', ',', 'keuangan', ',', 'hingga', 'kesehatan', ',', 'di', 'mana', 'pengambilan', 'keputusan', 'yang', 'didasarkan', 'pada', 'data', 'sangat', 'penting', 'untuk', 'keberhasilan', 'organisasi', '.', 'Selain', 'keterampilan', 'teknis', ',', 'seorang', 'data', 'analyst', 'juga', 'harus', 'memiliki', 'kemampuan', 'komunikasi', 'yang', 'baik', 'untuk', 'menyampaikan', 'temuan', 'analisis', 'secara', 'efektif', 'kepada', 'audiens', 'yang', 'mungkin', 'tidak', 'memiliki', 'latar', 'belakang', 'teknis', '.', 'Pemahaman', 'bisnis', 'yang', 'kuat', 'juga', 'menjadi', 'nilai', 'tambah', 'karena', 'analisis', 'yang', 'dilakukan', 'harus', 'relevan', 'dengan', 'kebutuhan', 'organisasi', '.', 'Data', 'analyst', 'tidak', 'hanya', 'memberikan', 'laporan', ',', 'tetapi', 'juga', 'memberikan', 'rekomendasi', 'berdasarkan', 'analisis', 'mereka', ',', 'yang', 'memungkinkan', 'perusahaan', 'untuk', 'mengambil', 'tindakan', 'strategis', 'yang', 'lebih', 'tepat', 'sasaran', '.', 'Oleh', 'karena', 'itu', ',', 'profesi', 'ini', 'memegang', 'peranan', 'krusial', 'dalam', 'era', 'yang', 'semakin', 'berpusat', 'pada', 'data', ',', 'di', 'mana', 'kemampuan', 'untuk', 'memanfaatkan', 'data', 'dengan', 'tepat', 'dapat', 'menjadi', 'pembeda', 'antara', 'keberhasilan', 'dan', 'kegagalan', 'bisnis', '.']\n",
      "{'selaku', 'dong', 'beginian', 'semata', 'hal', 'sejenak', 'apakah', 'kita', 'melakukan', 'menuju', 'sudahkah', 'diberikannya', 'serupa', 'setinggi', 'dimulailah', 'lain', 'demikianlah', 'belakang', 'bermula', 'kepadanya', 'meski', 'bapak', 'semacam', 'sini', 'seluruh', 'begitukah', 'mengatakan', 'kalian', 'sedikit', 'sebisanya', 'sekurang-kurangnya', 'setiap', 'perlu', 'tempat', 'kasus', 'jelaskan', 'yakni', 'terlihat', 'selalu', 'memperbuat', 'persoalan', 'ingat', 'seringnya', 'se', 'awal', 'sebanyak', 'siap', 'mulanya', 'sebesar', 'sejauh', 'seingat', 'agak', 'sepantasnya', 'beginikah', 'diucapkannya', 'pak', 'lainnya', 'dini', 'sama-sama', 'segera', 'jelasnya', 'dibuatnya', 'meyakini', 'sekiranya', 'mirip', 'makin', 'diibaratkannya', 'sekadar', 'kiranya', 'bagaikan', 'dimaksudkan', 'nah', 'kembali', 'hingga', 'mengucapkan', 'menyangkut', 'tandas', 'berlangsung', 'diri', 'tidakkah', 'sepantasnyalah', 'terdahulu', 'sekecil', 'berupa', 'kinilah', 'saling', 'menanti-nanti', 'juga', 'kamulah', 'setibanya', 'terhadapnya', 'sampai-sampai', 'bermaksud', 'ternyata', 'dimaksudkannya', 'wahai', 'karenanya', 'bukankah', 'ucap', 'sempat', 'jawab', 'usai', 'ujarnya', 'berlainan', 'sebagian', 'dipunyai', 'kelima', 'janganlah', 'inginkan', 'antaranya', 'sedang', 'diperlukannya', 'bekerja', 'ditunjukkannya', 'wah', 'dalam', 'setempat', 'berapapun', 'dan', 'diperlihatkan', 'diingatkan', 'lagi', 'dipersoalkan', 'menunjuknya', 'demi', 'bertanya-tanya', 'kelamaan', 'melihatnya', 'sampai', 'jumlah', 'mengingat', 'berikut', 'semuanya', 'setidak-tidaknya', 'mana', 'akankah', 'semata-mata', 'kepada', 'memperlihatkan', 'itulah', 'diperkirakan', 'beginilah', 'menanti', 'ujar', 'buat', 'pertanyaan', 'sebenarnya', 'belakangan', 'ibaratnya', 'lanjutnya', 'ditandaskan', 'memulai', 'melainkan', 'dikerjakan', 'kira', 'sesudah', 'tapi', 'berbagai', 'didapat', 'hendak', 'waktunya', 'mengerjakan', 'menghendaki', 'saatnya', 'siapa', 'tetapi', 'diperbuatnya', 'kurang', 'kami', 'sesaat', 'bisakah', 'dikarenakan', 'maupun', 'berawal', 'andalah', 'seperlunya', 'dipergunakan', 'menuturkan', 'padahal', 'menjawab', 'olehnya', 'minta', 'sebutlah', 'sekalipun', 'sementara', 'supaya', 'tentunya', 'keinginan', 'menyeluruh', 'mengakhiri', 'sendiri', 'jangankan', 'atau', 'dibuat', 'jadi', 'tidaklah', 'yang', 'jauh', 'bagian', 'setiba', 'dengan', 'dimulainya', 'pada', 'ditunjuki', 'datang', 'tanyanya', 'mungkinkah', 'kesampaian', 'mengatakannya', 'bersiap-siap', 'dirinya', 'kecil', 'mendatang', 'sampaikan', 'mempertanyakan', 'berakhir', 'tandasnya', 'sekitar', 'keadaan', 'tiga', 'kelihatannya', 'sedikitnya', 'ungkap', 'melihat', 'harus', 'sekurangnya', 'meyakinkan', 'selama', 'para', 'pasti', 'ungkapnya', 'kamilah', 'mengira', 'mampu', 'justru', 'misalkan', 'perlukah', 'sama', 'tanyakan', 'bukan', 'malah', 'meminta', 'lama', 'betul', 'diberi', 'tersampaikan', 'tampaknya', 'katakan', 'kapan', 'sebelumnya', 'sehingga', 'terdiri', 'harusnya', 'kalaupun', 'tersebutlah', 'bagaimana', 'digunakan', 'dilihat', 'memperkirakan', 'pihak', 'terbanyak', 'tiba', 'atas', 'nyatanya', 'per', 'melalui', 'kini', 'dahulu', 'mempunyai', 'mendapatkan', 'keterlaluan', 'mengapa', 'begitulah', 'memisalkan', 'tahu', 'berakhirlah', 'boleh', 'diperlukan', 'kira-kira', 'umumnya', 'memungkinkan', 'diibaratkan', 'dimisalkan', 'sebelum', 'dijawab', 'menantikan', 'itukah', 'terasa', 'lanjut', 'sekarang', 'tengah', 'adapun', 'sejak', 'waktu', 'dulu', 'terhadap', 'balik', 'sesegera', 'dimungkinkan', 'hanyalah', 'disinilah', 'sebaiknya', 'punya', 'pertama', 'dilakukan', 'caranya', 'semakin', 'inginkah', 'teringat', 'sendirinya', 'soalnya', 'tertentu', 'kemudian', 'bukanlah', 'ditanya', 'seorang', 'asalkan', 'memang', 'terkira', 'kapankah', 'memastikan', 'diinginkan', 'maka', 'terakhir', 'anda', 'guna', 'selain', 'lagian', 'kedua', 'menyebutkan', 'menggunakan', 'mempersiapkan', 'mampukah', 'lalu', 'menunjukkan', 'nantinya', 'bakalan', 'kapanpun', 'hendaknya', 'panjang', 'sajalah', 'soal', 'terdapat', 'tunjuk', 'dituturkannya', 'sepertinya', 'bagaimanakah', 'diketahuinya', 'berada', 'khususnya', 'dipertanyakan', 'tambahnya', 'hanya', 'kok', 'sesama', 'manakala', 'dilalui', 'bahwa', 'walau', 'seperti', 'menanyakan', 'menyiapkan', 'diberikan', 'sekalian', 'turut', 'sebabnya', 'pun', 'nyaris', 'hampir', 'bisa', 'sudah', 'berkali-kali', 'dimaksud', 'cukup', 'begitu', 'menjelaskan', 'menginginkan', 'menyatakan', 'sinilah', 'tertuju', 'tutur', 'sepihak', 'semua', 'betulkah', 'suatu', 'sudahlah', 'bagi', 'pantas', 'mendatangi', 'akan', 'ditunjukkan', 'semasa', 'sering', 'ditanyakan', 'katanya', 'bertanya', 'berlalu', 'pernah', 'biasanya', 'dialah', 'lebih', 'sedangkan', 'segalanya', 'saja', 'enggak', 'katakanlah', 'sangat', 'berakhirnya', 'depan', 'mereka', 'itu', 'setidaknya', 'kenapa', 'seharusnya', 'nanti', 'mempergunakan', 'ia', 'sedemikian', 'hari', 'bung', 'aku', 'terjadilah', 'sesampai', 'dia', 'yakin', 'akhir', 'mungkin', 'apatah', 'dikira', 'jelaslah', 'yaitu', 'kemungkinan', 'teringat-ingat', 'membuat', 'seluruhnya', 'gunakan', 'di', 'waduh', 'rasanya', 'hendaklah', 'amat', 'jelas', 'berikan', 'benarkah', 'disebutkan', 'tentulah', 'bermacam', 'kebetulan', 'masing', 'menanya', 'ke', 'misal', 'sana', 'bersama', 'bermacam-macam', 'mengingatkan', 'seolah', 'dijelaskan', 'semampu', 'cara', 'keseluruhan', 'secara', 'semampunya', 'dipastikan', 'ibu', 'sesuatu', 'ini', 'pihaknya', 'penting', 'artinya', 'sebuah', 'tuturnya', 'enggaknya', 'seusai', 'dimaksudnya', 'terlebih', 'akulah', 'bahkan', 'merekalah', 'lewat', 'sekaligus', 'dimintai', 'oleh', 'ikut', 'keluar', 'lima', 'mengenai', 'banyak', 'berdatangan', 'kalau', 'tanya', 'berjumlah', 'ditunjuknya', 'tambah', 'siapakah', 'walaupun', 'satu', 'makanya', 'menjadi', 'haruslah', 'sebagai', 'kala', 'menunjuki', 'jangan', 'jadilah', 'termasuk', 'terutama', 'lamanya', 'luar', 'ditambahkan', 'tegasnya', 'sepanjang', 'bawah', 'tinggi', 'sebaik', 'diperbuat', 'lah', 'wong', 'bahwasanya', 'malahan', 'diucapkan', 'tiap', 'berapa', 'dituturkan', 'keseluruhannya', 'bakal', 'inikah', 'semasih', 'empat', 'benarlah', 'sendirian', 'didatangkan', 'meskipun', 'ada', 'pentingnya', 'saat', 'adanya', 'berkenaan', 'ialah', 'sela', 'cukuplah', 'diminta', 'kamu', 'masih', 'bersiap', 'sekali-kali', 'usah', 'memberikan', 'rupanya', 'berikutnya', 'rata', 'terus', 'tetap', 'perlunya', 'toh', 'pula', 'naik', 'amatlah', 'bersama-sama', 'mendatangkan', 'diungkapkan', 'begini', 'jawaban', 'akhirnya', 'kan', 'mengetahui', 'demikian', 'manalagi', 'semula', 'mulailah', 'tampak', 'kalaulah', 'umum', 'seenaknya', 'begitupun', 'cukupkah', 'percuma', 'pukul', 'sebetulnya', 'ditegaskan', 'masalahnya', 'memerlukan', 'menegaskan', 'apabila', 'serta', 'mengucapkannya', 'menyampaikan', 'mula', 'sebutnya', 'sekitarnya', 'tiba-tiba', 'rasa', 'diketahui', 'pertama-tama', 'memintakan', 'sekadarnya', 'menunjuk', 'berarti', 'antar', 'sesuatunya', 'dari', 'dikatakannya', 'tentang', 'selanjutnya', 'macam', 'seseorang', 'tahun', 'berkata', 'ingat-ingat', 'apalagi', 'sewaktu', 'entah', 'tanpa', 'belumlah', 'kata', 'besar', 'segala', 'inilah', 'beberapa', 'berturut', 'sebegitu', 'ucapnya', 'sebagaimana', 'sambil', 'belum', 'asal', 'ataupun', 'bila', 'bagaimanapun', 'paling', 'ibaratkan', 'ingin', 'dapat', 'diakhirinya', 'mengibaratkan', 'terjadi', 'sesudahnya', 'pertanyakan', 'sebegini', 'bolehkah', 'bulan', 'secukupnya', 'sekali', 'benar', 'bolehlah', 'ditujukan', 'seolah-olah', 'bilakah', 'setengah', 'awalnya', 'diantaranya', 'disampaikan', 'agar', 'sebab', 'misalnya', 'semisal', 'disebutkannya', 'tak', 'daripada', 'mengungkapkan', 'bukannya', 'beri', 'masalah', 'selama-lamanya', 'masa', 'sebaliknya', 'selamanya', 'saya', 'merupakan', 'kitalah', 'merasa', 'agaknya', 'diantara', 'berapalah', 'mempersoalkan', 'semisalnya', 'berkehendak', 'sejumlah', 'tadi', 'diingat', 'berapakah', 'jumlahnya', 'terjadinya', 'jawabnya', 'menanyai', 'dekat', 'biasa', 'padanya', 'entahlah', 'kemungkinannya', 'sayalah', 'sesekali', 'jadinya', 'apaan', 'berturut-turut', 'berkeinginan', 'memberi', 'bertutur', 'disebut', 'ketika', 'tersebut', 'masihkah', 'telah', 'ditunjuk', 'keduanya', 'ibarat', 'jika', 'masing-masing', 'baik', 'tidak', 'sangatlah', 'adalah', 'dimulai', 'mulai', 'dua', 'antara', 'bagai', 'dikatakan', 'disini', 'seterusnya', 'semaunya', 'memihak', 'sebut', 'mendapat', 'tegas', 'berlebihan', 'diakhiri', 'pastilah', 'ataukah', 'namun', 'menaiki', 'sebaik-baiknya', 'baru', 'tentu', 'tadinya', 'untuk', 'berujar', 'mengibaratkannya', 'sebagainya', 'ditanyai', 'seberapa', 'kelihatan', 'jikalau', 'akhiri', 'cuma', 'tepat', 'seketika', 'menurut', 'dijelaskannya', 'mau', 'menandaskan', 'terlalu', 'karena', 'menambahkan', 'apa', 'siapapun', 'setelah'}\n"
     ]
    }
   ],
   "source": [
    "from nltk.corpus import stopwords\n",
    "word_in_text= word_tokenize(text)\n",
    "print(word_in_text)\n",
    "stop_words = set(stopwords.words('indonesian'))\n",
    "print(stop_words)\n",
    "#inisialisasi apa yang mau dibuang\n",
    "stop_words.add(',')\n",
    "stop_words.add('.')\n",
    "stop_words.add('(')\n",
    "stop_words.add(')')"
   ]
  },
  {
   "cell_type": "code",
   "execution_count": 6,
   "metadata": {
    "colab": {
     "base_uri": "https://localhost:8080/"
    },
    "executionInfo": {
     "elapsed": 34,
     "status": "ok",
     "timestamp": 1734056966268,
     "user": {
      "displayName": "Achmad Rifa'i R.",
      "userId": "02367818246972664028"
     },
     "user_tz": -420
    },
    "id": "hB6BXRVPcmip",
    "outputId": "661046cb-63e2-4e9e-cd50-5cdd6830050a"
   },
   "outputs": [
    {
     "data": {
      "text/plain": [
       "['Data',\n",
       " 'analyst',\n",
       " 'profesional',\n",
       " 'berperan',\n",
       " 'mengolah',\n",
       " 'menganalisis',\n",
       " 'data',\n",
       " 'menghasilkan',\n",
       " 'wawasan',\n",
       " 'membantu',\n",
       " 'pengambilan',\n",
       " 'keputusan',\n",
       " 'bisnis',\n",
       " 'menjalankan',\n",
       " 'tugasnya',\n",
       " 'data',\n",
       " 'analyst',\n",
       " 'alat',\n",
       " 'teknik',\n",
       " 'analisis',\n",
       " 'data',\n",
       " 'Excel',\n",
       " 'SQL',\n",
       " 'Python',\n",
       " 'R',\n",
       " 'memproses',\n",
       " 'menganalisis',\n",
       " 'memvisualisasikan',\n",
       " 'data',\n",
       " 'Tugas',\n",
       " 'utamanya',\n",
       " 'mengidentifikasi',\n",
       " 'pola',\n",
       " 'tren',\n",
       " 'anomali',\n",
       " 'data',\n",
       " 'diterjemahkan',\n",
       " 'laporan',\n",
       " 'dipahami',\n",
       " 'tim',\n",
       " 'manajemen',\n",
       " 'pemangku',\n",
       " 'kepentingan',\n",
       " 'Peran',\n",
       " 'dibutuhkan',\n",
       " 'sektor',\n",
       " 'e-commerce',\n",
       " 'keuangan',\n",
       " 'kesehatan',\n",
       " 'pengambilan',\n",
       " 'keputusan',\n",
       " 'didasarkan',\n",
       " 'data',\n",
       " 'keberhasilan',\n",
       " 'organisasi',\n",
       " 'keterampilan',\n",
       " 'teknis',\n",
       " 'data',\n",
       " 'analyst',\n",
       " 'memiliki',\n",
       " 'kemampuan',\n",
       " 'komunikasi',\n",
       " 'temuan',\n",
       " 'analisis',\n",
       " 'efektif',\n",
       " 'audiens',\n",
       " 'memiliki',\n",
       " 'latar',\n",
       " 'teknis',\n",
       " 'Pemahaman',\n",
       " 'bisnis',\n",
       " 'kuat',\n",
       " 'nilai',\n",
       " 'analisis',\n",
       " 'relevan',\n",
       " 'kebutuhan',\n",
       " 'organisasi',\n",
       " 'Data',\n",
       " 'analyst',\n",
       " 'laporan',\n",
       " 'rekomendasi',\n",
       " 'berdasarkan',\n",
       " 'analisis',\n",
       " 'perusahaan',\n",
       " 'mengambil',\n",
       " 'tindakan',\n",
       " 'strategis',\n",
       " 'sasaran',\n",
       " 'profesi',\n",
       " 'memegang',\n",
       " 'peranan',\n",
       " 'krusial',\n",
       " 'era',\n",
       " 'berpusat',\n",
       " 'data',\n",
       " 'kemampuan',\n",
       " 'memanfaatkan',\n",
       " 'data',\n",
       " 'pembeda',\n",
       " 'keberhasilan',\n",
       " 'kegagalan',\n",
       " 'bisnis']"
      ]
     },
     "execution_count": 6,
     "metadata": {},
     "output_type": "execute_result"
    }
   ],
   "source": [
    "#filter kata untuk menghilangkan stop words dan tanda baca\n",
    "filtered_words = [word for word in words if word.lower() not in stop_words]\n",
    "filtered_words"
   ]
  },
  {
   "cell_type": "markdown",
   "metadata": {
    "id": "VjCSLVRxdxXP"
   },
   "source": [
    "pertama kita pake porter stemmer itu ngubah kata kata yang berimbuhan jadi kata dasarnya. sebenernya kalo stemmer kurang recomended buat bahasa indonesia. Biasanya stemmer itu dipake buat bahasa inggris"
   ]
  },
  {
   "cell_type": "code",
   "execution_count": 7,
   "metadata": {
    "colab": {
     "base_uri": "https://localhost:8080/"
    },
    "executionInfo": {
     "elapsed": 27,
     "status": "ok",
     "timestamp": 1734056966269,
     "user": {
      "displayName": "Achmad Rifa'i R.",
      "userId": "02367818246972664028"
     },
     "user_tz": -420
    },
    "id": "4grbKRVfd43q",
    "outputId": "0e590eeb-0e81-4c7a-fe7f-6bf87b249e8f"
   },
   "outputs": [
    {
     "data": {
      "text/plain": [
       "['data',\n",
       " 'analyst',\n",
       " 'profesion',\n",
       " 'berperan',\n",
       " 'mengolah',\n",
       " 'menganalisi',\n",
       " 'data',\n",
       " 'menghasilkan',\n",
       " 'wawasan',\n",
       " 'membantu',\n",
       " 'pengambilan',\n",
       " 'keputusan',\n",
       " 'bisni',\n",
       " 'menjalankan',\n",
       " 'tugasnya',\n",
       " 'data',\n",
       " 'analyst',\n",
       " 'alat',\n",
       " 'teknik',\n",
       " 'analisi',\n",
       " 'data',\n",
       " 'excel',\n",
       " 'sql',\n",
       " 'python',\n",
       " 'r',\n",
       " 'mempros',\n",
       " 'menganalisi',\n",
       " 'memvisualisasikan',\n",
       " 'data',\n",
       " 'tuga',\n",
       " 'utamanya',\n",
       " 'mengidentifikasi',\n",
       " 'pola',\n",
       " 'tren',\n",
       " 'anomali',\n",
       " 'data',\n",
       " 'diterjemahkan',\n",
       " 'laporan',\n",
       " 'dipahami',\n",
       " 'tim',\n",
       " 'manajemen',\n",
       " 'pemangku',\n",
       " 'kepentingan',\n",
       " 'peran',\n",
       " 'dibutuhkan',\n",
       " 'sektor',\n",
       " 'e-commerc',\n",
       " 'keuangan',\n",
       " 'kesehatan',\n",
       " 'pengambilan',\n",
       " 'keputusan',\n",
       " 'didasarkan',\n",
       " 'data',\n",
       " 'keberhasilan',\n",
       " 'organisasi',\n",
       " 'keterampilan',\n",
       " 'tekni',\n",
       " 'data',\n",
       " 'analyst',\n",
       " 'memiliki',\n",
       " 'kemampuan',\n",
       " 'komunikasi',\n",
       " 'temuan',\n",
       " 'analisi',\n",
       " 'efektif',\n",
       " 'audien',\n",
       " 'memiliki',\n",
       " 'latar',\n",
       " 'tekni',\n",
       " 'pemahaman',\n",
       " 'bisni',\n",
       " 'kuat',\n",
       " 'nilai',\n",
       " 'analisi',\n",
       " 'relevan',\n",
       " 'kebutuhan',\n",
       " 'organisasi',\n",
       " 'data',\n",
       " 'analyst',\n",
       " 'laporan',\n",
       " 'rekomendasi',\n",
       " 'berdasarkan',\n",
       " 'analisi',\n",
       " 'perusahaan',\n",
       " 'mengambil',\n",
       " 'tindakan',\n",
       " 'strategi',\n",
       " 'sasaran',\n",
       " 'profesi',\n",
       " 'memegang',\n",
       " 'peranan',\n",
       " 'krusial',\n",
       " 'era',\n",
       " 'berpusat',\n",
       " 'data',\n",
       " 'kemampuan',\n",
       " 'memanfaatkan',\n",
       " 'data',\n",
       " 'pembeda',\n",
       " 'keberhasilan',\n",
       " 'kegagalan',\n",
       " 'bisni']"
      ]
     },
     "execution_count": 7,
     "metadata": {},
     "output_type": "execute_result"
    }
   ],
   "source": [
    "from nltk.stem import PorterStemmer\n",
    "\n",
    "ps = PorterStemmer()\n",
    "stemmed_words = [ps.stem(word) for word in filtered_words]\n",
    "stemmed_words"
   ]
  },
  {
   "cell_type": "markdown",
   "metadata": {
    "id": "G_spONVMiPOb"
   },
   "source": [
    "pertama kita pake porter stemmer itu ngubah kata kata yang berimbuhan jadi kata dasarnya.\n",
    "from nltk.stem import WordNetLemmatizer ini lebih rekomended buat teks yang bahasa indonesia"
   ]
  },
  {
   "cell_type": "code",
   "execution_count": 8,
   "metadata": {
    "colab": {
     "base_uri": "https://localhost:8080/"
    },
    "executionInfo": {
     "elapsed": 3727,
     "status": "ok",
     "timestamp": 1734056969974,
     "user": {
      "displayName": "Achmad Rifa'i R.",
      "userId": "02367818246972664028"
     },
     "user_tz": -420
    },
    "id": "gNfWFabShpGZ",
    "outputId": "510d4b65-ca40-4246-d306-7198b28ebef6"
   },
   "outputs": [
    {
     "name": "stdout",
     "output_type": "stream",
     "text": [
      "['Data', 'analyst', 'profesional', 'berperan', 'mengolah', 'menganalisis', 'data', 'menghasilkan', 'wawasan', 'membantu', 'pengambilan', 'keputusan', 'bisnis', 'menjalankan', 'tugasnya', 'data', 'analyst', 'alat', 'teknik', 'analisis', 'data', 'Excel', 'SQL', 'Python', 'R', 'memproses', 'menganalisis', 'memvisualisasikan', 'data', 'Tugas', 'utamanya', 'mengidentifikasi', 'pola', 'tren', 'anomali', 'data', 'diterjemahkan', 'laporan', 'dipahami', 'tim', 'manajemen', 'pemangku', 'kepentingan', 'Peran', 'dibutuhkan', 'sektor', 'e-commerce', 'keuangan', 'kesehatan', 'pengambilan', 'keputusan', 'didasarkan', 'data', 'keberhasilan', 'organisasi', 'keterampilan', 'teknis', 'data', 'analyst', 'memiliki', 'kemampuan', 'komunikasi', 'temuan', 'analisis', 'efektif', 'audiens', 'memiliki', 'latar', 'teknis', 'Pemahaman', 'bisnis', 'kuat', 'nilai', 'analisis', 'relevan', 'kebutuhan', 'organisasi', 'Data', 'analyst', 'laporan', 'rekomendasi', 'berdasarkan', 'analisis', 'perusahaan', 'mengambil', 'tindakan', 'strategis', 'sasaran', 'profesi', 'memegang', 'peranan', 'krusial', 'era', 'berpusat', 'data', 'kemampuan', 'memanfaatkan', 'data', 'pembeda', 'keberhasilan', 'kegagalan', 'bisnis']\n"
     ]
    }
   ],
   "source": [
    "from nltk.stem import WordNetLemmatizer\n",
    "\n",
    "lemmatizer= WordNetLemmatizer()\n",
    "lemmatized_words = [lemmatizer.lemmatize(word) for word in filtered_words]\n",
    "print(lemmatized_words)"
   ]
  },
  {
   "cell_type": "code",
   "execution_count": 9,
   "metadata": {
    "colab": {
     "base_uri": "https://localhost:8080/",
     "height": 536
    },
    "executionInfo": {
     "elapsed": 1392,
     "status": "ok",
     "timestamp": 1734056971358,
     "user": {
      "displayName": "Achmad Rifa'i R.",
      "userId": "02367818246972664028"
     },
     "user_tz": -420
    },
    "id": "LMFhcCWZijs4",
    "outputId": "2c0300f5-8f74-491c-f114-73dc9bacc584"
   },
   "outputs": [
    {
     "data": {
      "image/png": "[encoded data removed]",
      "text/plain": [
       "<Figure size 640x480 with 1 Axes>"
      ]
     },
     "metadata": {},
     "output_type": "display_data"
    }
   ],
   "source": [
    "from collections import Counter\n",
    "import matplotlib.pyplot as plt\n",
    "\n",
    "word_freq = Counter(lemmatized_words)\n",
    "most_common_words = word_freq.most_common(20)\n",
    "\n",
    "words, counts= zip(*most_common_words)\n",
    "\n",
    "plt.bar(words, counts)\n",
    "plt.xlabel('Words')\n",
    "plt.ylabel('Frequency')\n",
    "plt.xticks(rotation=45)\n",
    "plt.title('Most Common Words')\n",
    "plt.show()"
   ]
  }
 ],
 "metadata": {
  "colab": {
   "provenance": []
  },
  "kernelspec": {
   "display_name": "Python 3 (ipykernel)",
   "language": "python",
   "name": "python3"
  },
  "language_info": {
   "codemirror_mode": {
    "name": "ipython",
    "version": 3
   },
   "file_extension": ".py",
   "mimetype": "text/x-python",
   "name": "python",
   "nbconvert_exporter": "python",
   "pygments_lexer": "ipython3",
   "version": "3.12.4"
  }
 },
 "nbformat": 4,
 "nbformat_minor": 4
}
