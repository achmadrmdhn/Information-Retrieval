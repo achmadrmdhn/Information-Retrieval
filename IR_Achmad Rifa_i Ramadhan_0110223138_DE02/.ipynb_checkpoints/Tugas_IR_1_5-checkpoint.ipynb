{
 "cells": [
  {
   "cell_type": "code",
   "execution_count": 36,
   "metadata": {
    "colab": {
     "base_uri": "https://localhost:8080/"
    },
    "id": "OUcWbLAtYKwP",
    "outputId": "cc6ecfbd-de17-416a-8ac1-d326c3910051"
   },
   "outputs": [
    {
     "name": "stderr",
     "output_type": "stream",
     "text": [
      "[nltk_data] Downloading package punkt to\n",
      "[nltk_data]     C:\\Users\\achma\\AppData\\Roaming\\nltk_data...\n",
      "[nltk_data]   Package punkt is already up-to-date!\n",
      "[nltk_data] Downloading package stopwords to\n",
      "[nltk_data]     C:\\Users\\achma\\AppData\\Roaming\\nltk_data...\n",
      "[nltk_data]   Package stopwords is already up-to-date!\n",
      "[nltk_data] Downloading package wordnet to\n",
      "[nltk_data]     C:\\Users\\achma\\AppData\\Roaming\\nltk_data...\n",
      "[nltk_data]   Package wordnet is already up-to-date!\n",
      "[nltk_data] Downloading package punkt_tab to\n",
      "[nltk_data]     C:\\Users\\achma\\AppData\\Roaming\\nltk_data...\n",
      "[nltk_data]   Package punkt_tab is already up-to-date!\n"
     ]
    },
    {
     "data": {
      "text/plain": [
       "True"
      ]
     },
     "execution_count": 36,
     "metadata": {},
     "output_type": "execute_result"
    }
   ],
   "source": [
    "import nltk\n",
    "nltk.download('punkt') #untuk tokenisasi\n",
    "nltk.download('stopwords') #untuk stopword\n",
    "nltk.download('wordnet') #untuk lemmatization\n",
    "nltk.download('punkt_tab')"
   ]
  },
  {
   "cell_type": "code",
   "execution_count": 37,
   "metadata": {
    "id": "msYXt0z0YaXC"
   },
   "outputs": [],
   "source": [
    "from nltk.tokenize import sent_tokenize #Memotong paragraf menjadi kalimat\n",
    "\n",
    "text=\"\"\"\n",
    "Information retrieval (information retrieval), while it has been applied in various fields of human life.\n",
    "Library, museum, document management, knowledge management, collection management, records management has\n",
    "been known before the web search engines (search engine website, often referred to as search engines only) applied.\n",
    "The Web as a medium that would later appear, it requires also a model retrieval system of its own. Before the use of\n",
    "a search engine website that is known at this time, experts of the library has been trying to apply the principles of\n",
    "categorization and classification as they arrange the collection of the library. However, it turns out that the website has its own characteristics,\n",
    "so the model that they develop quickly outdated. The Website has the properties of fast-changing and temporary. In this paper, the authors discuss how\n",
    "the implementation of information retrieval in search engines. The results showed that search engines continue to evolve to provide information that is\n",
    "relevant to the development of the evaluation process, improving the ability, update data, continue to adapt to users ' needs, improve the ability of the performance of the device, and try to solve the problem encountered.\n",
    "\"\"\""
   ]
  },
  {
   "cell_type": "code",
   "execution_count": 38,
   "metadata": {
    "colab": {
     "base_uri": "https://localhost:8080/"
    },
    "id": "TL7VRuBYYj76",
    "outputId": "8b140fea-2858-4aa9-c8e6-38524dc390b5"
   },
   "outputs": [
    {
     "data": {
      "text/plain": [
       "['\\nInformation retrieval (information retrieval), while it has been applied in various fields of human life.',\n",
       " 'Library, museum, document management, knowledge management, collection management, records management has\\nbeen known before the web search engines (search engine website, often referred to as search engines only) applied.',\n",
       " 'The Web as a medium that would later appear, it requires also a model retrieval system of its own.',\n",
       " 'Before the use of\\na search engine website that is known at this time, experts of the library has been trying to apply the principles of\\ncategorization and classification as they arrange the collection of the library.',\n",
       " 'However, it turns out that the website has its own characteristics,\\nso the model that they develop quickly outdated.',\n",
       " 'The Website has the properties of fast-changing and temporary.',\n",
       " 'In this paper, the authors discuss how\\nthe implementation of information retrieval in search engines.',\n",
       " \"The results showed that search engines continue to evolve to provide information that is\\nrelevant to the development of the evaluation process, improving the ability, update data, continue to adapt to users ' needs, improve the ability of the performance of the device, and try to solve the problem encountered.\"]"
      ]
     },
     "execution_count": 38,
     "metadata": {},
     "output_type": "execute_result"
    }
   ],
   "source": [
    "# Tokenisasi menjadi kalimat\n",
    "sentence = sent_tokenize(text)\n",
    "sentence"
   ]
  },
  {
   "cell_type": "code",
   "execution_count": 39,
   "metadata": {
    "colab": {
     "base_uri": "https://localhost:8080/"
    },
    "id": "cv6o31UyZKRg",
    "outputId": "3c88e5c7-11d6-4726-f271-9eccad2215b5"
   },
   "outputs": [
    {
     "name": "stdout",
     "output_type": "stream",
     "text": [
      "['Information', 'retrieval', '(', 'information', 'retrieval', ')', ',', 'while', 'it', 'has', 'been', 'applied', 'in', 'various', 'fields', 'of', 'human', 'life', '.', 'Library', ',', 'museum', ',', 'document', 'management', ',', 'knowledge', 'management', ',', 'collection', 'management', ',', 'records', 'management', 'has', 'been', 'known', 'before', 'the', 'web', 'search', 'engines', '(', 'search', 'engine', 'website', ',', 'often', 'referred', 'to', 'as', 'search', 'engines', 'only', ')', 'applied', '.', 'The', 'Web', 'as', 'a', 'medium', 'that', 'would', 'later', 'appear', ',', 'it', 'requires', 'also', 'a', 'model', 'retrieval', 'system', 'of', 'its', 'own', '.', 'Before', 'the', 'use', 'of', 'a', 'search', 'engine', 'website', 'that', 'is', 'known', 'at', 'this', 'time', ',', 'experts', 'of', 'the', 'library', 'has', 'been', 'trying', 'to', 'apply', 'the', 'principles', 'of', 'categorization', 'and', 'classification', 'as', 'they', 'arrange', 'the', 'collection', 'of', 'the', 'library', '.', 'However', ',', 'it', 'turns', 'out', 'that', 'the', 'website', 'has', 'its', 'own', 'characteristics', ',', 'so', 'the', 'model', 'that', 'they', 'develop', 'quickly', 'outdated', '.', 'The', 'Website', 'has', 'the', 'properties', 'of', 'fast-changing', 'and', 'temporary', '.', 'In', 'this', 'paper', ',', 'the', 'authors', 'discuss', 'how', 'the', 'implementation', 'of', 'information', 'retrieval', 'in', 'search', 'engines', '.', 'The', 'results', 'showed', 'that', 'search', 'engines', 'continue', 'to', 'evolve', 'to', 'provide', 'information', 'that', 'is', 'relevant', 'to', 'the', 'development', 'of', 'the', 'evaluation', 'process', ',', 'improving', 'the', 'ability', ',', 'update', 'data', ',', 'continue', 'to', 'adapt', 'to', 'users', \"'\", 'needs', ',', 'improve', 'the', 'ability', 'of', 'the', 'performance', 'of', 'the', 'device', ',', 'and', 'try', 'to', 'solve', 'the', 'problem', 'encountered', '.']\n"
     ]
    }
   ],
   "source": [
    "# Tokenisasi menjadi kata-kata\n",
    "from nltk.tokenize import word_tokenize\n",
    "words = word_tokenize(text)\n",
    "print(words)"
   ]
  },
  {
   "cell_type": "code",
   "execution_count": 40,
   "metadata": {
    "colab": {
     "base_uri": "https://localhost:8080/"
    },
    "id": "Z-d7BNc2aCUj",
    "outputId": "2521bff5-6bfa-436a-c236-69364f2add7f"
   },
   "outputs": [
    {
     "name": "stdout",
     "output_type": "stream",
     "text": [
      "['Information', 'retrieval', '(', 'information', 'retrieval', ')', ',', 'while', 'it', 'has', 'been', 'applied', 'in', 'various', 'fields', 'of', 'human', 'life', '.', 'Library', ',', 'museum', ',', 'document', 'management', ',', 'knowledge', 'management', ',', 'collection', 'management', ',', 'records', 'management', 'has', 'been', 'known', 'before', 'the', 'web', 'search', 'engines', '(', 'search', 'engine', 'website', ',', 'often', 'referred', 'to', 'as', 'search', 'engines', 'only', ')', 'applied', '.', 'The', 'Web', 'as', 'a', 'medium', 'that', 'would', 'later', 'appear', ',', 'it', 'requires', 'also', 'a', 'model', 'retrieval', 'system', 'of', 'its', 'own', '.', 'Before', 'the', 'use', 'of', 'a', 'search', 'engine', 'website', 'that', 'is', 'known', 'at', 'this', 'time', ',', 'experts', 'of', 'the', 'library', 'has', 'been', 'trying', 'to', 'apply', 'the', 'principles', 'of', 'categorization', 'and', 'classification', 'as', 'they', 'arrange', 'the', 'collection', 'of', 'the', 'library', '.', 'However', ',', 'it', 'turns', 'out', 'that', 'the', 'website', 'has', 'its', 'own', 'characteristics', ',', 'so', 'the', 'model', 'that', 'they', 'develop', 'quickly', 'outdated', '.', 'The', 'Website', 'has', 'the', 'properties', 'of', 'fast-changing', 'and', 'temporary', '.', 'In', 'this', 'paper', ',', 'the', 'authors', 'discuss', 'how', 'the', 'implementation', 'of', 'information', 'retrieval', 'in', 'search', 'engines', '.', 'The', 'results', 'showed', 'that', 'search', 'engines', 'continue', 'to', 'evolve', 'to', 'provide', 'information', 'that', 'is', 'relevant', 'to', 'the', 'development', 'of', 'the', 'evaluation', 'process', ',', 'improving', 'the', 'ability', ',', 'update', 'data', ',', 'continue', 'to', 'adapt', 'to', 'users', \"'\", 'needs', ',', 'improve', 'the', 'ability', 'of', 'the', 'performance', 'of', 'the', 'device', ',', 'and', 'try', 'to', 'solve', 'the', 'problem', 'encountered', '.']\n",
      "{\"she's\", 'll', 'other', \"needn't\", 'him', 'ours', 'few', 'while', 'am', 'in', 'myself', 'which', \"you've\", 'off', \"isn't\", 'whom', \"weren't\", 'ourselves', 'and', 'own', \"doesn't\", 'itself', 'me', \"don't\", 'wouldn', 'until', 'with', 're', \"wasn't\", 'had', 'm', 'its', 'won', \"didn't\", 'than', 'some', 'them', 'when', 'the', 'before', 'themselves', 'this', 'your', 'doing', 'theirs', 'just', 'hasn', 'shan', 'weren', 'they', \"hadn't\", 's', 'wasn', \"it's\", 'his', 'ain', 'or', 'has', 'against', 'there', 'as', 'of', 'their', 'most', 'these', 'but', 'ma', 'an', 'was', 'i', 'now', 'hers', 'mustn', 'were', 'y', \"you'd\", 'be', \"you'll\", 'have', 'isn', 'by', 'who', \"aren't\", 'd', 'should', 'shouldn', 'where', 'are', \"you're\", 'for', 'out', 'once', 'during', 'further', 'nor', 'each', 'you', \"won't\", 'did', 'again', 'down', 'it', 'will', 'yourselves', 'o', 'why', 'yours', 'up', 'a', 'at', 'both', 'being', 'my', 'then', \"that'll\", 'too', 'we', 'to', 'about', 'over', 'yourself', 'couldn', \"hasn't\", 'does', 'if', \"should've\", 'hadn', 'such', 'having', 'not', 'do', 'don', 'on', 'is', 'how', 'aren', 've', 'what', 'below', 'didn', 'so', 'can', 'after', 'very', 'from', \"shouldn't\", 'here', 'any', 't', \"mustn't\", 'our', 'through', 'himself', 'she', 'been', \"shan't\", 'needn', \"mightn't\", 'her', 'only', 'he', 'those', 'herself', 'under', 'between', 'above', 'that', \"wouldn't\", 'all', \"couldn't\", 'mightn', 'no', \"haven't\", 'into', 'haven', 'because', 'more', 'doesn', 'same'}\n"
     ]
    }
   ],
   "source": [
    "# Menghilangkan stop words dan tanda baca\n",
    "from nltk.corpus import stopwords\n",
    "word_in_text= word_tokenize(text)\n",
    "print(word_in_text)\n",
    "stop_words = set(stopwords.words('english'))\n",
    "print(stop_words)\n",
    "#inisialisasi apa yang mau dibuang\n",
    "stop_words.add(',')\n",
    "stop_words.add('.')\n",
    "stop_words.add('s')"
   ]
  },
  {
   "cell_type": "code",
   "execution_count": 41,
   "metadata": {
    "colab": {
     "base_uri": "https://localhost:8080/"
    },
    "id": "hB6BXRVPcmip",
    "outputId": "f5237e5e-1c90-4fd1-ee70-bd5b375d958f"
   },
   "outputs": [
    {
     "data": {
      "text/plain": [
       "['Information',\n",
       " 'retrieval',\n",
       " '(',\n",
       " 'information',\n",
       " 'retrieval',\n",
       " ')',\n",
       " 'applied',\n",
       " 'various',\n",
       " 'fields',\n",
       " 'human',\n",
       " 'life',\n",
       " 'Library',\n",
       " 'museum',\n",
       " 'document',\n",
       " 'management',\n",
       " 'knowledge',\n",
       " 'management',\n",
       " 'collection',\n",
       " 'management',\n",
       " 'records',\n",
       " 'management',\n",
       " 'known',\n",
       " 'web',\n",
       " 'search',\n",
       " 'engines',\n",
       " '(',\n",
       " 'search',\n",
       " 'engine',\n",
       " 'website',\n",
       " 'often',\n",
       " 'referred',\n",
       " 'search',\n",
       " 'engines',\n",
       " ')',\n",
       " 'applied',\n",
       " 'Web',\n",
       " 'medium',\n",
       " 'would',\n",
       " 'later',\n",
       " 'appear',\n",
       " 'requires',\n",
       " 'also',\n",
       " 'model',\n",
       " 'retrieval',\n",
       " 'system',\n",
       " 'use',\n",
       " 'search',\n",
       " 'engine',\n",
       " 'website',\n",
       " 'known',\n",
       " 'time',\n",
       " 'experts',\n",
       " 'library',\n",
       " 'trying',\n",
       " 'apply',\n",
       " 'principles',\n",
       " 'categorization',\n",
       " 'classification',\n",
       " 'arrange',\n",
       " 'collection',\n",
       " 'library',\n",
       " 'However',\n",
       " 'turns',\n",
       " 'website',\n",
       " 'characteristics',\n",
       " 'model',\n",
       " 'develop',\n",
       " 'quickly',\n",
       " 'outdated',\n",
       " 'Website',\n",
       " 'properties',\n",
       " 'fast-changing',\n",
       " 'temporary',\n",
       " 'paper',\n",
       " 'authors',\n",
       " 'discuss',\n",
       " 'implementation',\n",
       " 'information',\n",
       " 'retrieval',\n",
       " 'search',\n",
       " 'engines',\n",
       " 'results',\n",
       " 'showed',\n",
       " 'search',\n",
       " 'engines',\n",
       " 'continue',\n",
       " 'evolve',\n",
       " 'provide',\n",
       " 'information',\n",
       " 'relevant',\n",
       " 'development',\n",
       " 'evaluation',\n",
       " 'process',\n",
       " 'improving',\n",
       " 'ability',\n",
       " 'update',\n",
       " 'data',\n",
       " 'continue',\n",
       " 'adapt',\n",
       " 'users',\n",
       " \"'\",\n",
       " 'needs',\n",
       " 'improve',\n",
       " 'ability',\n",
       " 'performance',\n",
       " 'device',\n",
       " 'try',\n",
       " 'solve',\n",
       " 'problem',\n",
       " 'encountered']"
      ]
     },
     "execution_count": 41,
     "metadata": {},
     "output_type": "execute_result"
    }
   ],
   "source": [
    "#filter kata untuk menghilangkan stop words dan tanda baca\n",
    "filtered_words = [word for word in words if word.lower() not in stop_words]\n",
    "filtered_words"
   ]
  },
  {
   "cell_type": "code",
   "execution_count": 42,
   "metadata": {
    "colab": {
     "base_uri": "https://localhost:8080/"
    },
    "id": "4grbKRVfd43q",
    "outputId": "38ed2f91-f415-4463-81ae-4f5c6f2f7995"
   },
   "outputs": [
    {
     "data": {
      "text/plain": [
       "['inform',\n",
       " 'retriev',\n",
       " '(',\n",
       " 'inform',\n",
       " 'retriev',\n",
       " ')',\n",
       " 'appli',\n",
       " 'variou',\n",
       " 'field',\n",
       " 'human',\n",
       " 'life',\n",
       " 'librari',\n",
       " 'museum',\n",
       " 'document',\n",
       " 'manag',\n",
       " 'knowledg',\n",
       " 'manag',\n",
       " 'collect',\n",
       " 'manag',\n",
       " 'record',\n",
       " 'manag',\n",
       " 'known',\n",
       " 'web',\n",
       " 'search',\n",
       " 'engin',\n",
       " '(',\n",
       " 'search',\n",
       " 'engin',\n",
       " 'websit',\n",
       " 'often',\n",
       " 'refer',\n",
       " 'search',\n",
       " 'engin',\n",
       " ')',\n",
       " 'appli',\n",
       " 'web',\n",
       " 'medium',\n",
       " 'would',\n",
       " 'later',\n",
       " 'appear',\n",
       " 'requir',\n",
       " 'also',\n",
       " 'model',\n",
       " 'retriev',\n",
       " 'system',\n",
       " 'use',\n",
       " 'search',\n",
       " 'engin',\n",
       " 'websit',\n",
       " 'known',\n",
       " 'time',\n",
       " 'expert',\n",
       " 'librari',\n",
       " 'tri',\n",
       " 'appli',\n",
       " 'principl',\n",
       " 'categor',\n",
       " 'classif',\n",
       " 'arrang',\n",
       " 'collect',\n",
       " 'librari',\n",
       " 'howev',\n",
       " 'turn',\n",
       " 'websit',\n",
       " 'characterist',\n",
       " 'model',\n",
       " 'develop',\n",
       " 'quickli',\n",
       " 'outdat',\n",
       " 'websit',\n",
       " 'properti',\n",
       " 'fast-chang',\n",
       " 'temporari',\n",
       " 'paper',\n",
       " 'author',\n",
       " 'discuss',\n",
       " 'implement',\n",
       " 'inform',\n",
       " 'retriev',\n",
       " 'search',\n",
       " 'engin',\n",
       " 'result',\n",
       " 'show',\n",
       " 'search',\n",
       " 'engin',\n",
       " 'continu',\n",
       " 'evolv',\n",
       " 'provid',\n",
       " 'inform',\n",
       " 'relev',\n",
       " 'develop',\n",
       " 'evalu',\n",
       " 'process',\n",
       " 'improv',\n",
       " 'abil',\n",
       " 'updat',\n",
       " 'data',\n",
       " 'continu',\n",
       " 'adapt',\n",
       " 'user',\n",
       " \"'\",\n",
       " 'need',\n",
       " 'improv',\n",
       " 'abil',\n",
       " 'perform',\n",
       " 'devic',\n",
       " 'tri',\n",
       " 'solv',\n",
       " 'problem',\n",
       " 'encount']"
      ]
     },
     "execution_count": 42,
     "metadata": {},
     "output_type": "execute_result"
    }
   ],
   "source": [
    "# Stemming\n",
    "from nltk.stem import PorterStemmer\n",
    "\n",
    "ps = PorterStemmer()\n",
    "stemmed_words = [ps.stem(word) for word in filtered_words]\n",
    "stemmed_words"
   ]
  },
  {
   "cell_type": "code",
   "execution_count": 43,
   "metadata": {
    "colab": {
     "base_uri": "https://localhost:8080/"
    },
    "id": "gNfWFabShpGZ",
    "outputId": "b000e69e-55b9-4510-923d-77f7a8bacf13"
   },
   "outputs": [
    {
     "name": "stdout",
     "output_type": "stream",
     "text": [
      "['Information', 'retrieval', '(', 'information', 'retrieval', ')', 'applied', 'various', 'field', 'human', 'life', 'Library', 'museum', 'document', 'management', 'knowledge', 'management', 'collection', 'management', 'record', 'management', 'known', 'web', 'search', 'engine', '(', 'search', 'engine', 'website', 'often', 'referred', 'search', 'engine', ')', 'applied', 'Web', 'medium', 'would', 'later', 'appear', 'requires', 'also', 'model', 'retrieval', 'system', 'use', 'search', 'engine', 'website', 'known', 'time', 'expert', 'library', 'trying', 'apply', 'principle', 'categorization', 'classification', 'arrange', 'collection', 'library', 'However', 'turn', 'website', 'characteristic', 'model', 'develop', 'quickly', 'outdated', 'Website', 'property', 'fast-changing', 'temporary', 'paper', 'author', 'discus', 'implementation', 'information', 'retrieval', 'search', 'engine', 'result', 'showed', 'search', 'engine', 'continue', 'evolve', 'provide', 'information', 'relevant', 'development', 'evaluation', 'process', 'improving', 'ability', 'update', 'data', 'continue', 'adapt', 'user', \"'\", 'need', 'improve', 'ability', 'performance', 'device', 'try', 'solve', 'problem', 'encountered']\n"
     ]
    }
   ],
   "source": [
    "# Lemmatization\n",
    "from nltk.stem import WordNetLemmatizer\n",
    "\n",
    "lemmatizer= WordNetLemmatizer()\n",
    "lemmatized_words = [lemmatizer.lemmatize(word) for word in filtered_words]\n",
    "print(lemmatized_words)"
   ]
  },
  {
   "cell_type": "code",
   "execution_count": 44,
   "metadata": {
    "colab": {
     "base_uri": "https://localhost:8080/",
     "height": 551
    },
    "id": "LMFhcCWZijs4",
    "outputId": "01d4f210-0df0-4939-b588-d55c4ddafed6"
   },
   "outputs": [
    {
     "data": {
      "image/png": "[encoded data removed]",
      "text/plain": [
       "<Figure size 640x480 with 1 Axes>"
      ]
     },
     "metadata": {},
     "output_type": "display_data"
    }
   ],
   "source": [
    "from collections import Counter\n",
    "import matplotlib.pyplot as plt\n",
    "\n",
    "# Menghitung frekuensi kata\n",
    "word_freq = Counter(lemmatized_words)\n",
    "most_common_words = word_freq.most_common(3)\n",
    "\n",
    "\n",
    "# Visualisasi frekuensi kata\n",
    "words, counts= zip(*most_common_words)\n",
    "plt.bar(words, counts)\n",
    "plt.show()"
   ]
  }
 ],
 "metadata": {
  "colab": {
   "provenance": []
  },
  "kernelspec": {
   "display_name": "Python 3 (ipykernel)",
   "language": "python",
   "name": "python3"
  },
  "language_info": {
   "codemirror_mode": {
    "name": "ipython",
    "version": 3
   },
   "file_extension": ".py",
   "mimetype": "text/x-python",
   "name": "python",
   "nbconvert_exporter": "python",
   "pygments_lexer": "ipython3",
   "version": "3.12.4"
  }
 },
 "nbformat": 4,
 "nbformat_minor": 4
}
