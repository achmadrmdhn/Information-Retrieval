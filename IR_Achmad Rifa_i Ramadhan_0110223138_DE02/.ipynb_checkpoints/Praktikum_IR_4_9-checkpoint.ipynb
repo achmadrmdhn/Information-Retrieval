{
 "cells": [
  {
   "cell_type": "code",
   "execution_count": 28,
   "id": "769ffe76-868c-4566-bcd9-d508fd6d27ad",
   "metadata": {},
   "outputs": [
    {
     "name": "stdout",
     "output_type": "stream",
     "text": [
      "Requirement already satisfied: nltk in c:\\users\\achma\\appdata\\local\\programs\\python\\python312\\lib\\site-packages (3.9.1)\n",
      "Requirement already satisfied: click in c:\\users\\achma\\appdata\\local\\programs\\python\\python312\\lib\\site-packages (from nltk) (8.1.7)\n",
      "Requirement already satisfied: joblib in c:\\users\\achma\\appdata\\local\\programs\\python\\python312\\lib\\site-packages (from nltk) (1.4.2)\n",
      "Requirement already satisfied: regex>=2021.8.3 in c:\\users\\achma\\appdata\\local\\programs\\python\\python312\\lib\\site-packages (from nltk) (2024.9.11)\n",
      "Requirement already satisfied: tqdm in c:\\users\\achma\\appdata\\local\\programs\\python\\python312\\lib\\site-packages (from nltk) (4.66.5)\n",
      "Requirement already satisfied: colorama in c:\\users\\achma\\appdata\\local\\programs\\python\\python312\\lib\\site-packages (from click->nltk) (0.4.6)\n"
     ]
    },
    {
     "name": "stderr",
     "output_type": "stream",
     "text": [
      "[nltk_data] Downloading package punkt to\n",
      "[nltk_data]     C:\\Users\\achma\\AppData\\Roaming\\nltk_data...\n",
      "[nltk_data]   Package punkt is already up-to-date!\n",
      "[nltk_data] Downloading package stopwords to\n",
      "[nltk_data]     C:\\Users\\achma\\AppData\\Roaming\\nltk_data...\n",
      "[nltk_data]   Package stopwords is already up-to-date!\n",
      "[nltk_data] Downloading package averaged_perceptron_tagger to\n",
      "[nltk_data]     C:\\Users\\achma\\AppData\\Roaming\\nltk_data...\n",
      "[nltk_data]   Package averaged_perceptron_tagger is already up-to-\n",
      "[nltk_data]       date!\n",
      "[nltk_data] Downloading package punkt_tab to\n",
      "[nltk_data]     C:\\Users\\achma\\AppData\\Roaming\\nltk_data...\n",
      "[nltk_data]   Package punkt_tab is already up-to-date!\n"
     ]
    },
    {
     "data": {
      "text/plain": [
       "True"
      ]
     },
     "execution_count": 28,
     "metadata": {},
     "output_type": "execute_result"
    }
   ],
   "source": [
    "# Menginstal pustaka NLTK jika belum terpasang\n",
    "!pip install nltk\n",
    "\n",
    "# Mengimpor pustaka NLTK\n",
    "import nltk\n",
    "from nltk.tokenize import sent_tokenize, word_tokenize\n",
    "\n",
    "# Mengunduh data yang diperlukan\n",
    "nltk.download('punkt') # Tokenisasi kalimat dan kata\n",
    "nltk.download('stopwords') # Daftar stopwords untuk bahasa inggris\n",
    "nltk.download('averaged_perceptron_tagger') # Tagging part-of-speech\n",
    "nltk.download('punkt_tab')"
   ]
  },
  {
   "cell_type": "code",
   "execution_count": 29,
   "id": "7f19e948-0681-48d9-b382-e4f0caf32e4e",
   "metadata": {},
   "outputs": [
    {
     "name": "stdout",
     "output_type": "stream",
     "text": [
      "After Split: ['learn', 'php', 'from', 'guru99', 'and', 'make', 'study', 'easy']\n",
      "After Token: [('learn', 'JJ'), ('php', 'NN'), ('from', 'IN'), ('guru99', 'NN'), ('and', 'CC'), ('make', 'VB'), ('study', 'NN'), ('easy', 'JJ')]\n",
      "After Regex: chunk.RegexpParser with 1 stages:\n",
      "RegexpChunkParser with 1 rules:\n",
      "       <ChunkRule: '<NN.?>*<VBD.?>*<JJ.?>*<CC>?'>\n",
      "After Chunking: (S\n",
      "  (mychunk learn/JJ)\n",
      "  (mychunk php/NN)\n",
      "  from/IN\n",
      "  (mychunk guru99/NN and/CC)\n",
      "  make/VB\n",
      "  (mychunk study/NN easy/JJ))\n"
     ]
    },
    {
     "name": "stderr",
     "output_type": "stream",
     "text": [
      "[nltk_data] Downloading package averaged_perceptron_tagger_eng to\n",
      "[nltk_data]     C:\\Users\\achma\\AppData\\Roaming\\nltk_data...\n",
      "[nltk_data]   Package averaged_perceptron_tagger_eng is already up-to-\n",
      "[nltk_data]       date!\n"
     ]
    }
   ],
   "source": [
    "nltk.download('averaged_perceptron_tagger_eng')\n",
    "\n",
    "# Mengimpor fungsi 'pos_tag' untuk melakukan Part-of-Speech (POS) tagging\n",
    "# dan 'RegexpParser' untuk membuat pola chunking berbasis POS tag\n",
    "from nltk import pos_tag\n",
    "from nltk import RegexpParser\n",
    "\n",
    "# Memisahkan teks menjadi daftar kata menggunakan metode 'split()'\n",
    "text = \"learn php from guru99 and make study easy\".split()\n",
    "print(\"After Split:\", text) # Menampilkan daftar kata yang sudah dipisah\n",
    "\n",
    "# Melakukan POS tagging pada setiap kata dalam teks\n",
    "# POS tagging memberikan Label gramatikal (seperti (noun, verb) pada tiap kata\n",
    "tokens_tag = pos_tag(text)\n",
    "print(\"After Token:\", tokens_tag)\n",
    "# Contoh output: [('learn', 'JJ'), ('php', 'NN'), ...]\n",
    "\n",
    "# Mendefinisikan pola chunking menggunakan Regular Expression\n",
    "# \"NN.?\" mencocokan kata benda (noun)\n",
    "# \"VBD.? mencocokan kata kerja bentuk lampau\n",
    "# \"JJ.?\" mencocokan kata sifat (adjective)\n",
    "# \"<CC>\" mencocokan konjungsi (conjunction\n",
    "patterns = \"\"\"mychunk:{<NN.?>*<VBD.?>*<JJ.?>*<CC>?}\"\"\" # Nama chunnk adalah \"mychunk\n",
    "chunker = RegexpParser(patterns) # Membuat objek parser dengan pola yang didefinisikan\n",
    "print(\"After Regex:\", chunker) # Menampilkan konfigurasi objek chunker\n",
    "\n",
    "# Memproses POS-tagged tokens dengan parser chunker\n",
    "output = chunker.parse(tokens_tag)\n",
    "print(\"After Chunking:\", output)\n",
    "# Menampilkan hasil chunking dalam format Tree-Like Structure"
   ]
  },
  {
   "cell_type": "code",
   "execution_count": 30,
   "id": "17b9c8d4-0bf4-49eb-84c6-82c724377c1d",
   "metadata": {},
   "outputs": [
    {
     "name": "stdout",
     "output_type": "stream",
     "text": [
      "Tokens: ['learn', 'php', 'from', 'guru99']\n",
      "POS Tagging: [('learn', 'JJ'), ('php', 'NN'), ('from', 'IN'), ('guru99', 'NN')]\n",
      "Chunking Result:\n",
      "(S (NP learn/JJ php/NN) from/IN (NP guru99/NN))\n",
      "Requirement already satisfied: svgling in c:\\users\\achma\\appdata\\local\\programs\\python\\python312\\lib\\site-packages (0.5.0)\n",
      "Requirement already satisfied: svgwrite in c:\\users\\achma\\appdata\\local\\programs\\python\\python312\\lib\\site-packages (from svgling) (1.4.3)\n"
     ]
    },
    {
     "data": {
      "image/svg+xml": [
       "<svg baseProfile=\"full\" height=\"168px\" preserveAspectRatio=\"xMidYMid meet\" style=\"font-family: times, serif; font-weight: normal; font-style: normal; font-size: 16px\" version=\"1.1\" viewBox=\"0,0,208.0,168.0\" width=\"208px\" xmlns=\"http://www.w3.org/2000/svg\" xmlns:ev=\"http://www.w3.org/2001/xml-events\" xmlns:xlink=\"http://www.w3.org/1999/xlink\"><defs /><svg width=\"100%\" x=\"0\" y=\"0px\"><defs /><text text-anchor=\"middle\" x=\"50%\" y=\"16px\">S</text></svg><svg width=\"46.1538%\" x=\"0%\" y=\"48px\"><defs /><svg width=\"100%\" x=\"0\" y=\"0px\"><defs /><text text-anchor=\"middle\" x=\"50%\" y=\"16px\">NP</text></svg><svg width=\"58.3333%\" x=\"0%\" y=\"48px\"><defs /><svg width=\"100%\" x=\"0\" y=\"0px\"><defs /><text text-anchor=\"middle\" x=\"50%\" y=\"16px\">learn</text></svg><svg width=\"100%\" x=\"0%\" y=\"48px\"><defs /><svg width=\"100%\" x=\"0\" y=\"0px\"><defs /><text text-anchor=\"middle\" x=\"50%\" y=\"16px\">JJ</text></svg></svg><line stroke=\"black\" x1=\"50%\" x2=\"50%\" y1=\"20px\" y2=\"48px\" /></svg><line stroke=\"black\" x1=\"50%\" x2=\"29.1667%\" y1=\"20px\" y2=\"48px\" /><svg width=\"41.6667%\" x=\"58.3333%\" y=\"48px\"><defs /><svg width=\"100%\" x=\"0\" y=\"0px\"><defs /><text text-anchor=\"middle\" x=\"50%\" y=\"16px\">php</text></svg><svg width=\"100%\" x=\"0%\" y=\"48px\"><defs /><svg width=\"100%\" x=\"0\" y=\"0px\"><defs /><text text-anchor=\"middle\" x=\"50%\" y=\"16px\">NN</text></svg></svg><line stroke=\"black\" x1=\"50%\" x2=\"50%\" y1=\"20px\" y2=\"48px\" /></svg><line stroke=\"black\" x1=\"50%\" x2=\"79.1667%\" y1=\"20px\" y2=\"48px\" /></svg><line stroke=\"black\" x1=\"50%\" x2=\"23.0769%\" y1=\"20px\" y2=\"48px\" /><svg width=\"23.0769%\" x=\"46.1538%\" y=\"48px\"><defs /><svg width=\"100%\" x=\"0\" y=\"0px\"><defs /><text text-anchor=\"middle\" x=\"50%\" y=\"16px\">from</text></svg><svg width=\"100%\" x=\"0%\" y=\"48px\"><defs /><svg width=\"100%\" x=\"0\" y=\"0px\"><defs /><text text-anchor=\"middle\" x=\"50%\" y=\"16px\">IN</text></svg></svg><line stroke=\"black\" x1=\"50%\" x2=\"50%\" y1=\"20px\" y2=\"48px\" /></svg><line stroke=\"black\" x1=\"50%\" x2=\"57.6923%\" y1=\"20px\" y2=\"48px\" /><svg width=\"30.7692%\" x=\"69.2308%\" y=\"48px\"><defs /><svg width=\"100%\" x=\"0\" y=\"0px\"><defs /><text text-anchor=\"middle\" x=\"50%\" y=\"16px\">NP</text></svg><svg width=\"100%\" x=\"0%\" y=\"48px\"><defs /><svg width=\"100%\" x=\"0\" y=\"0px\"><defs /><text text-anchor=\"middle\" x=\"50%\" y=\"16px\">guru99</text></svg><svg width=\"100%\" x=\"0%\" y=\"48px\"><defs /><svg width=\"100%\" x=\"0\" y=\"0px\"><defs /><text text-anchor=\"middle\" x=\"50%\" y=\"16px\">NN</text></svg></svg><line stroke=\"black\" x1=\"50%\" x2=\"50%\" y1=\"20px\" y2=\"48px\" /></svg><line stroke=\"black\" x1=\"50%\" x2=\"50%\" y1=\"20px\" y2=\"48px\" /></svg><line stroke=\"black\" x1=\"50%\" x2=\"84.6154%\" y1=\"20px\" y2=\"48px\" /></svg>"
      ],
      "text/plain": [
       "TreeLayout(Tree('S', [Tree('NP', [('learn', 'JJ'), ('php', 'NN')]), ('from', 'IN'), Tree('NP', [('guru99', 'NN')])]))"
      ]
     },
     "execution_count": 30,
     "metadata": {},
     "output_type": "execute_result"
    }
   ],
   "source": [
    "# Teks input untuk dianalisis\n",
    "text = \"learn php from guru99\"\n",
    "\n",
    "# Tokenisasi teks menjadi daftar kata\n",
    "tokens = nltk.word_tokenize(text)\n",
    "print(\"Tokens:\", tokens)\n",
    "\n",
    "# Melakukan POS tagging\n",
    "tag = nltk.pos_tag(tokens)\n",
    "print(\"POS Tagging:\", tag)\n",
    "\n",
    "# Mendefinisikan aturan chunking dengan Regular Expression\n",
    "grammar = \"NP: {<DT>?<JJ>?<NN>}\"\n",
    "\n",
    "# Membuat parser dan melakukan chunking\n",
    "cp = nltk.RegexpParser(grammar)\n",
    "result = cp.parse(tag)\n",
    "\n",
    "# Menampilkan hasil chunking\n",
    "print(\"Chunking Result:\")\n",
    "print(result)\n",
    "\n",
    "# Visualisasi pohon chunking di Google Colab\n",
    "!pip install svgling\n",
    "import svgling\n",
    "svgling.draw_tree(result)"
   ]
  },
  {
   "cell_type": "code",
   "execution_count": 32,
   "id": "6f4e15a5-255b-48ac-815c-f1be2c341a31",
   "metadata": {},
   "outputs": [
    {
     "data": {
      "text/plain": [
       "Counter({'NN': 5,\n",
       "         ',': 2,\n",
       "         'VBZ': 1,\n",
       "         'CD': 1,\n",
       "         'IN': 1,\n",
       "         'DT': 1,\n",
       "         'JJS': 1,\n",
       "         'NNS': 1,\n",
       "         'TO': 1,\n",
       "         'VB': 1,\n",
       "         'JJ': 1,\n",
       "         'CC': 1,\n",
       "         'RB': 1,\n",
       "         'JJR': 1,\n",
       "         '.': 1})"
      ]
     },
     "execution_count": 32,
     "metadata": {},
     "output_type": "execute_result"
    }
   ],
   "source": [
    "# Mengimpor pustaka Counter dari collection\n",
    "from collections import Counter\n",
    "\n",
    "# Teks input untuk dianalisis\n",
    "text = \"Guru99 is one of the best sites to lear WEB, SAP, Ethical Hacking and much more online.\"\n",
    "\n",
    "# Mengubah teks menjadi huruf kecil\n",
    "lower_case = text.lower()\n",
    "\n",
    "# Tokenisasi teks menjadi daftar kata menggunakan fungsi word_tokenize()\n",
    "tokens = nltk.word_tokenize(lower_case)\n",
    "\n",
    "# Melakukan POS tagging pada token untuk memberikan label gramatikal\n",
    "tags = nltk.pos_tag(tokens)\n",
    "\n",
    "# Menghitung jumlah setiap tag POS menggunakan Counter\n",
    "counts = Counter(tag for word, tag in tags)\n",
    "\n",
    "# Menampilkan hasil hitungan\n",
    "counts"
   ]
  },
  {
   "cell_type": "code",
   "execution_count": 34,
   "id": "5738539c-9f95-4fa1-9250-662a9bf0cdad",
   "metadata": {},
   "outputs": [
    {
     "data": {
      "text/plain": [
       "<Axes: xlabel='Samples', ylabel='Counts'>"
      ]
     },
     "execution_count": 34,
     "metadata": {},
     "output_type": "execute_result"
    },
    {
     "data": {
      "image/png": "[encoded data removed]",
      "text/plain": [
       "<Figure size 640x480 with 1 Axes>"
      ]
     },
     "metadata": {},
     "output_type": "display_data"
    }
   ],
   "source": [
    "# Input teks yang akan dianalisis\n",
    "a = \"\"\"Guru99 is the site where you can find the best tutorials for Software Testing\n",
    "Tutorial, SAP Course for Beginners. Java Tutorial for Beginners and much more.\n",
    "Please visit the site guru99.com and much more.\"\"\"\n",
    "\n",
    "# Tokenisasi teks menjadi daftar kata menggunakan word_tokenize()\n",
    "words = nltk.tokenize.word_tokenize(a)\n",
    "\n",
    "# Menghitung distribusi frekuensi kata menggunakan FreqDist\n",
    "fd = nltk.FreqDist(words)\n",
    "\n",
    "# Membuat plot grafik distribusi frekuensi kata\n",
    "fd.plot()"
   ]
  },
  {
   "cell_type": "code",
   "execution_count": 36,
   "id": "6e05d4d3-4b27-481b-a8ee-ba9b69d75209",
   "metadata": {},
   "outputs": [
    {
     "data": {
      "text/plain": [
       "[('Guru99', 'is'),\n",
       " ('is', 'a'),\n",
       " ('a', 'totally'),\n",
       " ('totally', 'new'),\n",
       " ('new', 'kind'),\n",
       " ('kind', 'of'),\n",
       " ('of', 'learning'),\n",
       " ('learning', 'experience'),\n",
       " ('experience', '.')]"
      ]
     },
     "execution_count": 36,
     "metadata": {},
     "output_type": "execute_result"
    }
   ],
   "source": [
    "# Teks input\n",
    "text = \"Guru99 is a totally new kind of learning experience.\"\n",
    "\n",
    "# Tokenisasi teks menjadi daftar kata\n",
    "Tokens = nltk.word_tokenize(text)\n",
    "\n",
    "# Membuat bigram dari token menggunakan fungsi nltk.bigrams()\n",
    "output = list(nltk.bigrams(Tokens))\n",
    "\n",
    "# Menampilkan hasil bigram\n",
    "output"
   ]
  },
  {
   "cell_type": "code",
   "execution_count": 37,
   "id": "1d0a6ceb-843a-48d7-aa7c-1ab6bc90a8cb",
   "metadata": {},
   "outputs": [
    {
     "data": {
      "text/plain": [
       "[('Guru99', 'is', 'a'),\n",
       " ('is', 'a', 'totally'),\n",
       " ('a', 'totally', 'new'),\n",
       " ('totally', 'new', 'kind'),\n",
       " ('new', 'kind', 'of'),\n",
       " ('kind', 'of', 'learning'),\n",
       " ('of', 'learning', 'experience'),\n",
       " ('learning', 'experience', '.')]"
      ]
     },
     "execution_count": 37,
     "metadata": {},
     "output_type": "execute_result"
    }
   ],
   "source": [
    "# Teks input\n",
    "text = \"Guru99 is a totally new kind of learning experience.\"\n",
    "\n",
    "# Tokenisasi teks menjadi daftar kata\n",
    "Tokens = nltk.word_tokenize(text)\n",
    "\n",
    "# Membuat bigram dari token menggunakan fungsi nltk.trigrams()\n",
    "output = list(nltk.trigrams(Tokens))\n",
    "\n",
    "# Menampilkan hasil bigram\n",
    "output"
   ]
  },
  {
   "cell_type": "code",
   "execution_count": 38,
   "id": "92f76890-c7d2-46de-8f2e-62aaa9dcc776",
   "metadata": {},
   "outputs": [
    {
     "data": {
      "text/plain": [
       "[('Hello', 'NNP'),\n",
       " ('Guru99', 'NNP'),\n",
       " (',', ','),\n",
       " ('You', 'PRP'),\n",
       " ('have', 'VBP'),\n",
       " ('to', 'TO'),\n",
       " ('build', 'VB'),\n",
       " ('a', 'DT'),\n",
       " ('very', 'RB'),\n",
       " ('good', 'JJ'),\n",
       " ('site', 'NN'),\n",
       " (',', ','),\n",
       " ('and', 'CC'),\n",
       " ('I', 'PRP'),\n",
       " ('love', 'VBP'),\n",
       " ('visitting', 'VBG'),\n",
       " ('your', 'PRP$'),\n",
       " ('site', 'NN'),\n",
       " ('.', '.')]"
      ]
     },
     "execution_count": 38,
     "metadata": {},
     "output_type": "execute_result"
    }
   ],
   "source": [
    "# Teks input yang akan dianalisis\n",
    "text = \"Hello Guru99, You have to build a very good site, and I love visitting your site.\"\n",
    "\n",
    "# Tokenisasi kalimat: Memecah teks menjadi daftar kalimat\n",
    "sentence = nltk.sent_tokenize(text)\n",
    "\n",
    "# Looping untuk memproses setiap kalimat dalam teks\n",
    "for sent in sentence:\n",
    "    # Tokenisasi kata: Memecah setiap kalimat menjadi daftar kata/token\n",
    "    words = nltk.word_tokenize(sent)\n",
    "\n",
    "    # POS Tagging: Memberikan tag bagian kata (NN, VB, JJ, dll.)\n",
    "    tagged_words = nltk.pos_tag(words)\n",
    "\n",
    "# Menampilkan hasil POS Tagging untuk setiap kalimat\n",
    "tagged_words"
   ]
  },
  {
   "cell_type": "code",
   "execution_count": null,
   "id": "dcb0dbaa-59c9-4906-9dc1-5f93c68d23cf",
   "metadata": {},
   "outputs": [],
   "source": []
  }
 ],
 "metadata": {
  "kernelspec": {
   "display_name": "Python 3 (ipykernel)",
   "language": "python",
   "name": "python3"
  },
  "language_info": {
   "codemirror_mode": {
    "name": "ipython",
    "version": 3
   },
   "file_extension": ".py",
   "mimetype": "text/x-python",
   "name": "python",
   "nbconvert_exporter": "python",
   "pygments_lexer": "ipython3",
   "version": "3.12.3"
  }
 },
 "nbformat": 4,
 "nbformat_minor": 5
}
