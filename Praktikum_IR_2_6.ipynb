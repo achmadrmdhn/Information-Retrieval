{
  "nbformat": 4,
  "nbformat_minor": 0,
  "metadata": {
    "colab": {
      "provenance": []
    },
    "kernelspec": {
      "name": "python3",
      "display_name": "Python 3"
    },
    "language_info": {
      "name": "python"
    }
  },
  "cells": [
    {
      "cell_type": "code",
      "execution_count": 1,
      "metadata": {
        "colab": {
          "base_uri": "https://localhost:8080/"
        },
        "id": "XNPA_oTSYALx",
        "outputId": "4f1db669-0ecb-41c1-ea0d-11febc33ec70"
      },
      "outputs": [
        {
          "output_type": "stream",
          "name": "stderr",
          "text": [
            "[nltk_data] Downloading package stopwords to /root/nltk_data...\n",
            "[nltk_data]   Unzipping corpora/stopwords.zip.\n",
            "[nltk_data] Downloading package punkt to /root/nltk_data...\n",
            "[nltk_data]   Unzipping tokenizers/punkt.zip.\n"
          ]
        },
        {
          "output_type": "execute_result",
          "data": {
            "text/plain": [
              "True"
            ]
          },
          "metadata": {},
          "execution_count": 1
        }
      ],
      "source": [
        "# Mengunduh dan Mengimpor Pustaka yang Diperlukan\n",
        "import nltk\n",
        "nltk.download(\"stopwords\")\n",
        "nltk.download(\"punkt\")"
      ]
    },
    {
      "cell_type": "markdown",
      "source": [
        "stopwords : untuk mengunduh daftar stop words dalam berbagai bahasa termasuk bahasa Inggris, yang disediakan oleh NLTK.\n",
        "\n",
        "punkt : untuk mengunduh pustaka tokenisasi yang memungkinkan kita memecah kalimat menjadji kata-kata (dikenal sebagai tokenisasi).\n",
        "\n",
        "Dalam EDA, ini merupakan proses cleaning.\n",
        "kenapa? karena dalam IR ini bermaksud membersihkan kata.\n",
        "Dan di IR ini berfokus untuk pengolahan kata"
      ],
      "metadata": {
        "id": "yOGwKclZYijr"
      }
    },
    {
      "cell_type": "code",
      "source": [
        "# Mengimpor modul stopwords dan word_tokenize dari NLTK\n",
        "from nltk.corpus import stopwords\n",
        "from nltk.tokenize import word_tokenize"
      ],
      "metadata": {
        "id": "WPcwgov9YRR-"
      },
      "execution_count": 2,
      "outputs": []
    },
    {
      "cell_type": "markdown",
      "source": [
        "corpus : untuk mengimpor modul stopwords .. yang berisi daftar kata-kata umum dalam berbagai bahasa yang bisa kita ..\n",
        "\n",
        "tokenize : untuk mengimpor fungsi word_tokenize yang digunakan untuk membagi kalimat menjadi kata-kata (token).\n",
        "\n",
        "mengimpor >> mendatangkan\n",
        "jadi pada tahapan ini kita memanggil kembali library yang sebelumnya sudah di instal sebelumnya"
      ],
      "metadata": {
        "id": "ypiMwx-WZR_6"
      }
    },
    {
      "cell_type": "code",
      "source": [
        "# Contoh Kalimat yang Akan Difilter\n",
        "worf_quote = \"sir, I protest. I am not a merry man!\""
      ],
      "metadata": {
        "id": "7A9aUKhDZQep"
      },
      "execution_count": 3,
      "outputs": []
    },
    {
      "cell_type": "code",
      "source": [
        "# Tokenisasi Kalimat\n",
        "words_in_quote = word_tokenize (worf_quote)\n",
        "print (words_in_quote)"
      ],
      "metadata": {
        "colab": {
          "base_uri": "https://localhost:8080/"
        },
        "id": "nFX3VfmUaQsM",
        "outputId": "2178f9be-25ee-441c-dce8-d51f44cb5f04"
      },
      "execution_count": 4,
      "outputs": [
        {
          "output_type": "stream",
          "name": "stdout",
          "text": [
            "['sir', ',', 'I', 'protest', '.', 'I', 'am', 'not', 'a', 'merry', 'man', '!']\n"
          ]
        }
      ]
    },
    {
      "cell_type": "markdown",
      "source": [
        "1. fungsi word_tokenize adalah digunakan untuk membagi kalimat di dalam worf_quote menjadi kata-kata terpisah (tokens). Hasil tokenisasi akan mencakup tanda baca, sehingga kita bisa melihat seluruh elemen yang ada di dalam kelimat.\n",
        "2. Print tentu saya untuk menampilkan hasil tokenisasi seperti diatas\n",
        "\n",
        "note:\n",
        "pada case diatas, setiap 1 space maka terhitung kata. juga termasuk titik dan koma"
      ],
      "metadata": {
        "id": "_hFDnGNkbO0w"
      }
    },
    {
      "cell_type": "code",
      "source": [
        "# Menentukan Stop Words Bahasa Inggris\n",
        "stop_words = set(stopwords.words(\"english\"))"
      ],
      "metadata": {
        "id": "JpOCcej3bkgO"
      },
      "execution_count": 5,
      "outputs": []
    },
    {
      "cell_type": "markdown",
      "source": [
        "1. maksud dari codingan diatas berfungsi untuk memuat stop words untuk bahasa inggris.\n",
        "2. set(...) mengubah daftar stop words menjadi set, yang memungkinkan operasi pencari kata menjadi lebih cepat dan efisien."
      ],
      "metadata": {
        "id": "3s04f-9vcX2S"
      }
    },
    {
      "cell_type": "code",
      "source": [
        "# Memfilter Stop Words dari Teks\n",
        "filtered_list = [word for word in words_in_quote if word.casefold() not in stop_words]\n",
        "print(filtered_list)"
      ],
      "metadata": {
        "colab": {
          "base_uri": "https://localhost:8080/"
        },
        "id": "nCai3GiObncG",
        "outputId": "20eb6750-0ad0-415c-b172-366dc831bca6"
      },
      "execution_count": 6,
      "outputs": [
        {
          "output_type": "stream",
          "name": "stdout",
          "text": [
            "['sir', ',', 'protest', '.', 'merry', 'man', '!']\n"
          ]
        }
      ]
    },
    {
      "cell_type": "markdown",
      "source": [
        "1. [...] adalah bentuk list comprehension. Kode ini mengulang setiap word (kata) dalam words_in_quote. Jika kata tersebut tidak termasuk dalam stop_words, maka akan dimasukkan ke dalam filtered_list.\n",
        "2. word.casefold() : merupakan metode casefold mengubah kata menjadi huruf kecil untuk memastikan pencarian yang tidak sensitif terhadap huruf besar dan kecil."
      ],
      "metadata": {
        "id": "ko9uHUA-dQMK"
      }
    },
    {
      "cell_type": "code",
      "source": [
        "# Stemming\n",
        "# Mengimpor porterstemmer dari NLTK\n",
        "from nltk.stem import PorterStemmer"
      ],
      "metadata": {
        "id": "TTMCBksqbnoU"
      },
      "execution_count": 8,
      "outputs": []
    },
    {
      "cell_type": "markdown",
      "source": [
        "Mengimpor porterstemmer dari modul nltk.stem. Algoritma Porter Stemmer akan mengubah kata menjadi bentuk dasarnya berdasarkan aturan tertentu."
      ],
      "metadata": {
        "id": "4som_4l3gMmp"
      }
    },
    {
      "cell_type": "code",
      "source": [
        "# Membuat objek porterstemmer\n",
        "stemmer = PorterStemmer()"
      ],
      "metadata": {
        "id": "Q1Qgtk7Obn0W"
      },
      "execution_count": 9,
      "outputs": []
    },
    {
      "cell_type": "markdown",
      "source": [
        "Untuk membuat sebuah objek bernama stemmer yang menggunakan aturan stemming dari Porter Stemmer."
      ],
      "metadata": {
        "id": "_Tnh4WLrgdSp"
      }
    },
    {
      "cell_type": "code",
      "source": [
        "# Menyiapkan Kalimat untuk Proses Stemming\n",
        "string_for_stemming =\"\"\"\n",
        "The crew of the USS Discovery discovered many discoveries.\n",
        "Discovering is what explores do.\n",
        "\"\"\""
      ],
      "metadata": {
        "id": "YwShLXDPboBA"
      },
      "execution_count": 10,
      "outputs": []
    },
    {
      "cell_type": "markdown",
      "source": [
        "Pada variabel ini menyimpan teks yang akan diolah menggunakan stemming."
      ],
      "metadata": {
        "id": "2m89clUcg5Iq"
      }
    },
    {
      "cell_type": "code",
      "source": [
        "# Tokenisasi Teks\n",
        "words = word_tokenize(string_for_stemming)\n",
        "print(words)"
      ],
      "metadata": {
        "colab": {
          "base_uri": "https://localhost:8080/"
        },
        "id": "0iqCusJlgjzf",
        "outputId": "f9a78abd-f436-40ba-c716-9c61fe2bfd58"
      },
      "execution_count": 11,
      "outputs": [
        {
          "output_type": "stream",
          "name": "stdout",
          "text": [
            "['The', 'crew', 'of', 'the', 'USS', 'Discovery', 'discovered', 'many', 'discoveries', '.', 'Discovering', 'is', 'what', 'explores', 'do', '.']\n"
          ]
        }
      ]
    },
    {
      "cell_type": "markdown",
      "source": [
        "word = ...dst : Menggunakan word_tokenize untuk memisahkan setiap kata dalam string_for_stemming.\n",
        "print : untuk menampilkan daftar kata yanng dihasilkan dari tokenisasi."
      ],
      "metadata": {
        "id": "eAJtTE1GhJNP"
      }
    },
    {
      "cell_type": "code",
      "source": [
        "# Menerapkan stemming pada setiap kata\n",
        "stemmed_words = [stemmer.stem(word) for word in words]\n",
        "print(stemmed_words)"
      ],
      "metadata": {
        "colab": {
          "base_uri": "https://localhost:8080/"
        },
        "id": "0hEsCL3kgkAS",
        "outputId": "de5843b0-5859-4117-e35b-128cf4497de5"
      },
      "execution_count": 13,
      "outputs": [
        {
          "output_type": "stream",
          "name": "stdout",
          "text": [
            "['the', 'crew', 'of', 'the', 'uss', 'discoveri', 'discov', 'mani', 'discoveri', '.', 'discov', 'is', 'what', 'explor', 'do', '.']\n"
          ]
        }
      ]
    },
    {
      "cell_type": "markdown",
      "source": [
        "1. [...dst] Merupakan bentuk lain dari list comprehension untuk melakukan stemming pada setiap kata dalam words. Hasil dari stemming akan dimasukkan dalam daftar stemmed_words.\n",
        "2. stemmer.stem(word) : merupakan fungsi step menerapkan algoritma Porter Stemmer pada setiap word, mengubah kata tersebut ke bentuk dasar yang dihasilkan oleh aturan stemming."
      ],
      "metadata": {
        "id": "2GmezkMKiB7x"
      }
    },
    {
      "cell_type": "code",
      "source": [],
      "metadata": {
        "id": "_oxfDHnrgkLF"
      },
      "execution_count": null,
      "outputs": []
    },
    {
      "cell_type": "code",
      "source": [],
      "metadata": {
        "id": "ZZhgbtCmboNT"
      },
      "execution_count": null,
      "outputs": []
    }
  ]
}