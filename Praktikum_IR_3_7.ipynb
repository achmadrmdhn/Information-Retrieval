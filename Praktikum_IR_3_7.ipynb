{
 "cells": [
  {
   "cell_type": "markdown",
   "id": "e0VXQXD1qQYn",
   "metadata": {
    "id": "e0VXQXD1qQYn"
   },
   "source": [
    "##Praktikum TF - IDF"
   ]
  },
  {
   "cell_type": "code",
   "execution_count": 1,
   "id": "56dd20f7-3218-4892-b806-5b0688db0f5b",
   "metadata": {
    "colab": {
     "base_uri": "https://localhost:8080/"
    },
    "id": "56dd20f7-3218-4892-b806-5b0688db0f5b",
    "outputId": "2cfdbfe6-3e8e-4716-c6a4-c07706460df9"
   },
   "outputs": [
    {
     "name": "stdout",
     "output_type": "stream",
     "text": [
      "Defaulting to user installation because normal site-packages is not writeable\n",
      "Requirement already satisfied: nltk in f:\\installation\\anaconda\\lib\\site-packages (3.8.1)\n",
      "Requirement already satisfied: click in f:\\installation\\anaconda\\lib\\site-packages (from nltk) (8.1.7)\n",
      "Requirement already satisfied: joblib in f:\\installation\\anaconda\\lib\\site-packages (from nltk) (1.4.2)\n",
      "Requirement already satisfied: regex>=2021.8.3 in f:\\installation\\anaconda\\lib\\site-packages (from nltk) (2023.10.3)\n",
      "Requirement already satisfied: tqdm in f:\\installation\\anaconda\\lib\\site-packages (from nltk) (4.66.4)\n",
      "Requirement already satisfied: colorama in f:\\installation\\anaconda\\lib\\site-packages (from click->nltk) (0.4.6)\n"
     ]
    },
    {
     "name": "stderr",
     "output_type": "stream",
     "text": [
      "[nltk_data] Downloading package punkt to\n",
      "[nltk_data]     C:\\Users\\achma\\AppData\\Roaming\\nltk_data...\n",
      "[nltk_data]   Package punkt is already up-to-date!\n",
      "[nltk_data] Downloading package stopwords to\n",
      "[nltk_data]     C:\\Users\\achma\\AppData\\Roaming\\nltk_data...\n",
      "[nltk_data]   Package stopwords is already up-to-date!\n",
      "[nltk_data] Downloading package punkt_tab to\n",
      "[nltk_data]     C:\\Users\\achma\\AppData\\Roaming\\nltk_data...\n",
      "[nltk_data]   Package punkt_tab is already up-to-date!\n"
     ]
    },
    {
     "data": {
      "text/plain": [
       "True"
      ]
     },
     "execution_count": 1,
     "metadata": {},
     "output_type": "execute_result"
    }
   ],
   "source": [
    "!pip install nltk\n",
    "import nltk # Mengimpor pustaka NLTK untuk pemprosesan bahasa alami\n",
    "from nltk.corpus import stopwords # Mengimpor modul stopwords dari pustaka NLTK\n",
    "from nltk.tokenize import sent_tokenize, word_tokenize  # Mengimpor fungsi untuk memecah teks menjadi kalimat dan kata\n",
    "from math import log # Mengimpor fungsi logaritma untuk perhitungan IDF dalam TF-IDF\n",
    "import numpy as np # Mengimpor pustaka numpy untuk perhitungan numerik\n",
    "\n",
    "nltk.download('punkt') # Mengunduh data untuk tokenisasi kalimat dan kata\n",
    "nltk.download('stopwords') # Mengunduh daftar stopword untuk bahasa inggris dari NLTK\n",
    "stop_words = set(stopwords.words('english')) # Membuat himpunan stopword bahasa inggris\n",
    "nltk.download('punkt_tab')"
   ]
  },
  {
   "cell_type": "code",
   "execution_count": 2,
   "id": "b3096a79-9ab4-46fa-9ab4-97bd64dbaf87",
   "metadata": {
    "id": "b3096a79-9ab4-46fa-9ab4-97bd64dbaf87"
   },
   "outputs": [],
   "source": [
    "def compute_word_frequency(text): # Frekuensi untuk menghtung frekuensi kata dalam teks\n",
    "  words = word_tokenize(text.lower()) # Tokenisasi teks menjadi kata-kata dan ubah kehuruf kecil agar\n",
    "  frequency_table = {} # Membuat dictionary untuk menyimpan kata dan frekuensinya\n",
    "\n",
    "  # Hitung frekuensi kata-kata yang bukan stopwords\n",
    "  for word in words: # Iterasi setiiap kata dalam list \"words\"\n",
    "    if word not in stop_words: # Cek apakah kata bukan stopword\n",
    "      if word in frequency_table: # Jika kata sudah ada di frekuensi_table , tambahkan hitungannya\n",
    "        frequency_table[word] += 1 # Tambah frekuensi kata\n",
    "      else:\n",
    "        frequency_table[word] = 1 # Jika kata belum ada, tambahkan frekuency_table dengan frekuensi\n",
    "\n",
    "  return frequency_table # Kembalikan dictionary yang berisi kata dan frekuensinya"
   ]
  },
  {
   "cell_type": "code",
   "execution_count": 3,
   "id": "970efd77-a4de-4eaa-87c0-d00ae88afe95",
   "metadata": {
    "id": "970efd77-a4de-4eaa-87c0-d00ae88afe95"
   },
   "outputs": [],
   "source": [
    "# # Contoh penggunaan\n",
    "# text_string = (\n",
    "#     \"IT stands for Information Technology\"\n",
    "#     \"IT is a general term that refers to the technology that helps humans\"\n",
    "#     \"create, transform, store, communicate, and disseminate information.\"\n",
    "#     \"IT covers various aspects related to computers, hardware, software,\"\n",
    "#     \"network systems, and databases.\"\n",
    "#     \"Hardware involves physical components such as\"\n",
    "#     \"computers, servers, and storage devices.\"\n",
    "#     \"Meanwhile, software includes programs and applications that run operations on the hardware.\"\n",
    "# )\n",
    "\n",
    "# # Hitung frekuensi kata\n",
    "# frequency_table = compute_word_frequency(text_string) # Menghitung frekuensi setiap kata dalam text???\n",
    "# frequency_table"
   ]
  },
  {
   "cell_type": "code",
   "execution_count": 4,
   "id": "f-tbaEQmT519",
   "metadata": {
    "colab": {
     "base_uri": "https://localhost:8080/"
    },
    "id": "f-tbaEQmT519",
    "outputId": "7ac3b1d5-9f4e-49c9-ed1a-d21a0ec37bc6"
   },
   "outputs": [
    {
     "data": {
      "text/plain": [
       "{'importance': 1,\n",
       " 'technology': 4,\n",
       " 'education': 3,\n",
       " '.': 4,\n",
       " 'modern': 1,\n",
       " 'era': 1,\n",
       " ',': 8,\n",
       " 'become': 1,\n",
       " 'integral': 1,\n",
       " 'part': 1,\n",
       " 'daily': 1,\n",
       " 'lives': 1,\n",
       " 'influencing': 1,\n",
       " 'various': 1,\n",
       " 'sectors': 1,\n",
       " 'including': 1,\n",
       " 'incorporation': 1,\n",
       " 'educational': 2,\n",
       " 'settings': 1,\n",
       " 'transformed': 1,\n",
       " 'students': 1,\n",
       " 'learn': 1,\n",
       " 'teachers': 1,\n",
       " 'teach': 1,\n",
       " 'content': 1,\n",
       " 'delivered': 1,\n",
       " 'essay': 1,\n",
       " 'explore': 1,\n",
       " 'significant': 1,\n",
       " 'role': 1,\n",
       " 'discussing': 1,\n",
       " 'benefits': 1,\n",
       " 'challenges': 1,\n",
       " 'future': 1,\n",
       " 'implications': 1}"
      ]
     },
     "execution_count": 4,
     "metadata": {},
     "output_type": "execute_result"
    }
   ],
   "source": [
    "# Contoh penggunaan\n",
    "text_string = (\n",
    "    \"The Importance of Technology in Education. \"\n",
    "    \"In the modern era, technology has become an integral part of our daily lives, \"\n",
    "    \"influencing various sectors, including education. \"\n",
    "    \"The incorporation of technology into educational settings has transformed how students learn, \"\n",
    "    \"teachers teach, and how educational content is delivered. \"\n",
    "    \"This essay will explore the significant role of technology in education, \"\n",
    "    \"discussing its benefits, challenges, and future implications.\"\n",
    ")\n",
    "\n",
    "# Hitung frekuensi kata\n",
    "frequency_table = compute_word_frequency(text_string) # Menghitung frekuensi setiap kata dalam text???\n",
    "frequency_table"
   ]
  },
  {
   "cell_type": "code",
   "execution_count": 5,
   "id": "f3ec12aa-6cbb-440d-a7dc-b80f4b3253c9",
   "metadata": {
    "colab": {
     "base_uri": "https://localhost:8080/"
    },
    "id": "f3ec12aa-6cbb-440d-a7dc-b80f4b3253c9",
    "outputId": "2f62031e-b372-49ea-9045-c866cf665452"
   },
   "outputs": [
    {
     "data": {
      "text/plain": [
       "['The Importance of Technology in Education.',\n",
       " 'In the modern era, technology has become an integral part of our daily lives, influencing various sectors, including education.',\n",
       " 'The incorporation of technology into educational settings has transformed how students learn, teachers teach, and how educational content is delivered.',\n",
       " 'This essay will explore the significant role of technology in education, discussing its benefits, challenges, and future implications.']"
      ]
     },
     "execution_count": 5,
     "metadata": {},
     "output_type": "execute_result"
    }
   ],
   "source": [
    "# Fungsi untuk memecah teks menjadi kalimat-kalimat\n",
    "def tokenize_sentences(text): # Fungsi ini digunakan untuk memecah teks menjadi kalimat-kalimat\n",
    "    sentences = sent_tokenize(text) # Menggunakan fungsi sent_tokenize dari NLTK untuk memecah teks ...\n",
    "    return sentences # Mengembalikan daftar kalimat yang dihasilkan\n",
    "\n",
    "# Contoh penggunaan\n",
    "sentences = tokenize_sentences(text_string) # Memanggil fungsi tokenize_sentences dengan teks 'text_string'\n",
    "sentences"
   ]
  },
  {
   "cell_type": "code",
   "execution_count": 6,
   "id": "M8od4CPchEFE",
   "metadata": {
    "colab": {
     "base_uri": "https://localhost:8080/"
    },
    "id": "M8od4CPchEFE",
    "outputId": "1d84333c-74ea-4e31-ae43-73b2c11e9feb"
   },
   "outputs": [
    {
     "data": {
      "text/plain": [
       "{'The Importance of Technology in Education.': 12,\n",
       " 'In the modern era, technology has become an integral part of our daily lives, influencing various sectors, including education.': 46,\n",
       " 'The incorporation of technology into educational settings has transformed how students learn, teachers teach, and how educational content is delivered.': 37,\n",
       " 'This essay will explore the significant role of technology in education, discussing its benefits, challenges, and future implications.': 44}"
      ]
     },
     "execution_count": 6,
     "metadata": {},
     "output_type": "execute_result"
    }
   ],
   "source": [
    "# Fungsi untuk menghitung skor setiap kalimat berdasarkan frekuensi kata\n",
    "def score_sentences(sentences, frequency_table): # Fungsi ini menghitung skor setiap kalimat berdasarkan ...\n",
    "    sentence_scores = {} # Membuat dictionary untuk menyimpan skor setiap kalimat\n",
    "\n",
    "    # Menghitung skor setiap kalimat\n",
    "    for sentence in sentences: # Iterasi setiap kalimat dalam daftar kalimat\n",
    "        words = word_tokenize(sentence.lower()) # Tokenisasi kalimat menjadi kata-kata dan ubah ke huruf kecil\n",
    "        sentence_score = 0 # Inisialisasi skor kalimat\n",
    "\n",
    "        for word in words: # Iterasi setiap kata dalam kalimat\n",
    "            if word in frequency_table: # Jika kata ada dalam frequency_table (kata bukan stopword)\n",
    "                sentence_score += frequency_table[word] # Tambahkan frekuyensi kata ke skor kalimat\n",
    "\n",
    "        sentence_scores[sentence] = sentence_score # Menyimpan skor kalimat di dictionary dengan ...\n",
    "\n",
    "    return sentence_scores # Mengembalikan dictionary yang berisi kalimat dan skor masing-masing\n",
    "\n",
    "# Contoh Penggunaan\n",
    "sentence_scores = score_sentences(sentences, frequency_table)\n",
    "sentence_scores"
   ]
  },
  {
   "cell_type": "code",
   "execution_count": 7,
   "id": "uPqKb99anRW6",
   "metadata": {
    "colab": {
     "base_uri": "https://localhost:8080/"
    },
    "id": "uPqKb99anRW6",
    "outputId": "ffade63a-34c0-48da-9302-1039aa80af8f"
   },
   "outputs": [
    {
     "data": {
      "text/plain": [
       "40.5"
      ]
     },
     "execution_count": 7,
     "metadata": {},
     "output_type": "execute_result"
    }
   ],
   "source": [
    "# Fungsi untuk menghitung ambang batas\n",
    "def calculate_threshold(sentence_scores): # Fungsi ini menghitung ambang batas (threshold)\n",
    "    scores = list(sentence_scores.values()) # Mengambil nilai-nilai (skor) dari dictionary\n",
    "    if scores: # Memeriksa apakah ada skor yang tersedia\n",
    "        threshold = np.percentile(scores, 50) # Menghitung ambang batas sebagai nilai per??\n",
    "    else:\n",
    "        threshold = 0 # Jika tidak ada skor, atur ambang batas menjadi 0\n",
    "    return threshold # Mengembalikan ambang batas yang dihitung\n",
    "\n",
    "# Hitung ambang batas\n",
    "threshold = calculate_threshold(sentence_scores) # Memanggil fungsi calculate_threshold untuk ...\n",
    "threshold"
   ]
  },
  {
   "cell_type": "code",
   "execution_count": 8,
   "id": "9bGujwM9o6lf",
   "metadata": {
    "colab": {
     "base_uri": "https://localhost:8080/",
     "height": 70
    },
    "id": "9bGujwM9o6lf",
    "outputId": "6f975c17-ff73-421e-ca0d-3faf10745832"
   },
   "outputs": [
    {
     "data": {
      "text/plain": [
       "'In the modern era, technology has become an integral part of our daily lives, influencing various sectors, including education. This essay will explore the significant role of technology in education, discussing its benefits, challenges, and future implications. '"
      ]
     },
     "execution_count": 8,
     "metadata": {},
     "output_type": "execute_result"
    }
   ],
   "source": [
    "# Fungsi untuk menghasilkan ringkasan\n",
    "def generate_summary(sentence_scores, threshold): # Fungsi ini digunakan untuk menghitung ...\n",
    "    summary = \"\" # Inisialisasi variabel 'summary' untuk menampung kalimat-kalimat yang\n",
    "\n",
    "    # Pilih kalimat dengan skor di atas ambang batas\n",
    "    for sentence, score in sentence_scores.items(): # Iterasi melalui setiap kalimat\n",
    "        if score >= threshold: # Jika skor kalimat lebih besar dari atau sama dengan ...\n",
    "            summary += sentence + \" \" # Tambahkan kalimat tersebut ke ringkasan\n",
    "\n",
    "    return summary # Kembalikan ringkasan yang berisi kalimat-kalimat yang dipilih\n",
    "\n",
    "# Contoh penggunaan untuk menghasilkan ringkasan\n",
    "summary = generate_summary(sentence_scores, threshold) # Memanggil fungsi generate_summary ...\n",
    "summary"
   ]
  },
  {
   "cell_type": "code",
   "execution_count": 9,
   "id": "PDY1KJmvo6S4",
   "metadata": {
    "colab": {
     "base_uri": "https://localhost:8080/"
    },
    "id": "PDY1KJmvo6S4",
    "outputId": "47715520-1e83-433e-fe73-02ab01efe665"
   },
   "outputs": [
    {
     "data": {
      "text/plain": [
       "{'The Importance of Technology in Education.': {'importance': 1,\n",
       "  'technology': 1,\n",
       "  'education': 1,\n",
       "  '.': 1},\n",
       " 'In the modern era, technology has become an integral part of our daily lives, influencing various sectors, including education.': {'modern': 1,\n",
       "  'era': 1,\n",
       "  ',': 3,\n",
       "  'technology': 1,\n",
       "  'become': 1,\n",
       "  'integral': 1,\n",
       "  'part': 1,\n",
       "  'daily': 1,\n",
       "  'lives': 1,\n",
       "  'influencing': 1,\n",
       "  'various': 1,\n",
       "  'sectors': 1,\n",
       "  'including': 1,\n",
       "  'education': 1,\n",
       "  '.': 1},\n",
       " 'The incorporation of technology into educational settings has transformed how students learn, teachers teach, and how educational content is delivered.': {'incorporation': 1,\n",
       "  'technology': 1,\n",
       "  'educational': 2,\n",
       "  'settings': 1,\n",
       "  'transformed': 1,\n",
       "  'students': 1,\n",
       "  'learn': 1,\n",
       "  ',': 2,\n",
       "  'teachers': 1,\n",
       "  'teach': 1,\n",
       "  'content': 1,\n",
       "  'delivered': 1,\n",
       "  '.': 1},\n",
       " 'This essay will explore the significant role of technology in education, discussing its benefits, challenges, and future implications.': {'essay': 1,\n",
       "  'explore': 1,\n",
       "  'significant': 1,\n",
       "  'role': 1,\n",
       "  'technology': 1,\n",
       "  'education': 1,\n",
       "  ',': 3,\n",
       "  'discussing': 1,\n",
       "  'benefits': 1,\n",
       "  'challenges': 1,\n",
       "  'future': 1,\n",
       "  'implications': 1,\n",
       "  '.': 1}}"
      ]
     },
     "execution_count": 9,
     "metadata": {},
     "output_type": "execute_result"
    }
   ],
   "source": [
    "# Fungsi untuk menghitung frekuensi kata pada setiap kalimat\n",
    "def compute_word_frequencies(sentences): # Fungsi ini menghitung frekuensi kata ...\n",
    "    frequency_matrix = {} # Membuat dictionary untuk menyimpan frekuensi kata ...\n",
    "\n",
    "    for sentence in sentences: # Iterasi setiap kaliamt dalam daftar kalimat\n",
    "        frequency_table = compute_word_frequency(sentence) # Menghitung fekuensi ...\n",
    "        frequency_matrix[sentence] = frequency_table # Menyimpan frekuensi kata ...\n",
    "\n",
    "    return frequency_matrix # Mengembalikan dictionary yang berisi frekuensi kata ...\n",
    "\n",
    "# Hitung frekuensi kata pada setiap kalimat\n",
    "frequency_matrix = compute_word_frequencies(sentences) # Memanggil fungsi compute ...\n",
    "frequency_matrix"
   ]
  },
  {
   "cell_type": "code",
   "execution_count": 10,
   "id": "3yFW-G0Yqp0A",
   "metadata": {
    "colab": {
     "base_uri": "https://localhost:8080/"
    },
    "id": "3yFW-G0Yqp0A",
    "outputId": "9ef99f49-c219-40b9-da22-bf3f3d093e6e"
   },
   "outputs": [
    {
     "data": {
      "text/plain": [
       "{'The Importance of Technology in Education.': {'importance': 0.25,\n",
       "  'technology': 0.25,\n",
       "  'education': 0.25,\n",
       "  '.': 0.25},\n",
       " 'In the modern era, technology has become an integral part of our daily lives, influencing various sectors, including education.': {'modern': 0.058823529411764705,\n",
       "  'era': 0.058823529411764705,\n",
       "  ',': 0.17647058823529413,\n",
       "  'technology': 0.058823529411764705,\n",
       "  'become': 0.058823529411764705,\n",
       "  'integral': 0.058823529411764705,\n",
       "  'part': 0.058823529411764705,\n",
       "  'daily': 0.058823529411764705,\n",
       "  'lives': 0.058823529411764705,\n",
       "  'influencing': 0.058823529411764705,\n",
       "  'various': 0.058823529411764705,\n",
       "  'sectors': 0.058823529411764705,\n",
       "  'including': 0.058823529411764705,\n",
       "  'education': 0.058823529411764705,\n",
       "  '.': 0.058823529411764705},\n",
       " 'The incorporation of technology into educational settings has transformed how students learn, teachers teach, and how educational content is delivered.': {'incorporation': 0.06666666666666667,\n",
       "  'technology': 0.06666666666666667,\n",
       "  'educational': 0.13333333333333333,\n",
       "  'settings': 0.06666666666666667,\n",
       "  'transformed': 0.06666666666666667,\n",
       "  'students': 0.06666666666666667,\n",
       "  'learn': 0.06666666666666667,\n",
       "  ',': 0.13333333333333333,\n",
       "  'teachers': 0.06666666666666667,\n",
       "  'teach': 0.06666666666666667,\n",
       "  'content': 0.06666666666666667,\n",
       "  'delivered': 0.06666666666666667,\n",
       "  '.': 0.06666666666666667},\n",
       " 'This essay will explore the significant role of technology in education, discussing its benefits, challenges, and future implications.': {'essay': 0.06666666666666667,\n",
       "  'explore': 0.06666666666666667,\n",
       "  'significant': 0.06666666666666667,\n",
       "  'role': 0.06666666666666667,\n",
       "  'technology': 0.06666666666666667,\n",
       "  'education': 0.06666666666666667,\n",
       "  ',': 0.2,\n",
       "  'discussing': 0.06666666666666667,\n",
       "  'benefits': 0.06666666666666667,\n",
       "  'challenges': 0.06666666666666667,\n",
       "  'future': 0.06666666666666667,\n",
       "  'implications': 0.06666666666666667,\n",
       "  '.': 0.06666666666666667}}"
      ]
     },
     "execution_count": 10,
     "metadata": {},
     "output_type": "execute_result"
    }
   ],
   "source": [
    "# Fungsi untuk menghitung TF (Term Frequency) untuk setiap kata\n",
    "def compute_tf(frequency_matrix): # Fungsi ini menghitung Term Frequency (TF)\n",
    "    tf_matrix = {} # Membuat dictionary untuk menyimpan TF per kalimat\n",
    "\n",
    "    for sentence, freq_table in frequency_matrix.items(): # Iterasi setap kalimat\n",
    "        tf_table = {} # Membuat dictionary baru untuk menyimpan TF per kata dalam ...\n",
    "        word_count = sum(freq_table.values()) # Menghitung total jumlah kata dalam ...\n",
    "\n",
    "        # Hitung TF untuk setiap kata\n",
    "        for word, count in freq_table.items(): # Iterasi setiap kata dan frekuensi ...\n",
    "            tf_table[word] = count / word_count if word_count > 0 else 0 # TF di...\n",
    "\n",
    "        tf_matrix[sentence] = tf_table # Menyimpan TF untuk kalimat dalam dictionary ...\n",
    "\n",
    "    return tf_matrix # Mengembalikan dictionary yang berisi TF per kalimat\n",
    "\n",
    "# Hitung TF\n",
    "tf_matrix = compute_tf(frequency_matrix) # Memanggil fungsi compute_tf untuk ...\n",
    "tf_matrix"
   ]
  },
  {
   "cell_type": "code",
   "execution_count": 11,
   "id": "Uc7zTBzyqpuf",
   "metadata": {
    "colab": {
     "base_uri": "https://localhost:8080/"
    },
    "id": "Uc7zTBzyqpuf",
    "outputId": "65f3c21d-b23e-4be7-fb35-da1caade9a8a"
   },
   "outputs": [
    {
     "data": {
      "text/plain": [
       "{'importance': 1,\n",
       " 'technology': 4,\n",
       " 'education': 3,\n",
       " '.': 4,\n",
       " 'modern': 1,\n",
       " 'era': 1,\n",
       " ',': 3,\n",
       " 'become': 1,\n",
       " 'integral': 1,\n",
       " 'part': 1,\n",
       " 'daily': 1,\n",
       " 'lives': 1,\n",
       " 'influencing': 1,\n",
       " 'various': 1,\n",
       " 'sectors': 1,\n",
       " 'including': 1,\n",
       " 'incorporation': 1,\n",
       " 'educational': 1,\n",
       " 'settings': 1,\n",
       " 'transformed': 1,\n",
       " 'students': 1,\n",
       " 'learn': 1,\n",
       " 'teachers': 1,\n",
       " 'teach': 1,\n",
       " 'content': 1,\n",
       " 'delivered': 1,\n",
       " 'essay': 1,\n",
       " 'explore': 1,\n",
       " 'significant': 1,\n",
       " 'role': 1,\n",
       " 'discussing': 1,\n",
       " 'benefits': 1,\n",
       " 'challenges': 1,\n",
       " 'future': 1,\n",
       " 'implications': 1}"
      ]
     },
     "execution_count": 11,
     "metadata": {},
     "output_type": "execute_result"
    }
   ],
   "source": [
    "# Fungsi untuk menghitung jumlah dokumen per kata\n",
    "def compute_documents_per_word(frequency_matrix): # Fungsi ini menghitung berapa banyak dokumen\n",
    "    doc_per_word = {} # Membuat dictionary untuk menyimpan jumlah dokumen (kalimat) yang menggunakan ...\n",
    "\n",
    "    for freq_table in frequency_matrix.values(): # Iterasi melalui setiap tabel frekuensi kata ...\n",
    "        for word in freq_table: # Iterasi setiap kata dalam tabel frekuensi kalimat\n",
    "            if word in doc_per_word: # Jika kata sudah ada dalam doc_per_word, tambahkan 1 ke ...\n",
    "                doc_per_word[word] += 1\n",
    "            else:\n",
    "                doc_per_word[word] = 1 # Jika kata belum ada dalam doc_per_word, set jumlahnya ...\n",
    "\n",
    "    return doc_per_word # Mengembalikan dictionary yang berisi jumlah dokumen per kata\n",
    "\n",
    "# Hitung jumlah dokumen per kata\n",
    "doc_per_word = compute_documents_per_word(frequency_matrix) # Memanggil fungsi untuk menghitung ...\n",
    "doc_per_word"
   ]
  },
  {
   "cell_type": "code",
   "execution_count": 12,
   "id": "biIh9Rzkomho",
   "metadata": {
    "id": "biIh9Rzkomho"
   },
   "outputs": [],
   "source": [
    "# Fungsi untuk menghitung IDF (Inverse Document Frequency)\n",
    "def compute_idf(frequency_matrix, doc_per_word, total_docs): # Fungsi ini menghitung IDF untuk ...\n",
    "    idf_matrix = {} # Membuat dictionary untuk menyimpan IDF per kalimat\n",
    "\n",
    "    for sentence, freq_table in frequency_matrix.items(): # Iterasi setiap kalimat dan frekuensi ...\n",
    "        idf_table = {} # Membuat dictionary baru untuk menyimpan IDF per kata dalam kalimat\n",
    "\n",
    "        for word in freq_table: # Iterasi setiap kata dalam total frekuensi kalimat\n",
    "            # Hitung IDF dengan rumus Log(total_docs / (dokumen_berisi_kata + 1))\n",
    "            idf_table[word] = log(total_docs / (doc_per_word[word] + 1)) # IDF dihitung dengan rumus ...\n",
    "\n",
    "        idf_matrix[sentence] = idf_table # Menyimpan IDF untuk kalimat dalam dictionary idF_matrix\n",
    "\n",
    "    return idf_matrix # Mengembalikan dictionary yang berisi IDF per kalimat\n",
    "\n",
    "# Hitung IDF\n",
    "total_docs = len(sentences) # Menghitung jumlah total dokumen (kalimat) dalam teks\n",
    "idf_matrix = compute_idf(frequency_matrix, doc_per_word, total_docs) # Memanggil fungsi compute_idf ..."
   ]
  },
  {
   "cell_type": "code",
   "execution_count": 13,
   "id": "JPkxImC7W178",
   "metadata": {
    "colab": {
     "base_uri": "https://localhost:8080/"
    },
    "id": "JPkxImC7W178",
    "outputId": "761b3f30-8b57-41f3-e1dc-65b6e8076ca5"
   },
   "outputs": [
    {
     "data": {
      "text/plain": [
       "4"
      ]
     },
     "execution_count": 13,
     "metadata": {},
     "output_type": "execute_result"
    }
   ],
   "source": [
    "total_docs"
   ]
  },
  {
   "cell_type": "code",
   "execution_count": 14,
   "id": "p2wNHpREW27E",
   "metadata": {
    "colab": {
     "base_uri": "https://localhost:8080/"
    },
    "id": "p2wNHpREW27E",
    "outputId": "a2c2a582-6cb9-4486-9ed1-5ffabc93c3ba"
   },
   "outputs": [
    {
     "data": {
      "text/plain": [
       "{'The Importance of Technology in Education.': {'importance': 0.6931471805599453,\n",
       "  'technology': -0.2231435513142097,\n",
       "  'education': 0.0,\n",
       "  '.': -0.2231435513142097},\n",
       " 'In the modern era, technology has become an integral part of our daily lives, influencing various sectors, including education.': {'modern': 0.6931471805599453,\n",
       "  'era': 0.6931471805599453,\n",
       "  ',': 0.0,\n",
       "  'technology': -0.2231435513142097,\n",
       "  'become': 0.6931471805599453,\n",
       "  'integral': 0.6931471805599453,\n",
       "  'part': 0.6931471805599453,\n",
       "  'daily': 0.6931471805599453,\n",
       "  'lives': 0.6931471805599453,\n",
       "  'influencing': 0.6931471805599453,\n",
       "  'various': 0.6931471805599453,\n",
       "  'sectors': 0.6931471805599453,\n",
       "  'including': 0.6931471805599453,\n",
       "  'education': 0.0,\n",
       "  '.': -0.2231435513142097},\n",
       " 'The incorporation of technology into educational settings has transformed how students learn, teachers teach, and how educational content is delivered.': {'incorporation': 0.6931471805599453,\n",
       "  'technology': -0.2231435513142097,\n",
       "  'educational': 0.6931471805599453,\n",
       "  'settings': 0.6931471805599453,\n",
       "  'transformed': 0.6931471805599453,\n",
       "  'students': 0.6931471805599453,\n",
       "  'learn': 0.6931471805599453,\n",
       "  ',': 0.0,\n",
       "  'teachers': 0.6931471805599453,\n",
       "  'teach': 0.6931471805599453,\n",
       "  'content': 0.6931471805599453,\n",
       "  'delivered': 0.6931471805599453,\n",
       "  '.': -0.2231435513142097},\n",
       " 'This essay will explore the significant role of technology in education, discussing its benefits, challenges, and future implications.': {'essay': 0.6931471805599453,\n",
       "  'explore': 0.6931471805599453,\n",
       "  'significant': 0.6931471805599453,\n",
       "  'role': 0.6931471805599453,\n",
       "  'technology': -0.2231435513142097,\n",
       "  'education': 0.0,\n",
       "  ',': 0.0,\n",
       "  'discussing': 0.6931471805599453,\n",
       "  'benefits': 0.6931471805599453,\n",
       "  'challenges': 0.6931471805599453,\n",
       "  'future': 0.6931471805599453,\n",
       "  'implications': 0.6931471805599453,\n",
       "  '.': -0.2231435513142097}}"
      ]
     },
     "execution_count": 14,
     "metadata": {},
     "output_type": "execute_result"
    }
   ],
   "source": [
    "idf_matrix"
   ]
  },
  {
   "cell_type": "code",
   "execution_count": 15,
   "id": "khHE5g0Pw8do",
   "metadata": {
    "colab": {
     "base_uri": "https://localhost:8080/"
    },
    "id": "khHE5g0Pw8do",
    "outputId": "7f45cfcb-0fc5-4a56-d788-5cfcc02557a5"
   },
   "outputs": [
    {
     "data": {
      "text/plain": [
       "{'The Importance of Technology in Education.': {'importance': 0.17328679513998632,\n",
       "  'technology': -0.05578588782855243,\n",
       "  'education': 0.0,\n",
       "  '.': -0.05578588782855243},\n",
       " 'In the modern era, technology has become an integral part of our daily lives, influencing various sectors, including education.': {'modern': 0.04077336356234972,\n",
       "  'era': 0.04077336356234972,\n",
       "  ',': 0.0,\n",
       "  'technology': -0.013126091253777042,\n",
       "  'become': 0.04077336356234972,\n",
       "  'integral': 0.04077336356234972,\n",
       "  'part': 0.04077336356234972,\n",
       "  'daily': 0.04077336356234972,\n",
       "  'lives': 0.04077336356234972,\n",
       "  'influencing': 0.04077336356234972,\n",
       "  'various': 0.04077336356234972,\n",
       "  'sectors': 0.04077336356234972,\n",
       "  'including': 0.04077336356234972,\n",
       "  'education': 0.0,\n",
       "  '.': -0.013126091253777042},\n",
       " 'The incorporation of technology into educational settings has transformed how students learn, teachers teach, and how educational content is delivered.': {'incorporation': 0.046209812037329684,\n",
       "  'technology': -0.014876236754280648,\n",
       "  'educational': 0.09241962407465937,\n",
       "  'settings': 0.046209812037329684,\n",
       "  'transformed': 0.046209812037329684,\n",
       "  'students': 0.046209812037329684,\n",
       "  'learn': 0.046209812037329684,\n",
       "  ',': 0.0,\n",
       "  'teachers': 0.046209812037329684,\n",
       "  'teach': 0.046209812037329684,\n",
       "  'content': 0.046209812037329684,\n",
       "  'delivered': 0.046209812037329684,\n",
       "  '.': -0.014876236754280648},\n",
       " 'This essay will explore the significant role of technology in education, discussing its benefits, challenges, and future implications.': {'essay': 0.046209812037329684,\n",
       "  'explore': 0.046209812037329684,\n",
       "  'significant': 0.046209812037329684,\n",
       "  'role': 0.046209812037329684,\n",
       "  'technology': -0.014876236754280648,\n",
       "  'education': 0.0,\n",
       "  ',': 0.0,\n",
       "  'discussing': 0.046209812037329684,\n",
       "  'benefits': 0.046209812037329684,\n",
       "  'challenges': 0.046209812037329684,\n",
       "  'future': 0.046209812037329684,\n",
       "  'implications': 0.046209812037329684,\n",
       "  '.': -0.014876236754280648}}"
      ]
     },
     "execution_count": 15,
     "metadata": {},
     "output_type": "execute_result"
    }
   ],
   "source": [
    "# Fungsi untuk menghitung TF-IDF (Term Frequency - Inverse Document Frequency)\n",
    "def compute_tf_idf(tf_matrix, idf_matrix): # Fungsi ini menghitung nilai TF-IDF untuk setiap kata ...\n",
    "    tf_idf_matrix = {} # Membuat dictionary untuk menyimpan hasil TF-IDF per kalimat\n",
    "\n",
    "    # Kalikan TF dengan IDF untuk setiap kalimat\n",
    "    for sentence, tf_table in tf_matrix.items(): # Iterasi setiap kalimat dan tabel TF kata-katanya\n",
    "        tf_idf_table = {} # Membuat dictionary untuk menyimpan TF-IDF per kata dalam kalimat\n",
    "\n",
    "        for word, tf_value in tf_table.items(): # Iterasi setiap kata dan nilai TF dalam kalimat\n",
    "            tf_idf_table[word] = tf_value * idf_matrix[sentence].get(word, 0) # Kalikan TF dengan\n",
    "\n",
    "        tf_idf_matrix[sentence] = tf_idf_table # Menyimpan hasil TF-IDF untuk kalimat dalam dictionary ...\n",
    "\n",
    "    return tf_idf_matrix # Mengembalikan dictionary yang berisi nilai TF-IDF per kalimat\n",
    "\n",
    "# Hitung TF-IDF\n",
    "tf_idf_matrix = compute_tf_idf(tf_matrix, idf_matrix) # Memanggil fungsi compute_tf_idf untuk ...\n",
    "tf_idf_matrix"
   ]
  },
  {
   "cell_type": "code",
   "execution_count": 16,
   "id": "x3PvctpHxlfX",
   "metadata": {
    "colab": {
     "base_uri": "https://localhost:8080/"
    },
    "id": "x3PvctpHxlfX",
    "outputId": "e9934f9b-5ee9-4096-d090-ea998925db03"
   },
   "outputs": [
    {
     "data": {
      "text/plain": [
       "{'The Importance of Technology in Education.': 0.06171501948288147,\n",
       " 'In the modern era, technology has become an integral part of our daily lives, influencing various sectors, including education.': 0.42225481667829284,\n",
       " 'The incorporation of technology into educational settings has transformed how students learn, teachers teach, and how educational content is delivered.': 0.47855545890206524,\n",
       " 'This essay will explore the significant role of technology in education, discussing its benefits, challenges, and future implications.': 0.3861358348274059}"
      ]
     },
     "execution_count": 16,
     "metadata": {},
     "output_type": "execute_result"
    }
   ],
   "source": [
    "# Fungsi untuk menghitung skor setiap kalimat menggunakan TF-IDF\n",
    "def score_sentences_tfidf(tf_idf_matrix): # Fungsi ini menghitung skor kalimat berdasarkan TF-IDF\n",
    "    sentence_scores = {} # Membuat dictionary untuk menyimpan skor kalimat\n",
    "\n",
    "    # Hitung skor setiap kalimat dengan menjumlahkan TF-IDF setiap kata\n",
    "    for sentence, tf_idf_table in tf_idf_matrix.items(): # Iterasi setiap kalimat dan nilai TF-IDF ...\n",
    "        sentence_scores[sentence] = sum(tf_idf_table.values()) # Menjumlahkan nilai TF-IDF ...\n",
    "\n",
    "    return sentence_scores # Mengembalikan dictionary yang berisi skor setiap kalimat\n",
    "\n",
    "# Hitung skor kalimat dengan TF-IDF\n",
    "sentence_scores_tfidf = score_sentences_tfidf(tf_idf_matrix) # Memanggil fungsi score_sentences_tfidf\n",
    "sentence_scores_tfidf"
   ]
  },
  {
   "cell_type": "code",
   "execution_count": 17,
   "id": "eX02bEhNy5ne",
   "metadata": {
    "colab": {
     "base_uri": "https://localhost:8080/"
    },
    "id": "eX02bEhNy5ne",
    "outputId": "b272cec6-fbfa-4476-a689-fd7373bb3808"
   },
   "outputs": [
    {
     "data": {
      "text/plain": [
       "0.40419532575284933"
      ]
     },
     "execution_count": 17,
     "metadata": {},
     "output_type": "execute_result"
    }
   ],
   "source": [
    "# Menghitung ambang batas untuk TF-IDF\n",
    "threshold_tfidf = calculate_threshold(sentence_scores_tfidf) # Menghitung ambang batas (threshold) berdasarkan skor kalimat\n",
    "threshold_tfidf # Menampilkan ambang batas yang dihitung berdasarkan median atau persentil dari skor kalimat"
   ]
  },
  {
   "cell_type": "code",
   "execution_count": 18,
   "id": "rNDEMmCH0pbv",
   "metadata": {
    "colab": {
     "base_uri": "https://localhost:8080/"
    },
    "id": "rNDEMmCH0pbv",
    "outputId": "bb5fd67e-3544-4ce9-ff0c-ba5ad9acd03f"
   },
   "outputs": [
    {
     "name": "stdout",
     "output_type": "stream",
     "text": [
      "Ringkasan dengan TF-IDF:\n",
      " In the modern era, technology has become an integral part of our daily lives, influencing various sectors, including education. The incorporation of technology into educational settings has transformed how students learn, teachers teach, and how educational content is delivered. \n"
     ]
    }
   ],
   "source": [
    "# Membuat ringkasan menggunakan TF-IDF\n",
    "summary_tfidf = generate_summary(sentence_scores_tfidf, threshold_tfidf) # Menghasilkan ringkasan ...\n",
    "\n",
    "print(\"Ringkasan dengan TF-IDF:\\n\", summary_tfidf) # Menampilkan ringkasan teks yang telah diplih ..."
   ]
  }
 ],
 "metadata": {
  "colab": {
   "provenance": []
  },
  "kernelspec": {
   "display_name": "Python 3 (ipykernel)",
   "language": "python",
   "name": "python3"
  },
  "language_info": {
   "codemirror_mode": {
    "name": "ipython",
    "version": 3
   },
   "file_extension": ".py",
   "mimetype": "text/x-python",
   "name": "python",
   "nbconvert_exporter": "python",
   "pygments_lexer": "ipython3",
   "version": "3.12.4"
  }
 },
 "nbformat": 4,
 "nbformat_minor": 5
}
